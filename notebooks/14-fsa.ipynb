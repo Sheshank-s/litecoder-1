{
 "cells": [
  {
   "cell_type": "code",
   "execution_count": 4,
   "metadata": {},
   "outputs": [],
   "source": [
    "import re\n",
    "\n",
    "import networkx as nx"
   ]
  },
  {
   "cell_type": "code",
   "execution_count": 10,
   "metadata": {},
   "outputs": [],
   "source": [
    "import matplotlib as mpl\n",
    "import matplotlib.pyplot as plt\n",
    "\n",
    "%matplotlib inline\n",
    "mpl.style.use('seaborn-muted')"
   ]
  },
  {
   "cell_type": "code",
   "execution_count": 5,
   "metadata": {},
   "outputs": [],
   "source": [
    "class Token:\n",
    "    \n",
    "    def __init__(self, token, ignore_case=True, scrub_re='\\.'):\n",
    "        \n",
    "        self.ignore_case = ignore_case\n",
    "        self.scrub_re = scrub_re\n",
    "        \n",
    "        self.token = token\n",
    "        self.token_clean = self._clean(token)\n",
    "        \n",
    "    def _clean(self, token):\n",
    "        \n",
    "        if self.ignore_case:\n",
    "            token = token.lower()\n",
    "            \n",
    "        if self.scrub_re:\n",
    "            token = re.sub(self.scrub_re, '', token)\n",
    "            \n",
    "        return token\n",
    "    \n",
    "    def __call__(self, input_token):\n",
    "        return self._clean(input_token) == self.token_clean\n",
    "    \n",
    "    def __repr__(self):\n",
    "        return '%s<%s>' % (self.__class__.__name__, self.token_clean)"
   ]
  },
  {
   "cell_type": "code",
   "execution_count": 8,
   "metadata": {},
   "outputs": [],
   "source": [
    "g = nx.DiGraph()\n",
    "g.add_edge(0, 1, accept_fn=Token('South'))\n",
    "g.add_edge(1, 2, accept_fn=Token('Lake'))\n",
    "g.add_edge(2, 3, accept_fn=Token('Tahoe'))\n",
    "g.add_edge(3, 4, accept_fn=Token(','))\n",
    "g.add_edge(4, 5)\n",
    "g.add_edge(3, 5)\n",
    "g.add_edge(5, 6, accept_fn=Token('CA'))\n",
    "g.add_edge(5, 7, accept_fn=Token('California'))"
   ]
  },
  {
   "cell_type": "code",
   "execution_count": 24,
   "metadata": {},
   "outputs": [
    {
     "data": {
      "text/plain": [
       "AtlasView({4: {'accept_fn': Token<,>}, 5: {}})"
      ]
     },
     "execution_count": 24,
     "metadata": {},
     "output_type": "execute_result"
    }
   ],
   "source": [
    "g[3]"
   ]
  },
  {
   "cell_type": "code",
   "execution_count": 51,
   "metadata": {},
   "outputs": [
    {
     "data": {
      "text/plain": [
       "AtlasView({6: {'accept_fn': Token<ca>}, 7: {'accept_fn': Token<california>}})"
      ]
     },
     "execution_count": 51,
     "metadata": {},
     "output_type": "execute_result"
    }
   ],
   "source": [
    "g[5]"
   ]
  },
  {
   "cell_type": "code",
   "execution_count": 54,
   "metadata": {},
   "outputs": [
    {
     "data": {
      "text/plain": [
       "[(3, [4, 5]), (5, [6, 7])]"
      ]
     },
     "execution_count": 54,
     "metadata": {},
     "output_type": "execute_result"
    }
   ],
   "source": [
    "list(nx.bfs_successors(g, 3))"
   ]
  },
  {
   "cell_type": "code",
   "execution_count": 93,
   "metadata": {},
   "outputs": [],
   "source": [
    "class Matcher:\n",
    "    \n",
    "    def __init__(self, fsa):\n",
    "        self.fsa = fsa\n",
    "        self._states = set([0])\n",
    "        \n",
    "    def __call__(self, token):\n",
    "        \n",
    "        accepted = set()\n",
    "        epsilons = set()\n",
    "        for state in self._states:\n",
    "            for d_state, attrs in g[state].items():\n",
    "            \n",
    "                accept_fn = attrs.get('accept_fn')\n",
    "\n",
    "                if accept_fn:\n",
    "                    if accept_fn(token):\n",
    "                        accepted.add(d_state)\n",
    "                        \n",
    "                else:\n",
    "                    epsilons.add(d_state)\n",
    "                        \n",
    "        if accepted:\n",
    "            self._states = accepted\n",
    "            return True\n",
    "        \n",
    "        elif epsilons:\n",
    "            self._states = epsilons\n",
    "            return self(token)\n",
    "\n",
    "        return False"
   ]
  },
  {
   "cell_type": "code",
   "execution_count": 94,
   "metadata": {},
   "outputs": [
    {
     "name": "stdout",
     "output_type": "stream",
     "text": [
      "True\n",
      "True\n",
      "True\n",
      "True\n",
      "True\n"
     ]
    }
   ],
   "source": [
    "m = Matcher(g)\n",
    "print(m('South'))\n",
    "print(m('Lake'))\n",
    "print(m('Tahoe'))\n",
    "print(m(','))\n",
    "print(m('CA'))"
   ]
  },
  {
   "cell_type": "code",
   "execution_count": null,
   "metadata": {},
   "outputs": [],
   "source": []
  }
 ],
 "metadata": {
  "kernelspec": {
   "display_name": "Python 3",
   "language": "python",
   "name": "python3"
  },
  "language_info": {
   "codemirror_mode": {
    "name": "ipython",
    "version": 3
   },
   "file_extension": ".py",
   "mimetype": "text/x-python",
   "name": "python",
   "nbconvert_exporter": "python",
   "pygments_lexer": "ipython3",
   "version": "3.6.5"
  }
 },
 "nbformat": 4,
 "nbformat_minor": 2
}
