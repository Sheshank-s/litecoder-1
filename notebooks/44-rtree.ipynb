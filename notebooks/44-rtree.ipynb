{
 "cells": [
  {
   "cell_type": "code",
   "execution_count": 10,
   "metadata": {},
   "outputs": [],
   "source": [
    "import geopandas\n",
    "import pandas as pd\n",
    "import numpy as np\n",
    "\n",
    "from tqdm import tqdm\n",
    "from scipy.spatial import cKDTree\n",
    "\n",
    "from shapely.geometry import Point, box\n",
    "from shapely.strtree import STRtree\n",
    "from shapely.ops import nearest_points\n",
    "\n",
    "from litecoder.models import WOFLocality"
   ]
  },
  {
   "cell_type": "code",
   "execution_count": 2,
   "metadata": {},
   "outputs": [],
   "source": [
    "import matplotlib as mpl\n",
    "import matplotlib.pyplot as plt\n",
    "\n",
    "%matplotlib inline\n",
    "mpl.style.use('seaborn-muted')"
   ]
  },
  {
   "cell_type": "code",
   "execution_count": 16,
   "metadata": {},
   "outputs": [],
   "source": [
    "rows = []\n",
    "for loc in WOFLocality.query:\n",
    "    rows.append((loc.wof_id, loc.name, loc.us_state_abbr, loc.longitude, loc.latitude, loc.population))\n",
    "    \n",
    "df = pd.DataFrame(rows, columns=('wof_id', 'name', 'state', 'longitude', 'latitude', 'population'))"
   ]
  },
  {
   "cell_type": "code",
   "execution_count": 17,
   "metadata": {},
   "outputs": [],
   "source": [
    "df['point'] = list(zip(df.longitude, df.latitude))\n",
    "df['point'] = df['point'].apply(Point)"
   ]
  },
  {
   "cell_type": "code",
   "execution_count": 18,
   "metadata": {},
   "outputs": [],
   "source": [
    "gdf = geopandas.GeoDataFrame(df, geometry='point')"
   ]
  },
  {
   "cell_type": "code",
   "execution_count": 19,
   "metadata": {},
   "outputs": [
    {
     "data": {
      "text/html": [
       "<div>\n",
       "<style scoped>\n",
       "    .dataframe tbody tr th:only-of-type {\n",
       "        vertical-align: middle;\n",
       "    }\n",
       "\n",
       "    .dataframe tbody tr th {\n",
       "        vertical-align: top;\n",
       "    }\n",
       "\n",
       "    .dataframe thead th {\n",
       "        text-align: right;\n",
       "    }\n",
       "</style>\n",
       "<table border=\"1\" class=\"dataframe\">\n",
       "  <thead>\n",
       "    <tr style=\"text-align: right;\">\n",
       "      <th></th>\n",
       "      <th>wof_id</th>\n",
       "      <th>name</th>\n",
       "      <th>state</th>\n",
       "      <th>longitude</th>\n",
       "      <th>latitude</th>\n",
       "      <th>population</th>\n",
       "      <th>point</th>\n",
       "    </tr>\n",
       "  </thead>\n",
       "  <tbody>\n",
       "    <tr>\n",
       "      <th>0</th>\n",
       "      <td>85897411</td>\n",
       "      <td>Valley Head</td>\n",
       "      <td>AL</td>\n",
       "      <td>-85.621354</td>\n",
       "      <td>34.557517</td>\n",
       "      <td>558.0</td>\n",
       "      <td>POINT (-85.621354 34.557517)</td>\n",
       "    </tr>\n",
       "    <tr>\n",
       "      <th>1</th>\n",
       "      <td>85897417</td>\n",
       "      <td>Sylvania</td>\n",
       "      <td>AL</td>\n",
       "      <td>-85.804804</td>\n",
       "      <td>34.562109</td>\n",
       "      <td>1837.0</td>\n",
       "      <td>POINT (-85.804804 34.562109)</td>\n",
       "    </tr>\n",
       "    <tr>\n",
       "      <th>2</th>\n",
       "      <td>85897421</td>\n",
       "      <td>Shiloh</td>\n",
       "      <td>AL</td>\n",
       "      <td>-85.877994</td>\n",
       "      <td>34.463763</td>\n",
       "      <td>274.0</td>\n",
       "      <td>POINT (-85.877994 34.463763)</td>\n",
       "    </tr>\n",
       "    <tr>\n",
       "      <th>3</th>\n",
       "      <td>85897425</td>\n",
       "      <td>Rainsville</td>\n",
       "      <td>AL</td>\n",
       "      <td>-85.843520</td>\n",
       "      <td>34.493782</td>\n",
       "      <td>4948.0</td>\n",
       "      <td>POINT (-85.84352 34.493782)</td>\n",
       "    </tr>\n",
       "    <tr>\n",
       "      <th>4</th>\n",
       "      <td>85897429</td>\n",
       "      <td>Powell</td>\n",
       "      <td>AL</td>\n",
       "      <td>-85.897879</td>\n",
       "      <td>34.532534</td>\n",
       "      <td>NaN</td>\n",
       "      <td>POINT (-85.897879 34.532534)</td>\n",
       "    </tr>\n",
       "    <tr>\n",
       "      <th>5</th>\n",
       "      <td>85897435</td>\n",
       "      <td>Pine Ridge</td>\n",
       "      <td>AL</td>\n",
       "      <td>-85.780673</td>\n",
       "      <td>34.448890</td>\n",
       "      <td>282.0</td>\n",
       "      <td>POINT (-85.78067299999999 34.44889)</td>\n",
       "    </tr>\n",
       "    <tr>\n",
       "      <th>6</th>\n",
       "      <td>85897439</td>\n",
       "      <td>Mentone</td>\n",
       "      <td>AL</td>\n",
       "      <td>-85.584222</td>\n",
       "      <td>34.566291</td>\n",
       "      <td>360.0</td>\n",
       "      <td>POINT (-85.584222 34.566291)</td>\n",
       "    </tr>\n",
       "    <tr>\n",
       "      <th>7</th>\n",
       "      <td>85897443</td>\n",
       "      <td>Lakeview</td>\n",
       "      <td>AL</td>\n",
       "      <td>-85.975703</td>\n",
       "      <td>34.391629</td>\n",
       "      <td>143.0</td>\n",
       "      <td>POINT (-85.975703 34.391629)</td>\n",
       "    </tr>\n",
       "    <tr>\n",
       "      <th>8</th>\n",
       "      <td>85897447</td>\n",
       "      <td>Tuscumbia</td>\n",
       "      <td>AL</td>\n",
       "      <td>-87.703381</td>\n",
       "      <td>34.721209</td>\n",
       "      <td>8423.0</td>\n",
       "      <td>POINT (-87.70338099999999 34.721209)</td>\n",
       "    </tr>\n",
       "    <tr>\n",
       "      <th>9</th>\n",
       "      <td>85897453</td>\n",
       "      <td>Geraldine</td>\n",
       "      <td>AL</td>\n",
       "      <td>-86.003706</td>\n",
       "      <td>34.357721</td>\n",
       "      <td>896.0</td>\n",
       "      <td>POINT (-86.00370599999999 34.357721)</td>\n",
       "    </tr>\n",
       "  </tbody>\n",
       "</table>\n",
       "</div>"
      ],
      "text/plain": [
       "     wof_id         name state  longitude   latitude  population  \\\n",
       "0  85897411  Valley Head    AL -85.621354  34.557517       558.0   \n",
       "1  85897417     Sylvania    AL -85.804804  34.562109      1837.0   \n",
       "2  85897421       Shiloh    AL -85.877994  34.463763       274.0   \n",
       "3  85897425   Rainsville    AL -85.843520  34.493782      4948.0   \n",
       "4  85897429       Powell    AL -85.897879  34.532534         NaN   \n",
       "5  85897435   Pine Ridge    AL -85.780673  34.448890       282.0   \n",
       "6  85897439      Mentone    AL -85.584222  34.566291       360.0   \n",
       "7  85897443     Lakeview    AL -85.975703  34.391629       143.0   \n",
       "8  85897447    Tuscumbia    AL -87.703381  34.721209      8423.0   \n",
       "9  85897453    Geraldine    AL -86.003706  34.357721       896.0   \n",
       "\n",
       "                                  point  \n",
       "0          POINT (-85.621354 34.557517)  \n",
       "1          POINT (-85.804804 34.562109)  \n",
       "2          POINT (-85.877994 34.463763)  \n",
       "3           POINT (-85.84352 34.493782)  \n",
       "4          POINT (-85.897879 34.532534)  \n",
       "5   POINT (-85.78067299999999 34.44889)  \n",
       "6          POINT (-85.584222 34.566291)  \n",
       "7          POINT (-85.975703 34.391629)  \n",
       "8  POINT (-87.70338099999999 34.721209)  \n",
       "9  POINT (-86.00370599999999 34.357721)  "
      ]
     },
     "execution_count": 19,
     "metadata": {},
     "output_type": "execute_result"
    }
   ],
   "source": [
    "gdf.head(10)"
   ]
  },
  {
   "cell_type": "code",
   "execution_count": 20,
   "metadata": {},
   "outputs": [],
   "source": [
    "gdf.population = gdf.population.fillna(gdf.population.median())"
   ]
  },
  {
   "cell_type": "code",
   "execution_count": 21,
   "metadata": {},
   "outputs": [
    {
     "name": "stdout",
     "output_type": "stream",
     "text": [
      "3100\n"
     ]
    },
    {
     "data": {
      "image/png": "[encoded data removed]",
      "text/plain": [
       "<Figure size 1440x1440 with 1 Axes>"
      ]
     },
     "metadata": {},
     "output_type": "display_data"
    }
   ],
   "source": [
    "state = 'CA'\n",
    "\n",
    "states = geopandas.read_file('../data/cb_2017_us_state_5m/cb_2017_us_state_5m.shp')\n",
    "\n",
    "ax = states[states.STUSPS==state].plot(color='white', edgecolor='black', figsize=(20,20))\n",
    "\n",
    "sdf = gdf[gdf.state==state]\n",
    "print(len(sdf))\n",
    "\n",
    "sdf.plot(ax=ax, color='blue', markersize=sdf['population'] / 200, alpha=0.3)\n",
    "plt.show()"
   ]
  },
  {
   "cell_type": "code",
   "execution_count": 36,
   "metadata": {},
   "outputs": [],
   "source": [
    "rows = WOFLocality.query.filter(WOFLocality.country_iso=='US').all()\n",
    "id_row = {i: row for i, row in enumerate(rows)}"
   ]
  },
  {
   "cell_type": "code",
   "execution_count": 37,
   "metadata": {},
   "outputs": [],
   "source": [
    "data = [[r.longitude, r.latitude] for r in rows]"
   ]
  },
  {
   "cell_type": "code",
   "execution_count": 38,
   "metadata": {},
   "outputs": [],
   "source": [
    "idx = cKDTree(data)"
   ]
  },
  {
   "cell_type": "code",
   "execution_count": 39,
   "metadata": {},
   "outputs": [
    {
     "data": {
      "text/plain": [
       "202066"
      ]
     },
     "execution_count": 39,
     "metadata": {},
     "output_type": "execute_result"
    }
   ],
   "source": [
    "len(idx.query_pairs(0.1))"
   ]
  },
  {
   "cell_type": "code",
   "execution_count": 40,
   "metadata": {},
   "outputs": [
    {
     "name": "stderr",
     "output_type": "stream",
     "text": [
      "100%|██████████| 202066/202066 [00:00<00:00, 269849.82it/s]\n"
     ]
    }
   ],
   "source": [
    "dupes = set()\n",
    "for id1, id2 in tqdm(idx.query_pairs(0.1)):\n",
    "    r1 = id_row[id1]\n",
    "    r2 = id_row[id2]\n",
    "    if r1.name == r2.name:\n",
    "        if r1.completeness < r2.completeness:\n",
    "            dupes.add(r1.wof_id)\n",
    "        else:\n",
    "            dupes.add(r2.wof_id)"
   ]
  },
  {
   "cell_type": "code",
   "execution_count": 42,
   "metadata": {},
   "outputs": [
    {
     "data": {
      "text/plain": [
       "815"
      ]
     },
     "execution_count": 42,
     "metadata": {},
     "output_type": "execute_result"
    }
   ],
   "source": [
    "len(dupes)"
   ]
  },
  {
   "cell_type": "code",
   "execution_count": null,
   "metadata": {},
   "outputs": [],
   "source": []
  }
 ],
 "metadata": {
  "kernelspec": {
   "display_name": "Python 3",
   "language": "python",
   "name": "python3"
  },
  "language_info": {
   "codemirror_mode": {
    "name": "ipython",
    "version": 3
   },
   "file_extension": ".py",
   "mimetype": "text/x-python",
   "name": "python",
   "nbconvert_exporter": "python",
   "pygments_lexer": "ipython3",
   "version": "3.6.5"
  }
 },
 "nbformat": 4,
 "nbformat_minor": 2
}
