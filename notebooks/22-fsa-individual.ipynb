{
 "cells": [
  {
   "cell_type": "code",
   "execution_count": 1,
   "metadata": {},
   "outputs": [],
   "source": [
    "import re\n",
    "\n",
    "import networkx as nx\n",
    "\n",
    "from IPython.display import Image, display\n",
    "from collections import defaultdict, Counter\n",
    "from textblob import TextBlob\n",
    "from itertools import combinations\n",
    "from tqdm import tqdm\n",
    "\n",
    "from litecoder.db import City"
   ]
  },
  {
   "cell_type": "code",
   "execution_count": 2,
   "metadata": {},
   "outputs": [],
   "source": [
    "import matplotlib as mpl\n",
    "import matplotlib.pyplot as plt\n",
    "\n",
    "%matplotlib inline\n",
    "mpl.style.use('seaborn-muted')"
   ]
  },
  {
   "cell_type": "code",
   "execution_count": 3,
   "metadata": {},
   "outputs": [],
   "source": [
    "def tokenize(text):\n",
    "    return [str(t) for t in TextBlob(text).tokens]"
   ]
  },
  {
   "cell_type": "code",
   "execution_count": 11,
   "metadata": {},
   "outputs": [],
   "source": [
    "class Token:\n",
    "    \n",
    "    def __init__(self, token, ignore_case=True, scrub_re='\\.'):\n",
    "        \n",
    "        self.ignore_case = ignore_case\n",
    "        self.scrub_re = scrub_re\n",
    "        \n",
    "        self.token = token\n",
    "        self.token_clean = self._clean(token)\n",
    "        \n",
    "    def _clean(self, token):\n",
    "        \n",
    "        if self.ignore_case:\n",
    "            token = token.lower()\n",
    "            \n",
    "        if self.scrub_re:\n",
    "            token = re.sub(self.scrub_re, '', token)\n",
    "            \n",
    "        return token\n",
    "    \n",
    "    def __call__(self, input_token):\n",
    "        return self._clean(input_token) == self.token_clean\n",
    "    \n",
    "    def __repr__(self):\n",
    "        return '%s<%s>' % (self.__class__.__name__, self.token_clean)\n",
    "    \n",
    "    def __str__(self):\n",
    "        return '<%s>' % self.token_clean\n",
    "    \n",
    "    def __hash__(self):\n",
    "        # TODO: Class identifier?\n",
    "        return hash((self.token_clean, self.ignore_case, self.scrub_re))\n",
    "    \n",
    "    def __eq__(self, other):\n",
    "        return hash(self) == hash(other)"
   ]
  },
  {
   "cell_type": "code",
   "execution_count": 65,
   "metadata": {},
   "outputs": [],
   "source": [
    "class GeoFSA(nx.MultiDiGraph):\n",
    "    \n",
    "    # Global id counter.\n",
    "    _next_id = 1\n",
    "    \n",
    "    def __init__(self, table, id):\n",
    "        \"\"\"Set table + id, root node.\n",
    "        \"\"\"\n",
    "        super().__init__()\n",
    "        \n",
    "        self.table = table\n",
    "        self.id = id\n",
    "        \n",
    "        self.start_node = 0\n",
    "        \n",
    "    def next_node(self):\n",
    "        \"\"\"Get next integer node id, counting up.\n",
    "        \"\"\"\n",
    "        node = self._next_id\n",
    "        \n",
    "        self.add_node(node)\n",
    "        self.__class__._next_id += 1\n",
    "        \n",
    "        return node\n",
    "        \n",
    "    def add_token(self, accept_fn, parent=None, optional=False, final=False):\n",
    "        \"\"\"Register a token transition.\n",
    "        \"\"\"\n",
    "        s1 = parent if parent else self.start_node\n",
    "        s2 = self.next_node()\n",
    "        \n",
    "        self.add_edge(s1, s2, accept_fn=accept_fn, label=str(accept_fn))\n",
    "        \n",
    "        last_node = s2\n",
    "        \n",
    "        # Add skip transition if optional.\n",
    "        if optional:\n",
    "            s3 = self.next_node()\n",
    "            self.add_edge(s2, s3, label='ε')\n",
    "            self.add_edge(s1, s3, label='ε')\n",
    "            last_node = s3\n",
    "            \n",
    "        self.node[last_node]['final'] = final\n",
    "        \n",
    "        return last_node"
   ]
  },
  {
   "cell_type": "code",
   "execution_count": 66,
   "metadata": {},
   "outputs": [],
   "source": [
    "def plot(g):\n",
    "    dot = nx.drawing.nx_pydot.to_pydot(g)\n",
    "    dot.set_rankdir('LR')\n",
    "    display(Image(dot.create_png()))"
   ]
  },
  {
   "cell_type": "code",
   "execution_count": 73,
   "metadata": {},
   "outputs": [],
   "source": [
    "g = GeoFSA('city', 10)\n",
    "san = g.add_token(Token('San'))\n",
    "francisco = g.add_token(Token('Francisco'), san, final=True)\n",
    "comma = g.add_token(Token(','), francisco, optional=True)\n",
    "ca = g.add_token(Token('CA'), comma, final=True)\n",
    "california = g.add_token(Token('California'), comma, final=True)"
   ]
  },
  {
   "cell_type": "code",
   "execution_count": 74,
   "metadata": {},
   "outputs": [
    {
     "data": {
      "image/png": "[encoded data removed]",
      "text/plain": [
       "<IPython.core.display.Image object>"
      ]
     },
     "metadata": {},
     "output_type": "display_data"
    }
   ],
   "source": [
    "plot(g)"
   ]
  },
  {
   "cell_type": "code",
   "execution_count": null,
   "metadata": {},
   "outputs": [],
   "source": []
  }
 ],
 "metadata": {
  "kernelspec": {
   "display_name": "Python 3",
   "language": "python",
   "name": "python3"
  },
  "language_info": {
   "codemirror_mode": {
    "name": "ipython",
    "version": 3
   },
   "file_extension": ".py",
   "mimetype": "text/x-python",
   "name": "python",
   "nbconvert_exporter": "python",
   "pygments_lexer": "ipython3",
   "version": "3.6.5"
  }
 },
 "nbformat": 4,
 "nbformat_minor": 2
}
