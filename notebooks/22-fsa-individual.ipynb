{
 "cells": [
  {
   "cell_type": "code",
   "execution_count": 172,
   "metadata": {},
   "outputs": [],
   "source": [
    "import re\n",
    "import pickle\n",
    "\n",
    "import networkx as nx\n",
    "\n",
    "from IPython.display import Image, display\n",
    "from collections import defaultdict, Counter\n",
    "from textblob import TextBlob\n",
    "from itertools import combinations\n",
    "from tqdm import tqdm\n",
    "\n",
    "from litecoder.db import City"
   ]
  },
  {
   "cell_type": "code",
   "execution_count": 2,
   "metadata": {},
   "outputs": [],
   "source": [
    "import matplotlib as mpl\n",
    "import matplotlib.pyplot as plt\n",
    "\n",
    "%matplotlib inline\n",
    "mpl.style.use('seaborn-muted')"
   ]
  },
  {
   "cell_type": "code",
   "execution_count": 3,
   "metadata": {},
   "outputs": [],
   "source": [
    "def tokenize(text):\n",
    "    return [str(t) for t in TextBlob(text).tokens]"
   ]
  },
  {
   "cell_type": "code",
   "execution_count": 25,
   "metadata": {},
   "outputs": [],
   "source": [
    "def keyify(text):\n",
    "    text = text.lower()\n",
    "    text = re.sub('[^a-z0-9]', '', text)\n",
    "    return text"
   ]
  },
  {
   "cell_type": "code",
   "execution_count": 29,
   "metadata": {},
   "outputs": [],
   "source": [
    "class Token:\n",
    "    \n",
    "    def __init__(self, token, ignore_case=True, scrub_re='\\.'):\n",
    "        \n",
    "        self.ignore_case = ignore_case\n",
    "        self.scrub_re = scrub_re\n",
    "        \n",
    "        self.token = token\n",
    "        self.token_clean = self._clean(token)\n",
    "        \n",
    "    def _clean(self, token):\n",
    "        \n",
    "        if self.ignore_case:\n",
    "            token = token.lower()\n",
    "            \n",
    "        if self.scrub_re:\n",
    "            token = re.sub(self.scrub_re, '', token)\n",
    "            \n",
    "        return token\n",
    "    \n",
    "    def __call__(self, input_token):\n",
    "        return self._clean(input_token) == self.token_clean\n",
    "    \n",
    "    def __repr__(self):\n",
    "        return '%s<%s>' % (self.__class__.__name__, self.token_clean)\n",
    "    \n",
    "    def __str__(self):\n",
    "        return '<%s>' % self.token_clean\n",
    "    \n",
    "    def __hash__(self):\n",
    "        # TODO: Class identifier?\n",
    "        return hash((self.token_clean, self.ignore_case, self.scrub_re))\n",
    "    \n",
    "    def __eq__(self, other):\n",
    "        return hash(self) == hash(other)\n",
    "    \n",
    "    def key(self):\n",
    "        return keyify(self.token)"
   ]
  },
  {
   "cell_type": "code",
   "execution_count": 160,
   "metadata": {},
   "outputs": [],
   "source": [
    "class CityFSA(nx.MultiDiGraph):\n",
    "    \n",
    "    # Global id counter.\n",
    "    _next_id = 1\n",
    "    \n",
    "    @classmethod\n",
    "    def from_db_row(cls, row):\n",
    "        \"\"\"Build from city db row.\n",
    "        \"\"\"\n",
    "        g = cls(row.wof_id)\n",
    "        \n",
    "        name_tokens = tokenize(row.name)\n",
    "        state_tokens = tokenize(row.name_a1)\n",
    "\n",
    "        # City name\n",
    "        parent = g.add_tokens([Token(t) for t in name_tokens])\n",
    "\n",
    "        # Optional comma\n",
    "        comma = g.add_token(Token(','), parent, optional=True)\n",
    "\n",
    "        # State name\n",
    "        leaf = g.add_tokens([Token(t) for t in state_tokens], comma)\n",
    "        g.set_final(leaf)\n",
    "\n",
    "        # Or, state abbr\n",
    "        leaf = g.add_token(Token(row.us_state_abbr), comma)\n",
    "        g.set_final(leaf)\n",
    "        \n",
    "        return g\n",
    "    \n",
    "    def __init__(self, id):\n",
    "        \"\"\"Set table + id, root node.\n",
    "        \"\"\"\n",
    "        super().__init__()\n",
    "        self.id = id\n",
    "        self.start_node = 0\n",
    "        \n",
    "    def next_node(self):\n",
    "        \"\"\"Get next integer node id, counting up.\n",
    "        \"\"\"\n",
    "        node = self._next_id\n",
    "        \n",
    "        self.add_node(node)\n",
    "        self.__class__._next_id += 1\n",
    "        \n",
    "        return node\n",
    "    \n",
    "    def set_final(self, state):\n",
    "        self.node[state]['final'] = True\n",
    "        \n",
    "    def add_token(self, accept_fn, parent=None, optional=False):\n",
    "        \"\"\"Register a token transition.\n",
    "        \"\"\"\n",
    "        s1 = parent if parent else self.start_node\n",
    "        s2 = self.next_node()\n",
    "        \n",
    "        self.add_edge(s1, s2, accept_fn=accept_fn, label=str(accept_fn))\n",
    "        \n",
    "        last_node = s2\n",
    "        \n",
    "        # Add skip transition if optional.\n",
    "        if optional:\n",
    "            s3 = self.next_node()\n",
    "            self.add_edge(s2, s3, label='ε')\n",
    "            self.add_edge(s1, s3, label='ε')\n",
    "            last_node = s3\n",
    "        \n",
    "        return last_node\n",
    "    \n",
    "    def add_tokens(self, tokens, parent=None):\n",
    "        \"\"\"Add sequence of tokens\n",
    "        \"\"\"\n",
    "        for token in tokens:\n",
    "            parent = self.add_token(token, parent)\n",
    "            \n",
    "        return parent\n",
    "    \n",
    "    def start_keys_iter(self):\n",
    "        \"\"\"Generate start keys.\n",
    "        \"\"\"\n",
    "        for _, _, data in self.out_edges(self.start_node, data=True):\n",
    "            accept_fn = data.get('accept_fn')\n",
    "            if accept_fn:\n",
    "                yield accept_fn.key()"
   ]
  },
  {
   "cell_type": "code",
   "execution_count": 153,
   "metadata": {},
   "outputs": [],
   "source": [
    "def plot(g):\n",
    "    dot = nx.drawing.nx_pydot.to_pydot(g)\n",
    "    dot.set_rankdir('LR')\n",
    "    display(Image(dot.create_png()))"
   ]
  },
  {
   "cell_type": "code",
   "execution_count": 154,
   "metadata": {},
   "outputs": [],
   "source": [
    "g = CityFSA(10)\n",
    "san = g.add_token(Token('San'))\n",
    "francisco = g.add_token(Token('Francisco'), san)\n",
    "comma = g.add_token(Token(','), francisco, optional=True)\n",
    "ca = g.add_token(Token('CA'), comma)\n",
    "california = g.add_token(Token('California'), comma)"
   ]
  },
  {
   "cell_type": "code",
   "execution_count": 155,
   "metadata": {},
   "outputs": [
    {
     "data": {
      "image/png": "[encoded data removed]",
      "text/plain": [
       "<IPython.core.display.Image object>"
      ]
     },
     "metadata": {},
     "output_type": "display_data"
    }
   ],
   "source": [
    "plot(g)"
   ]
  },
  {
   "cell_type": "code",
   "execution_count": 161,
   "metadata": {},
   "outputs": [],
   "source": [
    "g = CityFSA.from_db_row(City.query.first())"
   ]
  },
  {
   "cell_type": "code",
   "execution_count": 162,
   "metadata": {},
   "outputs": [
    {
     "data": {
      "image/png": "[encoded data removed]",
      "text/plain": [
       "<IPython.core.display.Image object>"
      ]
     },
     "metadata": {},
     "output_type": "display_data"
    }
   ],
   "source": [
    "plot(g)"
   ]
  },
  {
   "cell_type": "code",
   "execution_count": 171,
   "metadata": {},
   "outputs": [
    {
     "name": "stderr",
     "output_type": "stream",
     "text": [
      "29808it [00:11, 2517.70it/s]"
     ]
    },
    {
     "name": "stdout",
     "output_type": "stream",
     "text": [
      "101734373 Pagai\n",
      "101734375 Matu'u\n",
      "101734377 Masefau\n",
      "101734379 Masausi\n",
      "101734381 Onenoa\n",
      "101734383 Faga'alu\n",
      "101734385 Avaio\n",
      "101734387 Lauli'i\n",
      "101734391 Fatumafuti\n",
      "101734393 Fagatogo\n",
      "101734395 Auto\n",
      "101734397 Anua\n",
      "101734399 Amouli\n",
      "101734401 Nu'uuli\n",
      "101734403 Fagasa\n",
      "101734405 Faganeanea\n",
      "101734409 Faga'itua\n",
      "101734411 Leloaloa\n",
      "101734413 Aunu'u\n",
      "101734415 Aumi\n",
      "101734417 Auasi\n",
      "101734419 Aua\n",
      "101734421 Atu'u\n",
      "101734423 Aoa\n",
      "101734427 Amaua\n",
      "101734429 Alofau\n",
      "101734431 Alega\n",
      "101734433 Alao\n",
      "101734435 Afono\n",
      "101734437 Tafuna\n",
      "101734439 Malaeimi\n",
      "101734441 Satala\n",
      "101734445 Utusia\n",
      "101734447 Aasu\n",
      "101734449 Vatia\n",
      "101734451 Utumea East\n",
      "101734453 Utulei\n",
      "101734455 Tula\n",
      "101734457 Sa'ilele\n",
      "101734463 Si'ufaga\n",
      "101734465 Olosega\n",
      "101734467 Ofu\n",
      "101734469 Maia\n",
      "101734471 Sili\n",
      "101734473 Leusoali'i\n",
      "101734475 Faleasao\n",
      "101734477 Luma\n",
      "101734483 Taputimu\n",
      "101734485 Se'etaga\n",
      "101734487 Poloa\n",
      "101734489 Pava'ia'i\n",
      "101734491 Nua\n",
      "101734493 Mesepa\n",
      "101734495 Mapusagafou\n",
      "101734499 Maloata\n",
      "101734501 Malaeloa/Ituau\n",
      "101734503 Malaeloa/Aitulagi\n",
      "101734505 Leone\n",
      "101734507 Ili'ili\n",
      "101734509 Futiga\n",
      "101734511 Faleniu\n",
      "101734513 Failolo\n",
      "101734517 Fagamalo\n",
      "101734519 Fagali'i\n",
      "101734521 Asili\n",
      "101734523 Aoloau\n",
      "101734525 Amanave\n",
      "101734527 Amaluia\n",
      "101734529 Agugulu\n",
      "101734531 Afao\n",
      "101734535 Puapua\n",
      "101734537 Auma\n",
      "101734539 Vaitogi\n",
      "101734541 Vailoatai\n",
      "101734543 Utumea West\n",
      "101734545 Dededo\n",
      "101734547 Finegayan Station\n",
      "101734549 Hagåtña\n",
      "101734553 Inarajan\n",
      "101734555 Adacao\n",
      "101734557 Upper Tumon\n",
      "101734559 Naval Hospital\n",
      "101734561 Malojloj\n",
      "101734563 Nimitz Hill\n",
      "101734565 Maina\n",
      "101734567 Maite\n",
      "101734571 Mangilao\n",
      "101734573 Merizo\n",
      "101734575 Mongmong\n",
      "101734577 Nimitz Hill Annex\n",
      "101734579 Ordot\n",
      "101734581 Piti\n",
      "101734583 Santa Rita\n",
      "101734585 Sinajana\n",
      "101734589 Talofofo\n",
      "101734591 Tamuning\n",
      "101734593 Toto\n",
      "101734595 Umatac\n",
      "101734597 North Gayinero\n",
      "101734599 Yona\n",
      "101734601 Afame\n",
      "101734603 Chaguian\n",
      "101734607 Anao\n",
      "101734609 Y Sengsong\n",
      "101734611 Ukudu\n",
      "101734613 Apotgan\n",
      "101734615 Harmon Industrial Park\n",
      "101734617 Macheche\n",
      "101734619 Windward Hills\n",
      "101734621 Y Papao\n",
      "101734625 Liguan\n",
      "101734627 Oka\n",
      "101734629 Tumon\n",
      "101734631 Ipan\n",
      "101734633 University of Guam\n",
      "101734635 Pagat\n",
      "101734637 South Gayinero\n",
      "101734639 Mataguac\n",
      "101734643 Wusstig\n",
      "101734645 Agana Heights\n",
      "101734647 Agat\n",
      "101734649 Andersen AFB\n",
      "101734651 Apra Harbor\n",
      "101734653 Machananao East\n",
      "101734655 Machananao West\n",
      "101734657 Asan\n",
      "101734661 Astumbo\n",
      "101734663 Barrigada\n",
      "101734665 Barrigada Heights\n",
      "101734667 Chalan Pago\n",
      "101734669 Machanao\n",
      "101734671 Mogfog\n",
      "101734673 Charlotte Amalie\n",
      "101734675 Frederiksted\n",
      "101734679 Christiansted\n",
      "101734681 Coral Bay\n",
      "101734683 Cruz Bay\n",
      "101734685 Tutu\n",
      "101734687 Red Hook\n",
      "101734689 Charlotte Amalie West\n",
      "101734691 Charlotte Amalie East\n",
      "101734693 Frederiksted Southeast\n",
      "1125764545 Minot Air Force Base\n",
      "1125765021 Becket\n",
      "1125765337 Buckfield\n",
      "1125765355 Onion Creek\n",
      "1125765385 Kingfield\n",
      "1125765393 Limerick\n",
      "1125765453 Orrington\n",
      "1125765467 Cherryfield\n",
      "1125765487 Veazie\n",
      "1125766713 Hidden Trails\n",
      "1125767577 Moultonborough\n",
      "1125767629 New Ipswich\n",
      "1125767699 Sandown\n",
      "1125767839 Edgewater Park Township\n",
      "1125769327 Thoms Place\n",
      "1125770117 Tolland\n",
      "1125770223 West Norriton Township\n",
      "1125770617 "
     ]
    },
    {
     "name": "stderr",
     "output_type": "stream",
     "text": [
      "30481it [00:12, 2531.43it/s]"
     ]
    },
    {
     "name": "stdout",
     "output_type": "stream",
     "text": [
      "Phillips\n",
      "1125774497 China\n",
      "1125776243 Waterville Valley\n",
      "1125776251 North Haverhill\n",
      "1125776263 Coeymans\n",
      "1125776607 Fairchild Air Force Base\n",
      "1125776627 Whiteman Air Force Base\n",
      "1125776631 Beale Air Force Base\n",
      "1125776649 Holloman Air Force Base\n",
      "1125776659 Lackland Air Force Base\n",
      "1125776823 Fairfield Heights\n",
      "1125777607 Town of Hideout\n",
      "1125777765 Penobscot\n",
      "1125777893 Wheeler Air Force Base\n",
      "1125778055 Attu Station\n",
      "1125778159 Makakilo City\n",
      "1125778691 Florenceville\n",
      "1125779339 West Jacksonville\n",
      "1125779849 Londontowne\n",
      "1125780343 Roma-Los Saenz\n",
      "1125780703 Bushland\n"
     ]
    },
    {
     "name": "stderr",
     "output_type": "stream",
     "text": [
      "31503it [00:12, 2551.16it/s]"
     ]
    },
    {
     "name": "stdout",
     "output_type": "stream",
     "text": [
      "1125780837 Idyllwild\n",
      "1125780991 Big Sur\n",
      "1125781399 Lake Pleasant\n",
      "1125781523 Keokea\n",
      "1125786513 Puerto de Anapra\n"
     ]
    },
    {
     "name": "stderr",
     "output_type": "stream",
     "text": [
      "32174it [00:12, 2562.64it/s]"
     ]
    },
    {
     "name": "stdout",
     "output_type": "stream",
     "text": [
      "1125788117 Whitesboro-Burleigh\n",
      "1125788177 East Hill-Meridian\n",
      "1125788745 De Kalb Junction\n",
      "1125788871 Queens\n",
      "1125789015 Huntingtown Town Center\n",
      "1125789335 Arrowsic\n",
      "1125790215 Fort McKinley\n",
      "1125792419 York Haven Anchorage\n",
      "1125793019 Ledyard Center\n",
      "1125793231 Buffalo (historical)\n"
     ]
    },
    {
     "name": "stderr",
     "output_type": "stream",
     "text": [
      "33237it [00:12, 2585.48it/s]"
     ]
    },
    {
     "name": "stdout",
     "output_type": "stream",
     "text": [
      "1125797273 Grand Lake Stream\n",
      "1125799447 Del Bonita\n",
      "1125802705 Pleasant Lake\n",
      "1125803293"
     ]
    },
    {
     "name": "stderr",
     "output_type": "stream",
     "text": [
      "33585it [00:12, 2591.47it/s]"
     ]
    },
    {
     "name": "stdout",
     "output_type": "stream",
     "text": [
      " Trial\n",
      "1125805373 Bailey Lake\n",
      "1125805493 Long Settlement\n",
      "1125805579 Laurel Mountain Park\n"
     ]
    },
    {
     "name": "stderr",
     "output_type": "stream",
     "text": [
      "34544it [00:13, 2512.15it/s]"
     ]
    },
    {
     "name": "stdout",
     "output_type": "stream",
     "text": [
      "1125806255 Lake Shangrila\n",
      "1125806327 Superior Village\n",
      "1125806419 East La Mirada\n",
      "1125807033 Punalu‘u\n"
     ]
    },
    {
     "name": "stderr",
     "output_type": "stream",
     "text": [
      "35832it [00:14, 2532.06it/s]"
     ]
    },
    {
     "name": "stdout",
     "output_type": "stream",
     "text": [
      "1125820391 Howie In The Hills\n",
      "1125820657 Lakeside Green\n",
      "1125820685 Jupiter Inlet Beach Colony\n",
      "1125820741 New Limerick\n",
      "1125822963 Sweeney Ranch\n",
      "1125822975 The Buttes\n",
      "1125824377 Sunset Acres Colonia\n",
      "1125824385 Sunset Colonia\n",
      "1125825373 Port Washington\n"
     ]
    },
    {
     "name": "stderr",
     "output_type": "stream",
     "text": [
      "36799it [00:14, 2546.12it/s]"
     ]
    },
    {
     "name": "stdout",
     "output_type": "stream",
     "text": [
      "1125827201 Clair Parish\n",
      "1125829167 Eagerville\n",
      "1125829257 Willow Creek\n",
      "1125829271 Gilgo-Oak Beach-Captree\n",
      "1125830351 Sleeman\n"
     ]
    },
    {
     "name": "stderr",
     "output_type": "stream",
     "text": [
      "37758it [00:14, 2559.18it/s]"
     ]
    },
    {
     "name": "stdout",
     "output_type": "stream",
     "text": [
      "1125833933 Enchanted Hills\n",
      "1125834051 Wapanitia\n",
      "1125835351 Oak Cliff Place\n",
      "1125835655 Weld\n"
     ]
    },
    {
     "name": "stderr",
     "output_type": "stream",
     "text": [
      "38399it [00:14, 2567.76it/s]"
     ]
    },
    {
     "name": "stdout",
     "output_type": "stream",
     "text": [
      "1125837939 Boylston\n",
      "1125838581 Hodgdon\n",
      "1125839603 Ewa Villages\n"
     ]
    },
    {
     "name": "stderr",
     "output_type": "stream",
     "text": [
      "39697it [00:15, 2585.22it/s]"
     ]
    },
    {
     "name": "stdout",
     "output_type": "stream",
     "text": [
      "1125849023 East Pensacola Heights\n",
      "1125849037 Mission Bay\n",
      "1125851485 Cobalt Village\n",
      "1125851699 North Peoria\n",
      "1125851745 Sunderland\n",
      "1125851783 Sandy River\n",
      "1125851965 Allenstown Elementary School\n",
      "1125851971 Derry Village\n",
      "1125851983 Borough of Far Hills\n",
      "1125852135 Central Valley (historical)\n",
      "1125852145 Hanks\n",
      "1125852177 Wiseman\n",
      "1125852765 Building 706\n",
      "1125852987 Vienna Center\n",
      "1125853471 Scott Air Force Base\n",
      "1125853971 Weallup Lake\n",
      "1125853987 Meadow Lark Lake\n"
     ]
    },
    {
     "name": "stderr",
     "output_type": "stream",
     "text": [
      "40338it [00:15, 2590.99it/s]"
     ]
    },
    {
     "name": "stdout",
     "output_type": "stream",
     "text": [
      "1125854657 Hickory Withe\n",
      "1125859399 Eau Claire\n",
      "1125859627 Osborne\n",
      "1125860537 Colonia Iglesia Antigua\n",
      "1125860545 Four Points Colonia\n",
      "1125860563 New Hope (historical)\n",
      "1125860569 Ranchos Penitas West\n",
      "1125861769 Mountain Home Air Force Base\n",
      "1125863877 Sarnia Indian Reserve 45\n",
      "1125863947 Chilmark\n",
      "1125866897 Boscawen\n"
     ]
    },
    {
     "name": "stderr",
     "output_type": "stream",
     "text": [
      "41295it [00:15, 2602.27it/s]"
     ]
    },
    {
     "name": "stdout",
     "output_type": "stream",
     "text": [
      "1125870397 East Longmeadow\n",
      "1125871145 Water Mill\n",
      "1125872013 Carrollwood Village\n",
      "1125872033 Hamptons at Boca Raton\n",
      "1125872057 Terra Mar\n",
      "1125872753 West Barnstable\n",
      "1125873133 North Providence\n",
      "1125873259 Thornton\n",
      "1125873305 Helena\n",
      "1125873905 Seven Trees\n",
      "1125873979 Wai‘ōhinu\n",
      "1125874207 Saint Dennis\n",
      "1125875301 Pierron\n",
      "1125875467 Dunkirk Town Center\n",
      "1125875571 Irish Settlement\n",
      "1125875605 Smokey Point\n",
      "1125875723 Ka‘a‘awa\n",
      "1125876273 Saint Andrews\n",
      "1125876413 Glen Rose\n",
      "1125876869 Fairgarden\n",
      "1125876877 Alton North (historical)\n",
      "1125876885 Alto Bonito Colonia\n"
     ]
    },
    {
     "name": "stderr",
     "output_type": "stream",
     "text": [
      "41942it [00:16, 2609.96it/s]"
     ]
    },
    {
     "name": "stdout",
     "output_type": "stream",
     "text": [
      "1125876893 Amargosa Colonia\n",
      "1125876899 Amaya Colonia\n",
      "1125876907 B and E Colonia\n",
      "1125876917 Bailey Prairie\n",
      "1125876931 Buena Vista Colonia\n",
      "1125876943 Cameron Park Colonia\n",
      "1125876961 Chula Vista Colonia\n",
      "1125876983 Coyote Acres Colonia\n",
      "1125876993 Del Sol Colonia\n",
      "1125877009 Edgewater-Paisano\n",
      "1125877017 El Cenizo Colonia\n",
      "1125877029 El Refugio Colonia\n",
      "1125877039 Hilltop Colonia\n",
      "1125877053 La Paloma Addition Colonia\n",
      "1125877063 Lago Vista Colonia\n",
      "1125877079 Las Colonias\n",
      "1125877093 Loma Linda Colonia\n",
      "1125877103 Loma Linda East Colonia\n",
      "1125877109 Loma Vista Colonia\n",
      "1125877125 Los Altos Colonia\n",
      "1125877139 Murillo\n",
      "1125877165 Orason Acres Colonia\n",
      "1125877171 Paisano Park Colonia\n",
      "1125877187 Pueblo Nuevo Colonia\n",
      "1125877197 Taft Southwest (historical)\n",
      "1125877207 San Carlos Number 1 Colonia\n",
      "1125877219 San Juan Colonia\n",
      "1125877229 Santa Rosa Colonia\n",
      "1125877247 Willamar\n",
      "1125877251 Zapata Ranch Colonia\n",
      "1125877371 Saint John\n",
      "1125877605 Alstead\n",
      "1125877625 Litchfield\n",
      "1125879031 Saint Xavier\n",
      "1125879247 Harpswell Center\n",
      "1125879347 West Scarborough\n",
      "1125880147 Brewster\n",
      "1125881963 Edgecomb\n",
      "1125882057 Taylorstown Station\n",
      "1125882065 Pittsburg\n",
      "1125882073 Rindge\n",
      "1125882079 Sanbornton\n",
      "1125882363 Eglin Air Force Base\n",
      "1125882371 Moody Air Force Base\n",
      "1125882437 Loma Grande Colonia\n",
      "1125882523 Dyer Brook\n",
      "1125883641 BloomingtonMn\n",
      "1125885117 Cannon Air Force Base\n",
      "1125885153 Canterbury"
     ]
    },
    {
     "name": "stderr",
     "output_type": "stream",
     "text": [
      "42918it [00:16, 2621.33it/s]"
     ]
    },
    {
     "name": "stdout",
     "output_type": "stream",
     "text": [
      "\n",
      "1125885417 Grand Forks Air Force Base\n",
      "1125885531 Beaverdam Lake–Salisbury Mills\n",
      "1125885543 Leisure Village West-Pine Lake Park\n",
      "1125885721 Evergreen Colonia\n",
      "1125885733 Los Ebanos Colonia\n",
      "1125885743 Morgan Farm\n",
      "1125885767 Echo Lake\n",
      "1125886055 Pine Level\n",
      "1125886151 Wyman\n",
      "1125886731 Pumphrey\n",
      "1125887309 Las Quintas Fronterizas Colonia\n",
      "1125887313 Socorro Mission Number 1 Colonia\n",
      "1125887329 Boulder Town\n",
      "1125887341 Mount Nebo\n",
      "1125887439 Grouse\n",
      "1125887453 Peck\n",
      "1125887457 State Line Village\n",
      "1125887567 Jonesport\n",
      "1125887617 Medway\n",
      "1125887623 Monhegan\n",
      "1125888199 Guildhall\n",
      "1125889075 Deschutes River Woods\n",
      "1125889089 Cayuse\n",
      "1125889257 Brooklin\n",
      "1125889269 Kenduskeag\n",
      "1125889295 Barnesboro\n",
      "1125889301 Oquirrh\n",
      "1125889323 West Longview\n",
      "1125889329 West Wenatchee\n",
      "1125889341 Satus\n",
      "1125889351 Foxpark\n",
      "1125889919 Laughlin Air Force Base\n",
      "1125889927 Nellis Air Force Base\n",
      "1125889935 Vandenberg Air Force Base\n",
      "1125890103 Nikolski\n",
      "1125890423 Gilford\n",
      "1125890427 River Vale\n",
      "1125890619 McCook\n",
      "1125892939 Elko\n",
      "1125893285 Oakham\n"
     ]
    },
    {
     "name": "stderr",
     "output_type": "stream",
     "text": [
      "43575it [00:16, 2629.30it/s]"
     ]
    },
    {
     "name": "stdout",
     "output_type": "stream",
     "text": [
      "1125894255 Edwards Air Force Base\n",
      "1125895663 Shutesbury\n",
      "1125895981 Meyers Chuck\n",
      "1125895989 Yakutat\n",
      "1125896491 Delmar\n",
      "1125897531 Cummings Cove\n",
      "1125897743 Fitzwilliam\n",
      "1125898187 Metigoshe\n",
      "1125898841 Tierra Bonita Colonia\n",
      "1125900077 Fort Hill Census Designated Place\n",
      "1125900161 New Portland\n",
      "1125900169 Robbinston\n",
      "1125900175 Roque Bluffs\n",
      "1125900191 Chesterville\n",
      "1125900367 Black Rock City\n",
      "1125900385 Offutt Air Force Base\n",
      "1125900399 Tyndall Air Force Base\n",
      "1125900561 Green Haven\n",
      "1125901459 La Crosse\n",
      "1125903629 Kapa‘a\n"
     ]
    },
    {
     "name": "stderr",
     "output_type": "stream",
     "text": [
      "44222it [00:16, 2634.32it/s]"
     ]
    },
    {
     "name": "stdout",
     "output_type": "stream",
     "text": [
      "1125903693 Kaanapali Landing\n",
      "1125906027 Chopaka\n",
      "1125906591 Manuel Ojinaga\n",
      "1125912257 Sherman\n",
      "1125912499 Kaiser\n",
      "1125913355 Medusa\n",
      "1125915557 Windsor Heights\n",
      "1125915565 Grand Canyon\n",
      "1125916691 Saint Paul\n"
     ]
    },
    {
     "name": "stderr",
     "output_type": "stream",
     "text": [
      "45195it [00:17, 2644.64it/s]"
     ]
    },
    {
     "name": "stdout",
     "output_type": "stream",
     "text": [
      "1125924645 Robins Air Force Base\n",
      "1125924655 Bangor Trident Base\n",
      "1125924679 Malmstrom Air Force Base\n",
      "1125924693 March Air Force Base\n",
      "1125924707 McChord Air Force Base\n",
      "1125929193 Castle Pines North\n"
     ]
    },
    {
     "name": "stderr",
     "output_type": "stream",
     "text": [
      "46493it [00:17, 2658.24it/s]"
     ]
    },
    {
     "name": "stdout",
     "output_type": "stream",
     "text": [
      "1125947645 Saint Pauls\n",
      "1125951169 Hebron\n"
     ]
    },
    {
     "name": "stderr",
     "output_type": "stream",
     "text": [
      "48154it [00:18, 2589.36it/s]"
     ]
    },
    {
     "name": "stdout",
     "output_type": "stream",
     "text": [
      "1125951785 Holliston\n",
      "1125962067 Rochelle Park\n",
      "1125962389 Dewdney\n",
      "1125962403 Kettle Falls\n",
      "1125962885 Sasabe\n",
      "1125969347"
     ]
    },
    {
     "name": "stderr",
     "output_type": "stream",
     "text": [
      "49137it [00:18, 2600.19it/s]"
     ]
    },
    {
     "name": "stdout",
     "output_type": "stream",
     "text": [
      " Chesterfield Court House\n",
      "1125970131 Edgartown\n",
      "1125970989 Belmont\n",
      "1125973263 Quail Valley\n",
      "1125977413 Vicente Guerrero (algodones)\n",
      "1125977439 Ejido Jacume\n"
     ]
    },
    {
     "name": "stderr",
     "output_type": "stream",
     "text": [
      "49807it [00:19, 2607.58it/s]"
     ]
    },
    {
     "name": "stdout",
     "output_type": "stream",
     "text": [
      "1125980283 Tecate\n"
     ]
    },
    {
     "name": "stderr",
     "output_type": "stream",
     "text": [
      "50851it [00:19, 2619.77it/s]"
     ]
    },
    {
     "name": "stdout",
     "output_type": "stream",
     "text": [
      "1125988815 Errol\n",
      "1125989355 Shapleigh\n",
      "1125995631 Central Waterford\n",
      "1125995639 Grissom Air Force Base\n",
      "1125995647"
     ]
    },
    {
     "name": "stderr",
     "output_type": "stream",
     "text": [
      "51513it [00:19, 2625.97it/s]"
     ]
    },
    {
     "name": "stdout",
     "output_type": "stream",
     "text": [
      " K. I. Sawyer Air Force Base\n",
      "1125995703 Warren Air Force Base\n",
      "1125996389 Rangeley\n",
      "1125996409 Premier\n"
     ]
    },
    {
     "name": "stderr",
     "output_type": "stream",
     "text": [
      "52165it [00:19, 2631.81it/s]"
     ]
    },
    {
     "name": "stdout",
     "output_type": "stream",
     "text": [
      "1126006035 Allagash\n",
      "1126007899 Conning Towers Nautilus Park\n",
      "1126007911 Old Saybrook Center\n",
      "1126013545 Guilford Siding\n",
      "1126016027 Hove Mobile Park\n",
      "1126016593 Rio en Medio\n",
      "1126017831 Hanapēpē Heights\n",
      "1126020971"
     ]
    },
    {
     "name": "stderr",
     "output_type": "stream",
     "text": [
      "52841it [00:20, 2638.71it/s]"
     ]
    },
    {
     "name": "stdout",
     "output_type": "stream",
     "text": [
      " Tenney\n",
      "1126021667 Shiloh\n",
      "1126021785 Airport Road\n",
      "1126028365 Fort George G Mead Junction\n",
      "1126028507 Bluetown Colonia\n",
      "1126028829 Koller\n",
      "1126028859 Wakenda\n"
     ]
    },
    {
     "name": "stderr",
     "output_type": "stream",
     "text": [
      "54184it [00:20, 2651.76it/s]"
     ]
    },
    {
     "name": "stdout",
     "output_type": "stream",
     "text": [
      "1126039173 Barstow Heights\n",
      "1126040177 Columbus Air Force Base\n"
     ]
    },
    {
     "name": "stderr",
     "output_type": "stream",
     "text": [
      "54513it [00:20, 2654.86it/s]"
     ]
    },
    {
     "name": "stdout",
     "output_type": "stream",
     "text": [
      "1126111901 Esri\n",
      "1126111975 139 Olive Street\n",
      "1126111979 Park Encinitas Trailer Park\n"
     ]
    },
    {
     "name": "stderr",
     "output_type": "stream",
     "text": [
      "54727it [00:20, 2624.52it/s]\n"
     ]
    }
   ],
   "source": [
    "idx = defaultdict(list)\n",
    "for row in tqdm(City.query.filter(City.country_iso=='US')):\n",
    "    \n",
    "    try:\n",
    "        fsa = CityFSA.from_db_row(row)\n",
    "    except Exception as e:\n",
    "        print(row.wof_id, row.name)\n",
    "    \n",
    "    for key in fsa.start_keys_iter():\n",
    "        idx[key].append(fsa)"
   ]
  },
  {
   "cell_type": "code",
   "execution_count": 173,
   "metadata": {},
   "outputs": [],
   "source": [
    "pickle.dump(idx, open('test.p', 'wb'))"
   ]
  },
  {
   "cell_type": "code",
   "execution_count": 174,
   "metadata": {},
   "outputs": [
    {
     "data": {
      "text/plain": [
       "515"
      ]
     },
     "execution_count": 174,
     "metadata": {},
     "output_type": "execute_result"
    }
   ],
   "source": [
    "max([len(v) for v in idx.values()])"
   ]
  },
  {
   "cell_type": "code",
   "execution_count": 175,
   "metadata": {},
   "outputs": [],
   "source": [
    "c = City.query.get(1125777765)"
   ]
  },
  {
   "cell_type": "code",
   "execution_count": 177,
   "metadata": {},
   "outputs": [],
   "source": [
    "c.name_a1"
   ]
  },
  {
   "cell_type": "code",
   "execution_count": null,
   "metadata": {},
   "outputs": [],
   "source": []
  }
 ],
 "metadata": {
  "kernelspec": {
   "display_name": "Python 3",
   "language": "python",
   "name": "python3"
  },
  "language_info": {
   "codemirror_mode": {
    "name": "ipython",
    "version": 3
   },
   "file_extension": ".py",
   "mimetype": "text/x-python",
   "name": "python",
   "nbconvert_exporter": "python",
   "pygments_lexer": "ipython3",
   "version": "3.6.5"
  }
 },
 "nbformat": 4,
 "nbformat_minor": 2
}
