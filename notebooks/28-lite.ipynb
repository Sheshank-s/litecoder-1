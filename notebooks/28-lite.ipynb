{
 "cells": [
  {
   "cell_type": "code",
   "execution_count": 1,
   "metadata": {},
   "outputs": [],
   "source": [
    "from litecoder.us_cities import USCityIndex"
   ]
  },
  {
   "cell_type": "code",
   "execution_count": 2,
   "metadata": {},
   "outputs": [
    {
     "name": "stdout",
     "output_type": "stream",
     "text": [
      "2018-07-19 16:22:02,018 | INFO : Indexing name -> populations.\n"
     ]
    },
    {
     "name": "stderr",
     "output_type": "stream",
     "text": [
      "344249it [00:13, 25263.49it/s]"
     ]
    },
    {
     "name": "stdout",
     "output_type": "stream",
     "text": [
      "2018-07-19 16:22:24,958 | INFO : Indexing US cities.\n"
     ]
    },
    {
     "name": "stderr",
     "output_type": "stream",
     "text": [
      "\n",
      "54727it [00:14, 3789.10it/s]\n"
     ]
    }
   ],
   "source": [
    "ci = USCityIndex()\n",
    "ci.build()"
   ]
  },
  {
   "cell_type": "code",
   "execution_count": 5,
   "metadata": {},
   "outputs": [
    {
     "data": {
      "text/plain": [
       "USCityIndex<793038 keys>"
      ]
     },
     "execution_count": 5,
     "metadata": {},
     "output_type": "execute_result"
    }
   ],
   "source": [
    "ci"
   ]
  },
  {
   "cell_type": "code",
   "execution_count": 36,
   "metadata": {},
   "outputs": [
    {
     "name": "stdout",
     "output_type": "stream",
     "text": [
      "CPU times: user 2.7 ms, sys: 4.18 ms, total: 6.88 ms\n",
      "Wall time: 7.57 ms\n"
     ]
    },
    {
     "data": {
      "text/plain": [
       "[City<85940429, Springfield, Illinois, United States>]"
      ]
     },
     "execution_count": 36,
     "metadata": {},
     "output_type": "execute_result"
    }
   ],
   "source": [
    "%time ci.query('Springfield IL')"
   ]
  },
  {
   "cell_type": "code",
   "execution_count": 23,
   "metadata": {},
   "outputs": [],
   "source": [
    "ny = ci.query('nyc')[0]"
   ]
  },
  {
   "cell_type": "code",
   "execution_count": 24,
   "metadata": {},
   "outputs": [
    {
     "data": {
      "text/plain": [
       "{'area_m2': 783424470.067211,\n",
       " 'country_iso': 'US',\n",
       " 'dbpedia_id': 'Manhattan',\n",
       " 'elevation': 10,\n",
       " 'factual_id': '08d08428-8f76-11e1-848f-cfd5bf3ef515',\n",
       " 'fips_code': 3651000,\n",
       " 'freebase_id': 'en.new_york_county',\n",
       " 'geonames_id': 5128581,\n",
       " 'geoplanet_id': 2459115,\n",
       " 'latitude': 40.694457,\n",
       " 'library_of_congress_id': 'n79007751',\n",
       " 'longitude': 40.694457,\n",
       " 'name': 'New York',\n",
       " 'name_a0': 'United States',\n",
       " 'name_a1': 'New York',\n",
       " 'new_york_times_id': 'N63718991197345770861',\n",
       " 'population': 8175133,\n",
       " 'population_rank': 13,\n",
       " 'quattroshapes_id': 826077,\n",
       " 'wikidata_id': 'Q60',\n",
       " 'wikipedia_page': 'New York City',\n",
       " 'wikipedia_wordcount': 27531,\n",
       " 'wof_id': 85977539}"
      ]
     },
     "execution_count": 24,
     "metadata": {},
     "output_type": "execute_result"
    }
   ],
   "source": [
    "dict(ny)"
   ]
  },
  {
   "cell_type": "code",
   "execution_count": null,
   "metadata": {},
   "outputs": [],
   "source": []
  }
 ],
 "metadata": {
  "kernelspec": {
   "display_name": "Python 3",
   "language": "python",
   "name": "python3"
  },
  "language_info": {
   "codemirror_mode": {
    "name": "ipython",
    "version": 3
   },
   "file_extension": ".py",
   "mimetype": "text/x-python",
   "name": "python",
   "nbconvert_exporter": "python",
   "pygments_lexer": "ipython3",
   "version": "3.6.5"
  }
 },
 "nbformat": 4,
 "nbformat_minor": 2
}
