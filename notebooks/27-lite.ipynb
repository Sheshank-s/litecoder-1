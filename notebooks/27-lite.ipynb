{
 "cells": [
  {
   "cell_type": "code",
   "execution_count": 1,
   "metadata": {},
   "outputs": [],
   "source": [
    "import re\n",
    "\n",
    "from tqdm import tqdm\n",
    "from collections import defaultdict, Counter, UserDict\n",
    "from itertools import product\n",
    "from cached_property import cached_property\n",
    "\n",
    "from litecoder.models import session, City\n",
    "from litecoder import logger"
   ]
  },
  {
   "cell_type": "code",
   "execution_count": 2,
   "metadata": {},
   "outputs": [],
   "source": [
    "def keyify(text):\n",
    "    \n",
    "    text = text.lower()\n",
    "    text = text.strip()\n",
    "\n",
    "    text = text.replace('.', '')\n",
    "    text = re.sub('[,-]', ' ', text)\n",
    "    \n",
    "    # 2+ whitespace -> 1 space\n",
    "    text = re.sub('\\s{2,}', ' ', text)\n",
    "    \n",
    "    return text"
   ]
  },
  {
   "cell_type": "code",
   "execution_count": 3,
   "metadata": {},
   "outputs": [],
   "source": [
    "class NameCounts(Counter):\n",
    "    \n",
    "    def __init__(self):\n",
    "        logger.info('Indexing name -> counts.')\n",
    "        names = [keyify(r[0]) for r in session.query(City.name)]\n",
    "        super().__init__(names)\n",
    "    \n",
    "    def __getitem__(self, text):\n",
    "        return super().__getitem__(keyify(text))"
   ]
  },
  {
   "cell_type": "code",
   "execution_count": 4,
   "metadata": {},
   "outputs": [],
   "source": [
    "class NamePopulations(defaultdict):\n",
    "    \n",
    "    def __init__(self):\n",
    "        \"\"\"Index name -> [pops].\n",
    "        \"\"\"\n",
    "        super().__init__(list)\n",
    "        \n",
    "        logger.info('Indexing name -> populations.')\n",
    "        \n",
    "        median_pop = City.median_population()\n",
    "        \n",
    "        for city in tqdm(City.query):\n",
    "            for name in city.names:\n",
    "                self[keyify(name)].append(city.population or median_pop)\n",
    "                \n",
    "    def __getitem__(self, text):\n",
    "        return super().__getitem__(keyify(text))"
   ]
  },
  {
   "cell_type": "code",
   "execution_count": 5,
   "metadata": {},
   "outputs": [],
   "source": [
    "class AllowBareName:\n",
    "    \n",
    "    def __init__(self, min_p2_ratio=10):\n",
    "        self.name_pops = NamePopulations()\n",
    "        self.min_p2_ratio = min_p2_ratio\n",
    "    \n",
    "    def __call__(self, city, name):\n",
    "        \n",
    "        all_pops = sorted(self.name_pops[name], reverse=True)\n",
    "\n",
    "        if len(all_pops) < 2:\n",
    "            return True\n",
    "        \n",
    "        p2_ratio = (city.population or 0) / all_pops[1]\n",
    "        \n",
    "        if p2_ratio > self.min_p2_ratio:\n",
    "            return True\n",
    "        \n",
    "        return False"
   ]
  },
  {
   "cell_type": "code",
   "execution_count": 6,
   "metadata": {},
   "outputs": [],
   "source": [
    "USA_NAMES = (\n",
    "    'USA',\n",
    "    'United States',\n",
    "    'United States of America',\n",
    "    'US',\n",
    "    'America',\n",
    ")\n",
    "\n",
    "class USCityKeyIter:\n",
    "    \n",
    "    def __init__(self, *args, **kwargs):\n",
    "        self.allow_bare = AllowBareName(*args, **kwargs)\n",
    "    \n",
    "    def _iter_keys(self, city):\n",
    "        \"\"\"Enumerate index keys for a city.\n",
    "        \n",
    "        Args:\n",
    "            city (db.City)\n",
    "            \n",
    "        Yields: str\n",
    "        \"\"\"    \n",
    "        bare_names = [n for n in city.names if self.allow_bare(city, n)]\n",
    "        \n",
    "        states = (city.name_a1, city.us_state_abbr)\n",
    "        \n",
    "        for name in bare_names:\n",
    "            yield name\n",
    "            \n",
    "        for name, usa in product(bare_names, USA_NAMES):\n",
    "            yield ' '.join((name, usa))\n",
    "            \n",
    "        for name, state in product(city.names, states):\n",
    "            yield ' '.join((name, state))\n",
    "            \n",
    "        for name, state, usa in product(city.names, states, USA_NAMES):\n",
    "            yield ' '.join((name, state, usa))\n",
    "            \n",
    "    def __call__(self, city):\n",
    "        for text in self._iter_keys(city):\n",
    "            yield keyify(text)"
   ]
  },
  {
   "cell_type": "code",
   "execution_count": 7,
   "metadata": {},
   "outputs": [],
   "source": [
    "class USCityIndex:\n",
    "    \n",
    "    def __init__(self):\n",
    "        self._idx = defaultdict(set)\n",
    "        \n",
    "    def __getitem__(self, text):\n",
    "        return self._idx[keyify(text)]\n",
    "    \n",
    "    def query(self, text):\n",
    "        \"\"\"Get ids, query database records.\n",
    "        \"\"\"\n",
    "        ids = self[text]\n",
    "        \n",
    "        return (\n",
    "            City.query.filter(City.wof_id.in_(ids)).all()\n",
    "            if ids else []\n",
    "        )\n",
    "    \n",
    "    def build(self):\n",
    "        \"\"\"Index all US cities.\n",
    "        \"\"\"\n",
    "        iter_keys = USCityKeyIter()\n",
    "        \n",
    "        cities = City.query.filter(City.country_iso=='US')\n",
    "        \n",
    "        logger.info('Indexing US cities.')\n",
    "        \n",
    "        for city in tqdm(cities):\n",
    "            \n",
    "            try:\n",
    "                \n",
    "                # Generate keys, ensure no errors.\n",
    "                keys = list(iter_keys(city))\n",
    "                \n",
    "                # Index complete key set.\n",
    "                for key in iter_keys(city):\n",
    "                    self[key].add(city.wof_id)\n",
    "\n",
    "            except Exception as e:\n",
    "                pass"
   ]
  },
  {
   "cell_type": "code",
   "execution_count": 8,
   "metadata": {},
   "outputs": [
    {
     "name": "stdout",
     "output_type": "stream",
     "text": [
      "2018-07-19 15:12:55,550 | INFO : Indexing name -> populations.\n"
     ]
    },
    {
     "name": "stderr",
     "output_type": "stream",
     "text": [
      "344249it [00:13, 26266.64it/s]"
     ]
    },
    {
     "name": "stdout",
     "output_type": "stream",
     "text": [
      "2018-07-19 15:13:18,149 | INFO : Indexing US cities.\n"
     ]
    },
    {
     "name": "stderr",
     "output_type": "stream",
     "text": [
      "\n",
      "54727it [00:14, 3650.05it/s]\n"
     ]
    }
   ],
   "source": [
    "ci = USCityIndex()\n",
    "ci.build()"
   ]
  },
  {
   "cell_type": "code",
   "execution_count": 9,
   "metadata": {},
   "outputs": [
    {
     "data": {
      "text/plain": [
       "793038"
      ]
     },
     "execution_count": 9,
     "metadata": {},
     "output_type": "execute_result"
    }
   ],
   "source": [
    "len(ci._idx)"
   ]
  },
  {
   "cell_type": "code",
   "execution_count": 19,
   "metadata": {},
   "outputs": [
    {
     "name": "stdout",
     "output_type": "stream",
     "text": [
      "CPU times: user 1.78 ms, sys: 401 µs, total: 2.19 ms\n",
      "Wall time: 1.88 ms\n"
     ]
    },
    {
     "data": {
      "text/plain": [
       "[City<85923517, Los Angeles, California, United States>]"
      ]
     },
     "execution_count": 19,
     "metadata": {},
     "output_type": "execute_result"
    }
   ],
   "source": [
    "%time ci.query('hollywood')"
   ]
  },
  {
   "cell_type": "code",
   "execution_count": 16,
   "metadata": {},
   "outputs": [
    {
     "data": {
      "text/plain": [
       "[City<85922583, San Francisco, California, United States>]"
      ]
     },
     "execution_count": 16,
     "metadata": {},
     "output_type": "execute_result"
    }
   ],
   "source": [
    "ci.query('sf')"
   ]
  },
  {
   "cell_type": "code",
   "execution_count": null,
   "metadata": {},
   "outputs": [],
   "source": []
  }
 ],
 "metadata": {
  "kernelspec": {
   "display_name": "Python 3",
   "language": "python",
   "name": "python3"
  },
  "language_info": {
   "codemirror_mode": {
    "name": "ipython",
    "version": 3
   },
   "file_extension": ".py",
   "mimetype": "text/x-python",
   "name": "python",
   "nbconvert_exporter": "python",
   "pygments_lexer": "ipython3",
   "version": "3.6.5"
  }
 },
 "nbformat": 4,
 "nbformat_minor": 2
}
