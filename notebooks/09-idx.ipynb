{
 "cells": [
  {
   "cell_type": "code",
   "execution_count": 1,
   "metadata": {},
   "outputs": [],
   "source": [
    "import re\n",
    "import pygtrie\n",
    "\n",
    "from collections import Counter\n",
    "from tqdm import tqdm\n",
    "\n",
    "from litecoder.db import City, session"
   ]
  },
  {
   "cell_type": "code",
   "execution_count": 2,
   "metadata": {},
   "outputs": [],
   "source": [
    "def keyify(text, lower=True):\n",
    "    \"\"\"Normalize text string -> index key.\n",
    "    \"\"\"\n",
    "    text = text.strip()\n",
    "    \n",
    "    # Remove periods\n",
    "    text = re.sub('\\.', '', text)\n",
    "    \n",
    "    # Comma -> space\n",
    "    text = re.sub(',', ' ', text)\n",
    "    \n",
    "    # 2+ whitespace -> space\n",
    "    text = re.sub('\\s{2,}', ' ', text)\n",
    "\n",
    "    if lower:\n",
    "        text = text.lower()\n",
    "\n",
    "    return text"
   ]
  },
  {
   "cell_type": "code",
   "execution_count": 3,
   "metadata": {},
   "outputs": [
    {
     "data": {
      "text/plain": [
       "344249"
      ]
     },
     "execution_count": 3,
     "metadata": {},
     "output_type": "execute_result"
    }
   ],
   "source": [
    "City.query.count()"
   ]
  },
  {
   "cell_type": "code",
   "execution_count": 4,
   "metadata": {},
   "outputs": [],
   "source": [
    "names = [keyify(r[0]) for r in session.query(City.name)]"
   ]
  },
  {
   "cell_type": "code",
   "execution_count": 5,
   "metadata": {},
   "outputs": [],
   "source": [
    "name_counts = Counter(names)"
   ]
  },
  {
   "cell_type": "code",
   "execution_count": 6,
   "metadata": {},
   "outputs": [
    {
     "data": {
      "text/plain": [
       "1"
      ]
     },
     "execution_count": 6,
     "metadata": {},
     "output_type": "execute_result"
    }
   ],
   "source": [
    "name_counts[keyify('tuscaloosa')]"
   ]
  },
  {
   "cell_type": "code",
   "execution_count": 7,
   "metadata": {},
   "outputs": [],
   "source": [
    "def keys_iter(row):\n",
    "    \n",
    "    states = (row.name_a1, row.us_state_abbr)\n",
    "    \n",
    "    for state in states:\n",
    "        yield '%s %s' % (row.name, state)\n",
    "    \n",
    "    if row.population and row.population > 500000:\n",
    "        yield row.name\n",
    "        \n",
    "    elif name_counts[keyify(row.name)] == 1:\n",
    "        yield row.name"
   ]
  },
  {
   "cell_type": "code",
   "execution_count": 9,
   "metadata": {},
   "outputs": [
    {
     "name": "stderr",
     "output_type": "stream",
     "text": [
      "\n",
      "0it [00:00, ?it/s]\u001b[A\n",
      "1it [00:01,  1.50s/it]\u001b[A\n",
      "1963it [00:01, 1230.51it/s]\u001b[A\n",
      "3902it [00:01, 2301.35it/s]\u001b[A\n",
      "5833it [00:02, 2836.69it/s]\u001b[A\n",
      "7690it [00:02, 3566.67it/s]\u001b[A\n",
      "9822it [00:02, 4353.50it/s]\u001b[A\n",
      "13760it [00:02, 5603.70it/s]Exception in thread Thread-4:\n",
      "Traceback (most recent call last):\n",
      "  File \"/usr/local/Cellar/python/3.6.5/Frameworks/Python.framework/Versions/3.6/lib/python3.6/threading.py\", line 916, in _bootstrap_inner\n",
      "    self.run()\n",
      "  File \"/Users/dclure/Projects/litecoder/env/lib/python3.6/site-packages/tqdm/_tqdm.py\", line 144, in run\n",
      "    for instance in self.tqdm_cls._instances:\n",
      "  File \"/usr/local/bin/../Cellar/python/3.6.5/bin/../Frameworks/Python.framework/Versions/3.6/lib/python3.6/_weakrefset.py\", line 60, in __iter__\n",
      "    for itemref in self.data:\n",
      "RuntimeError: Set changed size during iteration\n",
      "\n",
      "54727it [00:04, 11443.07it/s]\n"
     ]
    }
   ],
   "source": [
    "idx = pygtrie.StringTrie(separator=' ')\n",
    "\n",
    "cities = City.query.filter(City.country_iso=='US')\n",
    "\n",
    "for c in tqdm(cities):\n",
    "    for key_raw in keys_iter(c):\n",
    "        \n",
    "        key = keyify(key_raw)\n",
    "        \n",
    "        if key in idx:\n",
    "            idx[key] = (*idx[key], c.wof_id)\n",
    "\n",
    "        else:\n",
    "            idx[key] = (c.wof_id,)"
   ]
  },
  {
   "cell_type": "code",
   "execution_count": 70,
   "metadata": {},
   "outputs": [
    {
     "name": "stdout",
     "output_type": "stream",
     "text": [
      "CPU times: user 26 µs, sys: 16 µs, total: 42 µs\n",
      "Wall time: 44.1 µs\n"
     ]
    },
    {
     "data": {
      "text/plain": [
       "('mobile al', (85913749,))"
      ]
     },
     "execution_count": 70,
     "metadata": {},
     "output_type": "execute_result"
    }
   ],
   "source": [
    "%time idx.longest_prefix(keyify('mobile al'))"
   ]
  },
  {
   "cell_type": "code",
   "execution_count": 51,
   "metadata": {},
   "outputs": [
    {
     "data": {
      "text/plain": [
       "[]"
      ]
     },
     "execution_count": 51,
     "metadata": {},
     "output_type": "execute_result"
    }
   ],
   "source": [
    "list(idx.prefixes('lodi'))"
   ]
  },
  {
   "cell_type": "code",
   "execution_count": 66,
   "metadata": {},
   "outputs": [
    {
     "data": {
      "text/plain": [
       "\u001b[0;31mSignature:\u001b[0m \u001b[0midx\u001b[0m\u001b[0;34m.\u001b[0m\u001b[0mprefixes\u001b[0m\u001b[0;34m(\u001b[0m\u001b[0mkey\u001b[0m\u001b[0;34m)\u001b[0m\u001b[0;34m\u001b[0m\u001b[0m\n",
       "\u001b[0;31mDocstring:\u001b[0m\n",
       "Walks towards the node specified by key and yields all found items.\n",
       "\n",
       "Example:\n",
       "\n",
       "    >>> import pygtrie\n",
       "    >>> t = pygtrie.StringTrie()\n",
       "    >>> t['foo'] = 'Foo'\n",
       "    >>> t['foo/bar/baz'] = 'Baz'\n",
       "    >>> list(t.prefixes('foo/bar/baz/qux'))\n",
       "    [('foo', 'Foo'), ('foo/bar/baz', 'Baz')]\n",
       "    >>> list(t.prefixes('does/not/exist'))\n",
       "    []\n",
       "\n",
       "Args:\n",
       "    key: Key to look for.\n",
       "\n",
       "Yields:\n",
       "    ``(k, value)`` pairs denoting keys with associated values\n",
       "    encountered on the way towards the specified key.\n",
       "\u001b[0;31mFile:\u001b[0m      ~/Projects/litecoder/env/lib/python3.6/site-packages/pygtrie.py\n",
       "\u001b[0;31mType:\u001b[0m      method\n"
      ]
     },
     "metadata": {},
     "output_type": "display_data"
    }
   ],
   "source": [
    "idx.prefixes?"
   ]
  },
  {
   "cell_type": "code",
   "execution_count": 42,
   "metadata": {},
   "outputs": [
    {
     "data": {
      "text/plain": [
       "False"
      ]
     },
     "execution_count": 42,
     "metadata": {},
     "output_type": "execute_result"
    }
   ],
   "source": [
    "idx.has_node('red level') == idx.HAS_SUBTRIE"
   ]
  },
  {
   "cell_type": "code",
   "execution_count": 48,
   "metadata": {},
   "outputs": [
    {
     "data": {
      "text/plain": [
       "(None, None)"
      ]
     },
     "execution_count": 48,
     "metadata": {},
     "output_type": "execute_result"
    }
   ],
   "source": [
    "idx.longest_prefix('red')"
   ]
  },
  {
   "cell_type": "code",
   "execution_count": 60,
   "metadata": {},
   "outputs": [
    {
     "data": {
      "text/plain": [
       "False"
      ]
     },
     "execution_count": 60,
     "metadata": {},
     "output_type": "execute_result"
    }
   ],
   "source": [
    "idx.has_subtrie('level al')"
   ]
  },
  {
   "cell_type": "code",
   "execution_count": 61,
   "metadata": {},
   "outputs": [
    {
     "data": {
      "text/plain": [
       "\u001b[0;31mSignature:\u001b[0m \u001b[0midx\u001b[0m\u001b[0;34m.\u001b[0m\u001b[0mtraverse\u001b[0m\u001b[0;34m(\u001b[0m\u001b[0mnode_factory\u001b[0m\u001b[0;34m,\u001b[0m \u001b[0mprefix\u001b[0m\u001b[0;34m=\u001b[0m\u001b[0;34m<\u001b[0m\u001b[0mobject\u001b[0m \u001b[0mobject\u001b[0m \u001b[0mat\u001b[0m \u001b[0;36m0x103eccbf0\u001b[0m\u001b[0;34m>\u001b[0m\u001b[0;34m)\u001b[0m\u001b[0;34m\u001b[0m\u001b[0m\n",
       "\u001b[0;31mDocstring:\u001b[0m\n",
       "Traverses the tree using node_factory object.\n",
       "\n",
       "node_factory is a callable function which accepts (path_conv, path,\n",
       "children, value=...) arguments, where path_conv is a lambda converting\n",
       "path representation to key, path is the path to this node, children is\n",
       "an iterable of children nodes constructed by node_factory, optional\n",
       "value is the value associated with the path.\n",
       "\n",
       "node_factory's children argument is a generator which has a few\n",
       "consequences:\n",
       "\n",
       "* To traverse into node's children, the generator must be iterated over.\n",
       "  This can by accomplished by a simple \"children = list(children)\"\n",
       "  statement.\n",
       "* Ignoring the argument allows node_factory to stop the traversal from\n",
       "  going into the children of the node.  In other words, whole subtrie\n",
       "  can be removed from traversal if node_factory chooses so.\n",
       "* If children is stored as is (i.e. as a generator) when it is iterated\n",
       "  over later on it will see state of the trie as it is during the\n",
       "  iteration and not when traverse method was called.\n",
       "\n",
       ":func:`Trie.traverse` has two advantages over :func:`Trie.iteritems` and\n",
       "similar methods:\n",
       "\n",
       "1. it allows subtries to be skipped completely when going through the\n",
       "   list of nodes based on the property of the parent node; and\n",
       "\n",
       "2. it represents structure of the trie directly making it easy to\n",
       "   convert structure into a different representation.\n",
       "\n",
       "For example, the below snippet prints all files in current directory\n",
       "counting how many HTML files were found but ignores hidden files and\n",
       "directories (i.e. those whose names start with a dot)::\n",
       "\n",
       "    import os\n",
       "    import pygtrie\n",
       "\n",
       "    t = pygtrie.StringTrie(separator=os.sep)\n",
       "\n",
       "    # Construct a trie with all files in current directory and all\n",
       "    # of its sub-directories.  Files get set a True value.\n",
       "    # Directories are represented implicitly by being prefixes of\n",
       "    # files.\n",
       "    for root, _, files in os.walk('.'):\n",
       "        for name in files: t[os.path.join(root, name)] = True\n",
       "\n",
       "    def traverse_callback(path_conv, path, children, is_file=False):\n",
       "        if path and path[-1] != '.' and path[-1][0] == '.':\n",
       "            # Ignore hidden directory (but accept root node and '.')\n",
       "            return 0\n",
       "        elif is_file:\n",
       "            print path_conv(path)\n",
       "            return int(path[-1].endswith('.html'))\n",
       "        else:\n",
       "            # Otherwise, it's a directory.  Traverse into children.\n",
       "            return sum(int(is_html) for is_html in children)\n",
       "\n",
       "    print t.traverse(traverse_callback)\n",
       "\n",
       "As documented, ignoring the children argument causes subtrie to be\n",
       "omitted and not walked into.\n",
       "\n",
       "In the next example, the trie is converted to a tree representation\n",
       "where child nodes include a pointer to their parent.  As before, hidden\n",
       "files and directories are ignored::\n",
       "\n",
       "    import os\n",
       "    import pygtrie\n",
       "\n",
       "    t = pygtrie.StringTrie(separator=os.sep)\n",
       "    for root, _, files in os.walk('.'):\n",
       "        for name in files: t[os.path.join(root, name)] = True\n",
       "\n",
       "    class File(object):\n",
       "        def __init__(self, name):\n",
       "            self.name = name\n",
       "            self.parent = None\n",
       "\n",
       "    class Directory(File):\n",
       "        def __init__(self, name, children):\n",
       "            super(Directory, self).__init__(name)\n",
       "            self._children = children\n",
       "            for child in children:\n",
       "                child.parent = self\n",
       "\n",
       "    def traverse_callback(path_conv, path, children, is_file=False):\n",
       "        if not path or path[-1] == '.' or path[-1][0] != '.':\n",
       "            if is_file:\n",
       "                return File(path[-1])\n",
       "            children = filter(None, children)\n",
       "            return Directory(path[-1] if path else '', children)\n",
       "\n",
       "    root = t.traverse(traverse_callback)\n",
       "\n",
       "Note: Unlike iterators, traverse method uses stack recursion which means\n",
       "that using it on deep tries may lead to a RuntimeError exception thrown\n",
       "once Python's maximum recursion depth is reached.\n",
       "\n",
       "Args:\n",
       "    node_factory: Makes opaque objects from the keys and values of the\n",
       "        trie.\n",
       "    prefix: Prefix for node to start traversal, by default starts at\n",
       "        root.\n",
       "\n",
       "Returns:\n",
       "    Node object constructed by node_factory corresponding to the root\n",
       "    node.\n",
       "\u001b[0;31mFile:\u001b[0m      ~/Projects/litecoder/env/lib/python3.6/site-packages/pygtrie.py\n",
       "\u001b[0;31mType:\u001b[0m      method\n"
      ]
     },
     "metadata": {},
     "output_type": "display_data"
    }
   ],
   "source": [
    "idx.traverse?"
   ]
  },
  {
   "cell_type": "code",
   "execution_count": null,
   "metadata": {},
   "outputs": [],
   "source": []
  }
 ],
 "metadata": {
  "kernelspec": {
   "display_name": "Python 3",
   "language": "python",
   "name": "python3"
  },
  "language_info": {
   "codemirror_mode": {
    "name": "ipython",
    "version": 3
   },
   "file_extension": ".py",
   "mimetype": "text/x-python",
   "name": "python",
   "nbconvert_exporter": "python",
   "pygments_lexer": "ipython3",
   "version": "3.6.5"
  }
 },
 "nbformat": 4,
 "nbformat_minor": 2
}
