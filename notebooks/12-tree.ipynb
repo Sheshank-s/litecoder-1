{
 "cells": [
  {
   "cell_type": "code",
   "execution_count": 20,
   "metadata": {},
   "outputs": [],
   "source": [
    "import re\n",
    "\n",
    "from tqdm import tqdm\n",
    "from anytree import Node, RenderTree, search\n",
    "from collections import Counter, defaultdict\n",
    "from wordfreq import top_n_list\n",
    "from textblob import TextBlob\n",
    "\n",
    "from litecoder.db import City, session"
   ]
  },
  {
   "cell_type": "code",
   "execution_count": 21,
   "metadata": {},
   "outputs": [],
   "source": [
    "def tokenize(text):\n",
    "    return [str(t) for t in TextBlob(text).tokens]"
   ]
  },
  {
   "cell_type": "code",
   "execution_count": 207,
   "metadata": {},
   "outputs": [],
   "source": [
    "class ToponymToken(Node):\n",
    "    \n",
    "    def __init__(self, name, parent=None, ignore_case=True, allow_comma=False, scrub_re='\\.'):\n",
    "        \n",
    "        super().__init__(name, parent)\n",
    "        \n",
    "        self.ignore_case = ignore_case\n",
    "        self.allow_comma = allow_comma\n",
    "        self.scrub_re = scrub_re\n",
    "        \n",
    "        self._cleaned = self._clean_token(name)\n",
    "        \n",
    "    def _clean_token(self, token):\n",
    "        \n",
    "        if self.ignore_case:\n",
    "            token = token.lower()\n",
    "            \n",
    "        if self.scrub_re:\n",
    "            token = re.sub(self.scrub_re, '', token)\n",
    "            \n",
    "        return token\n",
    "    \n",
    "    def match_token(self, token):\n",
    "        \n",
    "        if self._clean_token(token) == self._cleaned:\n",
    "            return True\n",
    "        \n",
    "        if self.allow_comma and token == ',':\n",
    "            return True"
   ]
  },
  {
   "cell_type": "code",
   "execution_count": 208,
   "metadata": {},
   "outputs": [],
   "source": [
    "south = ToponymToken('South')\n",
    "lake = ToponymToken('Lake', parent=south)\n",
    "tahoe = ToponymToken('Tahoe', parent=lake, allow_comma=True)\n",
    "ca = ToponymToken('CA', parent=tahoe)\n",
    "california = ToponymToken('California', parent=tahoe)"
   ]
  },
  {
   "cell_type": "code",
   "execution_count": 209,
   "metadata": {},
   "outputs": [
    {
     "name": "stdout",
     "output_type": "stream",
     "text": [
      "ToponymToken('/South', allow_comma=False, ignore_case=True, scrub_re='\\\\.')\n",
      "└── ToponymToken('/South/Lake', allow_comma=False, ignore_case=True, scrub_re='\\\\.')\n",
      "    └── ToponymToken('/South/Lake/Tahoe', allow_comma=True, ignore_case=True, scrub_re='\\\\.')\n",
      "        ├── ToponymToken('/South/Lake/Tahoe/CA', allow_comma=False, ignore_case=True, scrub_re='\\\\.')\n",
      "        └── ToponymToken('/South/Lake/Tahoe/California', allow_comma=False, ignore_case=True, scrub_re='\\\\.')\n"
     ]
    }
   ],
   "source": [
    "print(RenderTree(south))"
   ]
  },
  {
   "cell_type": "code",
   "execution_count": 210,
   "metadata": {},
   "outputs": [],
   "source": [
    "idx = defaultdict(list)\n",
    "idx['south'].append(south)"
   ]
  },
  {
   "cell_type": "code",
   "execution_count": 219,
   "metadata": {},
   "outputs": [],
   "source": [
    "def find_locs(text):\n",
    "    \n",
    "    active = []\n",
    "    closed = []\n",
    "    for token in tokenize(text):\n",
    "        \n",
    "        extensions = []\n",
    "        for an in active:\n",
    "            if not an.is_leaf:\n",
    "                \n",
    "                if an.match_token(token):\n",
    "                    extensions.append(an)\n",
    "                    \n",
    "                else:\n",
    "                    extensions += [c for c in an.children if c.match_token(token)]\n",
    "                \n",
    "        if not extensions:\n",
    "            closed += [n for n in active if n.is_leaf]\n",
    "\n",
    "        active = extensions\n",
    "            \n",
    "        if not active:\n",
    "            active = idx.get(token.lower(), [])\n",
    "            \n",
    "    closed += [n for n in active if n.is_leaf]\n",
    "\n",
    "    return closed"
   ]
  },
  {
   "cell_type": "code",
   "execution_count": 220,
   "metadata": {},
   "outputs": [
    {
     "data": {
      "text/plain": [
       "[ToponymToken('/South/Lake/Tahoe/CA', allow_comma=False, ignore_case=True, scrub_re='\\\\.')]"
      ]
     },
     "execution_count": 220,
     "metadata": {},
     "output_type": "execute_result"
    }
   ],
   "source": [
    "find_locs('I grew up in South Lake, Tahoe C.A. in the 90s.')"
   ]
  },
  {
   "cell_type": "code",
   "execution_count": null,
   "metadata": {},
   "outputs": [],
   "source": []
  }
 ],
 "metadata": {
  "kernelspec": {
   "display_name": "Python 3",
   "language": "python",
   "name": "python3"
  },
  "language_info": {
   "codemirror_mode": {
    "name": "ipython",
    "version": 3
   },
   "file_extension": ".py",
   "mimetype": "text/x-python",
   "name": "python",
   "nbconvert_exporter": "python",
   "pygments_lexer": "ipython3",
   "version": "3.6.5"
  }
 },
 "nbformat": 4,
 "nbformat_minor": 2
}
