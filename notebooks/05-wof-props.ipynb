{
 "cells": [
  {
   "cell_type": "code",
   "execution_count": 1,
   "metadata": {},
   "outputs": [],
   "source": [
    "import pandas as pd\n",
    "\n",
    "from tqdm import tqdm\n",
    "from itertools import islice\n",
    "\n",
    "from litecoder.sources import WOFLocalitiesRepo, WOFLocalityGeojson"
   ]
  },
  {
   "cell_type": "code",
   "execution_count": 2,
   "metadata": {},
   "outputs": [],
   "source": [
    "loc = WOFLocalityGeojson('/Users/dclure/Projects/litecoder2/data/wof-locality-20171231T161520-bundle/data/101/711/873/101711873.geojson')"
   ]
  },
  {
   "cell_type": "code",
   "execution_count": 3,
   "metadata": {},
   "outputs": [
    {
     "data": {
      "text/plain": [
       "'Vinton'"
      ]
     },
     "execution_count": 3,
     "metadata": {},
     "output_type": "execute_result"
    }
   ],
   "source": [
    "loc.name"
   ]
  },
  {
   "cell_type": "code",
   "execution_count": 4,
   "metadata": {},
   "outputs": [
    {
     "data": {
      "text/plain": [
       "38.97757"
      ]
     },
     "execution_count": 4,
     "metadata": {},
     "output_type": "execute_result"
    }
   ],
   "source": [
    "loc.latitude"
   ]
  },
  {
   "cell_type": "code",
   "execution_count": 5,
   "metadata": {},
   "outputs": [
    {
     "data": {
      "text/plain": [
       "38.97757"
      ]
     },
     "execution_count": 5,
     "metadata": {},
     "output_type": "execute_result"
    }
   ],
   "source": [
    "loc.longitude"
   ]
  },
  {
   "cell_type": "code",
   "execution_count": 6,
   "metadata": {},
   "outputs": [
    {
     "data": {
      "text/plain": [
       "'US'"
      ]
     },
     "execution_count": 6,
     "metadata": {},
     "output_type": "execute_result"
    }
   ],
   "source": [
    "loc.country_iso"
   ]
  },
  {
   "cell_type": "code",
   "execution_count": 7,
   "metadata": {},
   "outputs": [
    {
     "data": {
      "text/plain": [
       "'United States'"
      ]
     },
     "execution_count": 7,
     "metadata": {},
     "output_type": "execute_result"
    }
   ],
   "source": [
    "loc.country_name"
   ]
  },
  {
   "cell_type": "code",
   "execution_count": 8,
   "metadata": {},
   "outputs": [
    {
     "data": {
      "text/plain": [
       "782"
      ]
     },
     "execution_count": 8,
     "metadata": {},
     "output_type": "execute_result"
    }
   ],
   "source": [
    "loc.wikipedia_wordcount"
   ]
  },
  {
   "cell_type": "code",
   "execution_count": 9,
   "metadata": {},
   "outputs": [
    {
     "data": {
      "text/plain": [
       "222"
      ]
     },
     "execution_count": 9,
     "metadata": {},
     "output_type": "execute_result"
    }
   ],
   "source": [
    "loc.population"
   ]
  },
  {
   "cell_type": "code",
   "execution_count": 10,
   "metadata": {},
   "outputs": [
    {
     "data": {
      "text/plain": [
       "187"
      ]
     },
     "execution_count": 10,
     "metadata": {},
     "output_type": "execute_result"
    }
   ],
   "source": [
    "loc.elevation"
   ]
  },
  {
   "cell_type": "code",
   "execution_count": 11,
   "metadata": {},
   "outputs": [
    {
     "data": {
      "text/plain": [
       "'Ohio'"
      ]
     },
     "execution_count": 11,
     "metadata": {},
     "output_type": "execute_result"
    }
   ],
   "source": [
    "loc.state_name"
   ]
  },
  {
   "cell_type": "code",
   "execution_count": 12,
   "metadata": {},
   "outputs": [
    {
     "data": {
      "text/plain": [
       "'OH'"
      ]
     },
     "execution_count": 12,
     "metadata": {},
     "output_type": "execute_result"
    }
   ],
   "source": [
    "loc.state_abbr"
   ]
  },
  {
   "cell_type": "code",
   "execution_count": 14,
   "metadata": {},
   "outputs": [
    {
     "data": {
      "text/plain": [
       "3133241.704371"
      ]
     },
     "execution_count": 14,
     "metadata": {},
     "output_type": "execute_result"
    }
   ],
   "source": [
    "loc.area_m2"
   ]
  },
  {
   "cell_type": "code",
   "execution_count": 4,
   "metadata": {},
   "outputs": [
    {
     "data": {
      "text/plain": [
       "4527247"
      ]
     },
     "execution_count": 4,
     "metadata": {},
     "output_type": "execute_result"
    }
   ],
   "source": [
    "loc.geonames_id"
   ]
  },
  {
   "cell_type": "code",
   "execution_count": 3,
   "metadata": {},
   "outputs": [
    {
     "data": {
      "text/plain": [
       "{'coordinates': [[[-82.349268, 38.977914],\n",
       "   [-82.349258, 38.97802],\n",
       "   [-82.346157, 38.977908],\n",
       "   [-82.345951, 38.980082],\n",
       "   [-82.345495, 38.98621],\n",
       "   [-82.344831, 38.986174],\n",
       "   [-82.344619, 38.986162],\n",
       "   [-82.344464, 38.986154],\n",
       "   [-82.337958, 38.985829],\n",
       "   [-82.333385, 38.985608],\n",
       "   [-82.328058, 38.985332],\n",
       "   [-82.327809, 38.98531],\n",
       "   [-82.326371, 38.985243],\n",
       "   [-82.326441, 38.984746],\n",
       "   [-82.326478, 38.98448],\n",
       "   [-82.326487, 38.984445],\n",
       "   [-82.327146, 38.976263],\n",
       "   [-82.327169, 38.97601],\n",
       "   [-82.327355, 38.973979],\n",
       "   [-82.32749, 38.972514],\n",
       "   [-82.32756, 38.971731],\n",
       "   [-82.327775, 38.969332],\n",
       "   [-82.329368, 38.969441],\n",
       "   [-82.332842, 38.969654],\n",
       "   [-82.334071, 38.96973],\n",
       "   [-82.334874, 38.969781],\n",
       "   [-82.334936, 38.969785],\n",
       "   [-82.335087, 38.969794],\n",
       "   [-82.335206, 38.9698],\n",
       "   [-82.344931, 38.970392],\n",
       "   [-82.346063, 38.970471],\n",
       "   [-82.347213, 38.97057],\n",
       "   [-82.350061, 38.970711],\n",
       "   [-82.349829, 38.972894],\n",
       "   [-82.349689, 38.974212],\n",
       "   [-82.349451, 38.976445],\n",
       "   [-82.349268, 38.977914]]],\n",
       " 'type': 'Polygon'}"
      ]
     },
     "execution_count": 3,
     "metadata": {},
     "output_type": "execute_result"
    }
   ],
   "source": [
    "loc.geometry"
   ]
  },
  {
   "cell_type": "code",
   "execution_count": 2,
   "metadata": {},
   "outputs": [],
   "source": [
    "s = WOFLocalitiesRepo('/Users/dclure/Projects/litecoder2/data/wof-locality-20171231T161520-bundle/')"
   ]
  },
  {
   "cell_type": "code",
   "execution_count": 3,
   "metadata": {},
   "outputs": [
    {
     "name": "stderr",
     "output_type": "stream",
     "text": [
      "50000it [00:18, 2670.57it/s]\n"
     ]
    }
   ],
   "source": [
    "rows = []\n",
    "for loc in tqdm(islice(s.locs_iter(), 50000)):\n",
    "    rows.append(dict(wof_id=loc.wof_id, name=loc.name))"
   ]
  },
  {
   "cell_type": "code",
   "execution_count": 4,
   "metadata": {},
   "outputs": [],
   "source": [
    "df = pd.DataFrame(rows)"
   ]
  },
  {
   "cell_type": "code",
   "execution_count": null,
   "metadata": {},
   "outputs": [],
   "source": []
  }
 ],
 "metadata": {
  "kernelspec": {
   "display_name": "Python 3",
   "language": "python",
   "name": "python3"
  },
  "language_info": {
   "codemirror_mode": {
    "name": "ipython",
    "version": 3
   },
   "file_extension": ".py",
   "mimetype": "text/x-python",
   "name": "python",
   "nbconvert_exporter": "python",
   "pygments_lexer": "ipython3",
   "version": "3.6.5"
  }
 },
 "nbformat": 4,
 "nbformat_minor": 2
}
