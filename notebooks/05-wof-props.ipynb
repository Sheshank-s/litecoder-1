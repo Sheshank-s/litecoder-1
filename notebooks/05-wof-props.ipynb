{
 "cells": [
  {
   "cell_type": "code",
   "execution_count": 1,
   "metadata": {},
   "outputs": [],
   "source": [
    "import pandas as pd\n",
    "\n",
    "from tqdm import tqdm\n",
    "from itertools import islice\n",
    "\n",
    "from litecoder.sources import WOFLocalitiesRepo, WOFLocalityGeojson\n",
    "from litecoder.db import City"
   ]
  },
  {
   "cell_type": "code",
   "execution_count": 2,
   "metadata": {},
   "outputs": [],
   "source": [
    "loc = WOFLocalityGeojson('/Users/dclure/Projects/litecoder2/data/wof-locality-20171231T161520-bundle/data/859/775/39/85977539.geojson')"
   ]
  },
  {
   "cell_type": "code",
   "execution_count": 3,
   "metadata": {},
   "outputs": [
    {
     "name": "stdout",
     "output_type": "stream",
     "text": [
      "wof_id 85977539\n",
      "dbpedia_id Manhattan\n",
      "freebase_id en.new_york_county\n",
      "factual_id 08d08428-8f76-11e1-848f-cfd5bf3ef515\n",
      "fips_code 3651000\n",
      "geonames_id 5128581\n",
      "geoplanet_id 2459115\n",
      "library_of_congress_id n79007751\n",
      "new_york_times_id N63718991197345770861\n",
      "quattroshapes_id 826077\n",
      "wikidata_id Q60\n",
      "wikipedia_page New York City\n",
      "name New York\n",
      "country_iso US\n",
      "country_name United States\n",
      "state_name New York\n",
      "state_abbr NY\n",
      "latitude 40.694457\n",
      "longitude 40.694457\n",
      "population 8175133\n",
      "population_rank 13\n",
      "wikipedia_wordcount 27531\n",
      "elevation 10\n",
      "area_m2 783424470.067211\n"
     ]
    }
   ],
   "source": [
    "for col in City.__table__.columns.keys():\n",
    "    if col != 'geometry_json':\n",
    "        print(col, getattr(loc, col))"
   ]
  },
  {
   "cell_type": "code",
   "execution_count": 4,
   "metadata": {},
   "outputs": [
    {
     "data": {
      "text/plain": [
       "{'BKLYN',\n",
       " 'Big Apple',\n",
       " 'Bigapple',\n",
       " 'Empire City',\n",
       " 'Gotham',\n",
       " 'MNYSC',\n",
       " 'N.Y.',\n",
       " 'N.Y.C.',\n",
       " 'NY',\n",
       " 'NY City',\n",
       " 'NY Cty',\n",
       " 'NYC',\n",
       " 'NYR',\n",
       " 'New York City',\n",
       " 'New York Cty',\n",
       " 'Newyork',\n",
       " 'Newyorkcity',\n",
       " 'Novaiorque',\n",
       " 'Nycity',\n",
       " 'The Big Apple',\n",
       " 'The City',\n",
       " 'The City that Never Sleeps',\n",
       " 'The Five Boroughs',\n",
       " 'The Melting Pot',\n",
       " 'Thebigapple'}"
      ]
     },
     "execution_count": 4,
     "metadata": {},
     "output_type": "execute_result"
    }
   ],
   "source": [
    "loc.alt_names"
   ]
  }
 ],
 "metadata": {
  "kernelspec": {
   "display_name": "Python 3",
   "language": "python",
   "name": "python3"
  },
  "language_info": {
   "codemirror_mode": {
    "name": "ipython",
    "version": 3
   },
   "file_extension": ".py",
   "mimetype": "text/x-python",
   "name": "python",
   "nbconvert_exporter": "python",
   "pygments_lexer": "ipython3",
   "version": "3.6.5"
  }
 },
 "nbformat": 4,
 "nbformat_minor": 2
}
