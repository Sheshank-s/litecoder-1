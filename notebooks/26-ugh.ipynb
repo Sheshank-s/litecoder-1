{
 "cells": [
  {
   "cell_type": "code",
   "execution_count": 67,
   "metadata": {},
   "outputs": [],
   "source": [
    "import re\n",
    "\n",
    "from tqdm import tqdm\n",
    "from collections import defaultdict, Counter, UserDict\n",
    "from itertools import product\n",
    "from cached_property import cached_property\n",
    "\n",
    "from litecoder.db import session, City"
   ]
  },
  {
   "cell_type": "code",
   "execution_count": 21,
   "metadata": {},
   "outputs": [],
   "source": [
    "def keyify(text):\n",
    "    text = text.lower()\n",
    "    text = re.sub('[^a-z0-9 ]', '', text)\n",
    "    return text"
   ]
  },
  {
   "cell_type": "code",
   "execution_count": 85,
   "metadata": {},
   "outputs": [],
   "source": [
    "USA_NAMES = (\n",
    "    'USA',\n",
    "    'United States',\n",
    "    'United States of America',\n",
    "    'US',\n",
    "    'America',\n",
    ")\n",
    "\n",
    "class USCityKeyGen:\n",
    "    \n",
    "    @cached_property\n",
    "    def int_name_counts(self):\n",
    "        names = [keyify(r[0]) for r in session.query(City.name)]\n",
    "        return Counter(names)\n",
    "    \n",
    "    def raw_keys_iter(self, city):\n",
    "        \n",
    "        # TODO: Alt names\n",
    "        names = (city.name,)\n",
    "        \n",
    "        # TODO: Parametrize\n",
    "        is_big = city.population and city.population > 500000\n",
    "        \n",
    "        name_is_unique = self.int_name_counts[keyify(city.name)] == 1\n",
    "        \n",
    "        # Bare name, if unique or high population.\n",
    "        if is_big or name_is_unique:\n",
    "            for name in names:\n",
    "                yield name\n",
    "            \n",
    "        states = (city.name_a1, city.us_state_abbr)\n",
    "        \n",
    "        for name, state in product(names, states):\n",
    "            yield ' '.join((name, state))\n",
    "            \n",
    "        for name, state, usa in product(names, states, USA_NAMES):\n",
    "            yield ' '.join((name, state, usa))\n",
    "            \n",
    "    def __call__(self, city):\n",
    "        for text in self.raw_keys_iter(city):\n",
    "            yield keyify(text)"
   ]
  },
  {
   "cell_type": "code",
   "execution_count": 86,
   "metadata": {},
   "outputs": [],
   "source": [
    "city_key_iter = USCityKeyGen()"
   ]
  },
  {
   "cell_type": "code",
   "execution_count": 87,
   "metadata": {},
   "outputs": [],
   "source": [
    "la = City.query.filter(City.country_iso=='US').filter(City.name=='Los Angeles').first()\n",
    "tuscaloosa = City.query.filter(City.country_iso=='US').filter(City.name=='Tuscaloosa').first()"
   ]
  },
  {
   "cell_type": "code",
   "execution_count": 88,
   "metadata": {},
   "outputs": [
    {
     "data": {
      "text/plain": [
       "['tuscaloosa',\n",
       " 'tuscaloosa alabama',\n",
       " 'tuscaloosa al',\n",
       " 'tuscaloosa alabama usa',\n",
       " 'tuscaloosa alabama united states',\n",
       " 'tuscaloosa alabama united states of america',\n",
       " 'tuscaloosa alabama us',\n",
       " 'tuscaloosa alabama america',\n",
       " 'tuscaloosa al usa',\n",
       " 'tuscaloosa al united states',\n",
       " 'tuscaloosa al united states of america',\n",
       " 'tuscaloosa al us',\n",
       " 'tuscaloosa al america']"
      ]
     },
     "execution_count": 88,
     "metadata": {},
     "output_type": "execute_result"
    }
   ],
   "source": [
    "list(city_key_iter(tuscaloosa))"
   ]
  },
  {
   "cell_type": "code",
   "execution_count": 91,
   "metadata": {},
   "outputs": [],
   "source": [
    "class CityIndex:\n",
    "    \n",
    "    def __init__(self):\n",
    "        self._idx = defaultdict(list)\n",
    "        \n",
    "    def __getitem__(self, text):\n",
    "        return self._idx[keyify(text)]\n",
    "    \n",
    "    def build(self):\n",
    "        iter_keys = USCityKeyGen()\n",
    "        for city in tqdm(City.query.filter(City.country_iso=='US')):\n",
    "            \n",
    "            try:\n",
    "                keys = list(iter_keys(city))\n",
    "                for key in iter_keys(city):\n",
    "                    self[key].append(city.wof_id)\n",
    "\n",
    "            except Exception as e:\n",
    "                pass"
   ]
  },
  {
   "cell_type": "code",
   "execution_count": 92,
   "metadata": {},
   "outputs": [
    {
     "name": "stderr",
     "output_type": "stream",
     "text": [
      "54727it [00:09, 5897.33it/s]\n"
     ]
    }
   ],
   "source": [
    "ci = CityIndex()\n",
    "ci.build()"
   ]
  },
  {
   "cell_type": "code",
   "execution_count": 72,
   "metadata": {},
   "outputs": [
    {
     "data": {
      "text/plain": [
       "635781"
      ]
     },
     "execution_count": 72,
     "metadata": {},
     "output_type": "execute_result"
    }
   ],
   "source": [
    "len(ci._idx)"
   ]
  },
  {
   "cell_type": "code",
   "execution_count": 94,
   "metadata": {},
   "outputs": [
    {
     "data": {
      "text/plain": [
       "[85914453]"
      ]
     },
     "execution_count": 94,
     "metadata": {},
     "output_type": "execute_result"
    }
   ],
   "source": [
    "ci['Tuscaloosa']"
   ]
  },
  {
   "cell_type": "code",
   "execution_count": null,
   "metadata": {},
   "outputs": [],
   "source": []
  }
 ],
 "metadata": {
  "kernelspec": {
   "display_name": "Python 3",
   "language": "python",
   "name": "python3"
  },
  "language_info": {
   "codemirror_mode": {
    "name": "ipython",
    "version": 3
   },
   "file_extension": ".py",
   "mimetype": "text/x-python",
   "name": "python",
   "nbconvert_exporter": "python",
   "pygments_lexer": "ipython3",
   "version": "3.6.5"
  }
 },
 "nbformat": 4,
 "nbformat_minor": 2
}
