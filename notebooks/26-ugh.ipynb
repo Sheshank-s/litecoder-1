{
 "cells": [
  {
   "cell_type": "code",
   "execution_count": 1,
   "metadata": {},
   "outputs": [],
   "source": [
    "import re\n",
    "\n",
    "from tqdm import tqdm\n",
    "from collections import defaultdict, Counter, UserDict\n",
    "from itertools import product\n",
    "from cached_property import cached_property\n",
    "\n",
    "from litecoder.db import session, City, CityAltName"
   ]
  },
  {
   "cell_type": "code",
   "execution_count": 2,
   "metadata": {},
   "outputs": [],
   "source": [
    "def keyify(text):\n",
    "    \n",
    "    text = text.lower()\n",
    "    text = text.strip()\n",
    "\n",
    "    text = text.replace('.', '')\n",
    "    text = re.sub('[,-]', ' ', text)\n",
    "    \n",
    "    # 2+ whitespace -> 1 space\n",
    "    text = re.sub('\\s{2,}', ' ', text)\n",
    "    \n",
    "    return text"
   ]
  },
  {
   "cell_type": "code",
   "execution_count": 3,
   "metadata": {},
   "outputs": [
    {
     "data": {
      "text/plain": [
       "'la la land'"
      ]
     },
     "execution_count": 3,
     "metadata": {},
     "output_type": "execute_result"
    }
   ],
   "source": [
    "keyify('la-la land')"
   ]
  },
  {
   "cell_type": "code",
   "execution_count": 44,
   "metadata": {},
   "outputs": [
    {
     "data": {
      "text/plain": [
       "'tuscaloosa al'"
      ]
     },
     "execution_count": 44,
     "metadata": {},
     "output_type": "execute_result"
    }
   ],
   "source": [
    "keyify('Tuscaloosa, AL')"
   ]
  },
  {
   "cell_type": "code",
   "execution_count": 55,
   "metadata": {},
   "outputs": [],
   "source": [
    "USA_NAMES = (\n",
    "    'USA',\n",
    "    'United States',\n",
    "    'United States of America',\n",
    "    'US',\n",
    "    'America',\n",
    ")\n",
    "\n",
    "class USCityKeyGen:\n",
    "    \n",
    "    # TODO: Separate class?\n",
    "    @cached_property\n",
    "    def int_name_counts(self):\n",
    "        names = [keyify(r[0]) for r in session.query(City.name)]\n",
    "        return Counter(names)\n",
    "    \n",
    "    def raw_keys_iter(self, city):\n",
    "        \"\"\"Enumerate index keys for a city.\n",
    "        \n",
    "        Args:\n",
    "            city (db.City)\n",
    "            \n",
    "        Yields: str\n",
    "        \"\"\"\n",
    "        names = (city.name,)\n",
    "        \n",
    "        # TODO: Parametrize\n",
    "        is_big = city.population and city.population > 500000\n",
    "        \n",
    "        name_is_unique = self.int_name_counts[keyify(city.name)] == 1\n",
    "        \n",
    "        # If unique or high population.\n",
    "        if is_big or name_is_unique:\n",
    "\n",
    "            # Bare name\n",
    "            for name in names:\n",
    "                yield name\n",
    "\n",
    "            # Bare name + USA\n",
    "            for name, usa in product(names, USA_NAMES):\n",
    "                yield ' '.join((name, usa))\n",
    "            \n",
    "        states = (city.name_a1, city.us_state_abbr)\n",
    "        \n",
    "        # Name + state\n",
    "        for name, state in product(names, states):\n",
    "            yield ' '.join((name, state))\n",
    "\n",
    "        # Name + state + USA\n",
    "        for name, state, usa in product(names, states, USA_NAMES):\n",
    "            yield ' '.join((name, state, usa))\n",
    "            \n",
    "    def __call__(self, city):\n",
    "        for text in self.raw_keys_iter(city):\n",
    "            yield keyify(text)"
   ]
  },
  {
   "cell_type": "code",
   "execution_count": 56,
   "metadata": {},
   "outputs": [],
   "source": [
    "city_key_iter = USCityKeyGen()"
   ]
  },
  {
   "cell_type": "code",
   "execution_count": 57,
   "metadata": {},
   "outputs": [],
   "source": [
    "la = City.query.filter(City.country_iso=='US').filter(City.name=='Los Angeles').first()\n",
    "tuscaloosa = City.query.filter(City.country_iso=='US').filter(City.name=='Tuscaloosa').first()"
   ]
  },
  {
   "cell_type": "code",
   "execution_count": 58,
   "metadata": {},
   "outputs": [
    {
     "data": {
      "text/plain": [
       "['los angeles',\n",
       " 'los angeles usa',\n",
       " 'los angeles united states',\n",
       " 'los angeles united states of america',\n",
       " 'los angeles us',\n",
       " 'los angeles america',\n",
       " 'los angeles california',\n",
       " 'los angeles ca',\n",
       " 'los angeles california usa',\n",
       " 'los angeles california united states',\n",
       " 'los angeles california united states of america',\n",
       " 'los angeles california us',\n",
       " 'los angeles california america',\n",
       " 'los angeles ca usa',\n",
       " 'los angeles ca united states',\n",
       " 'los angeles ca united states of america',\n",
       " 'los angeles ca us',\n",
       " 'los angeles ca america']"
      ]
     },
     "execution_count": 58,
     "metadata": {},
     "output_type": "execute_result"
    }
   ],
   "source": [
    "list(city_key_iter(la))"
   ]
  },
  {
   "cell_type": "code",
   "execution_count": 59,
   "metadata": {},
   "outputs": [
    {
     "data": {
      "text/plain": [
       "['tuscaloosa',\n",
       " 'tuscaloosa usa',\n",
       " 'tuscaloosa united states',\n",
       " 'tuscaloosa united states of america',\n",
       " 'tuscaloosa us',\n",
       " 'tuscaloosa america',\n",
       " 'tuscaloosa alabama',\n",
       " 'tuscaloosa al',\n",
       " 'tuscaloosa alabama usa',\n",
       " 'tuscaloosa alabama united states',\n",
       " 'tuscaloosa alabama united states of america',\n",
       " 'tuscaloosa alabama us',\n",
       " 'tuscaloosa alabama america',\n",
       " 'tuscaloosa al usa',\n",
       " 'tuscaloosa al united states',\n",
       " 'tuscaloosa al united states of america',\n",
       " 'tuscaloosa al us',\n",
       " 'tuscaloosa al america']"
      ]
     },
     "execution_count": 59,
     "metadata": {},
     "output_type": "execute_result"
    }
   ],
   "source": [
    "list(city_key_iter(tuscaloosa))"
   ]
  },
  {
   "cell_type": "code",
   "execution_count": 60,
   "metadata": {},
   "outputs": [],
   "source": [
    "class CityIndex:\n",
    "    \n",
    "    def __init__(self):\n",
    "        self._idx = defaultdict(set)\n",
    "        \n",
    "    def __getitem__(self, text):\n",
    "        return self._idx[keyify(text)]\n",
    "    \n",
    "    def query(self, text):\n",
    "        return [City.query.get(cid) for cid in self[text]]\n",
    "    \n",
    "    def build(self):\n",
    "        \"\"\"Index all US cities.\n",
    "        \"\"\"\n",
    "        iter_keys = USCityKeyGen()\n",
    "        \n",
    "        cities = City.query.filter(City.country_iso=='US')\n",
    "        \n",
    "        for city in tqdm(cities):\n",
    "            \n",
    "            try:\n",
    "                \n",
    "                # Generate keys, ensure no errors.\n",
    "                keys = list(iter_keys(city))\n",
    "                \n",
    "                # Index complete key set.\n",
    "                for key in iter_keys(city):\n",
    "                    self[key].add(city.wof_id)\n",
    "\n",
    "            except Exception as e:\n",
    "                pass"
   ]
  },
  {
   "cell_type": "code",
   "execution_count": 61,
   "metadata": {},
   "outputs": [
    {
     "name": "stderr",
     "output_type": "stream",
     "text": [
      "54727it [00:16, 3325.72it/s]\n"
     ]
    }
   ],
   "source": [
    "ci = CityIndex()\n",
    "ci.build()"
   ]
  },
  {
   "cell_type": "code",
   "execution_count": 62,
   "metadata": {},
   "outputs": [
    {
     "data": {
      "text/plain": [
       "787008"
      ]
     },
     "execution_count": 62,
     "metadata": {},
     "output_type": "execute_result"
    }
   ],
   "source": [
    "len(ci._idx)"
   ]
  },
  {
   "cell_type": "code",
   "execution_count": 68,
   "metadata": {},
   "outputs": [
    {
     "data": {
      "text/plain": [
       "[]"
      ]
     },
     "execution_count": 68,
     "metadata": {},
     "output_type": "execute_result"
    }
   ],
   "source": [
    "ci.query('new york city')"
   ]
  },
  {
   "cell_type": "code",
   "execution_count": null,
   "metadata": {},
   "outputs": [],
   "source": []
  }
 ],
 "metadata": {
  "kernelspec": {
   "display_name": "Python 3",
   "language": "python",
   "name": "python3"
  },
  "language_info": {
   "codemirror_mode": {
    "name": "ipython",
    "version": 3
   },
   "file_extension": ".py",
   "mimetype": "text/x-python",
   "name": "python",
   "nbconvert_exporter": "python",
   "pygments_lexer": "ipython3",
   "version": "3.6.5"
  }
 },
 "nbformat": 4,
 "nbformat_minor": 2
}
