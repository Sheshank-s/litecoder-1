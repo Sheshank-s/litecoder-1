{
 "cells": [
  {
   "cell_type": "code",
   "execution_count": 56,
   "metadata": {},
   "outputs": [],
   "source": [
    "import re\n",
    "\n",
    "from tqdm import tqdm\n",
    "from anytree import Node, RenderTree, search\n",
    "from collections import Counter, defaultdict\n",
    "from wordfreq import top_n_list\n",
    "\n",
    "from litecoder.db import City, session"
   ]
  },
  {
   "cell_type": "code",
   "execution_count": 57,
   "metadata": {},
   "outputs": [],
   "source": [
    "FREQ_WORDS = set(top_n_list('en', 1000))"
   ]
  },
  {
   "cell_type": "code",
   "execution_count": 35,
   "metadata": {},
   "outputs": [],
   "source": [
    "def normalize(text, lower=True):\n",
    "    \"\"\"Normalize text string -> index key.\n",
    "    \"\"\"\n",
    "    text = text.strip()\n",
    "    \n",
    "    # Remove periods\n",
    "    text = re.sub('\\.', '', text)\n",
    "    \n",
    "    # Comma -> space\n",
    "    text = re.sub(',', ' ', text)\n",
    "    \n",
    "    # 2+ whitespace -> space\n",
    "    text = re.sub('\\s{2,}', ' ', text)\n",
    "\n",
    "    if lower:\n",
    "        text = text.lower()\n",
    "\n",
    "    return text"
   ]
  },
  {
   "cell_type": "code",
   "execution_count": 36,
   "metadata": {},
   "outputs": [],
   "source": [
    "names = [normalize(r[0]) for r in session.query(City.name)]"
   ]
  },
  {
   "cell_type": "code",
   "execution_count": 37,
   "metadata": {},
   "outputs": [],
   "source": [
    "name_counts = Counter(names)"
   ]
  },
  {
   "cell_type": "code",
   "execution_count": 58,
   "metadata": {},
   "outputs": [],
   "source": [
    "def keys_iter(row):\n",
    "    \n",
    "    states = (row.name_a1, row.us_state_abbr)\n",
    "    \n",
    "    name_norm = normalize(row.name)\n",
    "    \n",
    "    for state in states:\n",
    "        yield '%s %s' % (row.name, state)\n",
    "    \n",
    "    if row.population and row.population > 500000:\n",
    "        yield row.name\n",
    "        \n",
    "    elif name_counts[name_norm] == 1 and name_norm not in FREQ_WORDS:\n",
    "        yield row.name"
   ]
  },
  {
   "cell_type": "code",
   "execution_count": 59,
   "metadata": {},
   "outputs": [
    {
     "name": "stderr",
     "output_type": "stream",
     "text": [
      "54727it [00:06, 8933.85it/s]\n"
     ]
    }
   ],
   "source": [
    "idx = defaultdict(list)\n",
    "\n",
    "cities = City.query.filter(City.country_iso=='US')\n",
    "\n",
    "for c in tqdm(cities):\n",
    "    for key_raw in keys_iter(c):\n",
    "        \n",
    "        tokens = normalize(key_raw).split()\n",
    "        \n",
    "        parent = Node(tokens[0])\n",
    "        \n",
    "        idx[tokens[0]].append(parent)\n",
    "        \n",
    "        for token in tokens[1:]:\n",
    "            parent = Node(token, parent=parent)"
   ]
  },
  {
   "cell_type": "code",
   "execution_count": 60,
   "metadata": {},
   "outputs": [],
   "source": [
    "def find_locs(text):\n",
    "    \n",
    "    active = []\n",
    "    closed = []\n",
    "    for token in normalize(text).split():\n",
    "        \n",
    "        extensions = []\n",
    "        for an in active:\n",
    "            if not an.is_leaf:\n",
    "                extensions += search.findall(an, lambda n: n.name==token, maxlevel=an.depth+2)\n",
    "                \n",
    "        if not extensions:\n",
    "            closed += [n for n in active if n.is_leaf]\n",
    "            \n",
    "        active = extensions\n",
    "            \n",
    "        if not active:\n",
    "            active = idx[token]\n",
    "            \n",
    "    closed += [n for n in active if n.is_leaf]\n",
    "\n",
    "    return closed"
   ]
  },
  {
   "cell_type": "code",
   "execution_count": 63,
   "metadata": {},
   "outputs": [
    {
     "data": {
      "text/plain": [
       "[Node('/tuscaloosa'), Node('/mobile/al'), Node('/new/haven/ct')]"
      ]
     },
     "execution_count": 63,
     "metadata": {},
     "output_type": "execute_result"
    }
   ],
   "source": [
    "find_locs('I grew up in Tuscaloosa, but went to high school down in Mobile AL, and then was in New Haven CT for college')"
   ]
  },
  {
   "cell_type": "code",
   "execution_count": null,
   "metadata": {},
   "outputs": [],
   "source": []
  }
 ],
 "metadata": {
  "kernelspec": {
   "display_name": "Python 3",
   "language": "python",
   "name": "python3"
  },
  "language_info": {
   "codemirror_mode": {
    "name": "ipython",
    "version": 3
   },
   "file_extension": ".py",
   "mimetype": "text/x-python",
   "name": "python",
   "nbconvert_exporter": "python",
   "pygments_lexer": "ipython3",
   "version": "3.6.5"
  }
 },
 "nbformat": 4,
 "nbformat_minor": 2
}
