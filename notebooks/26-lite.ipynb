{
 "cells": [
  {
   "cell_type": "code",
   "execution_count": 11,
   "metadata": {},
   "outputs": [],
   "source": [
    "import re\n",
    "\n",
    "from tqdm import tqdm\n",
    "from collections import defaultdict, Counter, UserDict\n",
    "from itertools import product\n",
    "from cached_property import cached_property\n",
    "\n",
    "from litecoder.models import session, City\n",
    "from litecoder import logger"
   ]
  },
  {
   "cell_type": "code",
   "execution_count": 2,
   "metadata": {},
   "outputs": [],
   "source": [
    "def keyify(text):\n",
    "    \n",
    "    text = text.lower()\n",
    "    text = text.strip()\n",
    "\n",
    "    text = text.replace('.', '')\n",
    "    text = re.sub('[,-]', ' ', text)\n",
    "    \n",
    "    # 2+ whitespace -> 1 space\n",
    "    text = re.sub('\\s{2,}', ' ', text)\n",
    "    \n",
    "    return text"
   ]
  },
  {
   "cell_type": "code",
   "execution_count": 3,
   "metadata": {},
   "outputs": [
    {
     "data": {
      "text/plain": [
       "'la la land'"
      ]
     },
     "execution_count": 3,
     "metadata": {},
     "output_type": "execute_result"
    }
   ],
   "source": [
    "keyify('la-la land')"
   ]
  },
  {
   "cell_type": "code",
   "execution_count": 4,
   "metadata": {},
   "outputs": [
    {
     "data": {
      "text/plain": [
       "'tuscaloosa al'"
      ]
     },
     "execution_count": 4,
     "metadata": {},
     "output_type": "execute_result"
    }
   ],
   "source": [
    "keyify('Tuscaloosa, AL')"
   ]
  },
  {
   "cell_type": "code",
   "execution_count": 5,
   "metadata": {},
   "outputs": [
    {
     "data": {
      "text/plain": [
       "'washington dc'"
      ]
     },
     "execution_count": 5,
     "metadata": {},
     "output_type": "execute_result"
    }
   ],
   "source": [
    "keyify('Washington,DC')"
   ]
  },
  {
   "cell_type": "code",
   "execution_count": 12,
   "metadata": {},
   "outputs": [],
   "source": [
    "class NameCounts(Counter):\n",
    "    \n",
    "    def __init__(self):\n",
    "        logger.info('Indexing name -> counts.')\n",
    "        names = [keyify(r[0]) for r in session.query(City.name)]\n",
    "        super().__init__(names)\n",
    "    \n",
    "    def __getitem__(self, text):\n",
    "        return super().__getitem__(keyify(text))"
   ]
  },
  {
   "cell_type": "code",
   "execution_count": 18,
   "metadata": {},
   "outputs": [],
   "source": [
    "class NamePopulations(defaultdict):\n",
    "    \n",
    "    def __init__(self):\n",
    "        \"\"\"Index name -> [pops].\n",
    "        \"\"\"\n",
    "        super().__init__(list)\n",
    "        \n",
    "        logger.info('Indexing name -> populations.')\n",
    "        \n",
    "        for city in tqdm(City.query):\n",
    "            for name in city.names:\n",
    "                self[keyify(name)].append(city.population or 0)\n",
    "                \n",
    "    def __getitem__(self, text):\n",
    "        return super().__getitem__(keyify(text))\n",
    "    \n",
    "    def p2_ratio(self, name, pop):\n",
    "        \"\"\"Ratio between given pop and second-highest pop for the name.\n",
    "        \"\"\"\n",
    "        pops = sorted(self[name], reverse=True)\n",
    "        print(pops, pop)\n",
    "        \n",
    "        if len(pops) > 2:\n",
    "            return pop / pops[1]"
   ]
  },
  {
   "cell_type": "code",
   "execution_count": 19,
   "metadata": {},
   "outputs": [],
   "source": [
    "class AllowBareName:\n",
    "    \n",
    "    def __init__(self):\n",
    "        self.name_counts = NameCounts()\n",
    "        self.name_pops = NamePopulations()\n",
    "    \n",
    "    def __call__(self, city, name):\n",
    "        \n",
    "        if self.name_counts[name] < 2:\n",
    "            return True\n",
    "        \n",
    "        pop = city.population or 0\n",
    "        \n",
    "        all_pops = sorted(self.name_pops[name], reverse=True)\n",
    "        \n",
    "        if len(all_pops) > 2 and pop / all_pops[1] > 10:\n",
    "            return True\n",
    "        \n",
    "        return False"
   ]
  },
  {
   "cell_type": "code",
   "execution_count": 20,
   "metadata": {},
   "outputs": [
    {
     "name": "stdout",
     "output_type": "stream",
     "text": [
      "2018-07-19 11:29:07,298 | INFO : Indexing name -> counts.\n",
      "2018-07-19 11:29:08,968 | INFO : Indexing name -> populations.\n"
     ]
    },
    {
     "name": "stderr",
     "output_type": "stream",
     "text": [
      "344249it [00:11, 30364.90it/s]\n"
     ]
    }
   ],
   "source": [
    "allow_bare = AllowBareName()"
   ]
  },
  {
   "cell_type": "code",
   "execution_count": 25,
   "metadata": {},
   "outputs": [
    {
     "name": "stdout",
     "output_type": "stream",
     "text": [
      "[8175133] 8175133\n"
     ]
    },
    {
     "data": {
      "text/plain": [
       "False"
      ]
     },
     "execution_count": 25,
     "metadata": {},
     "output_type": "execute_result"
    }
   ],
   "source": [
    "allow_bare(City.query.filter(City.name=='New York').first(), 'NEW YORK')"
   ]
  },
  {
   "cell_type": "code",
   "execution_count": 31,
   "metadata": {},
   "outputs": [
    {
     "data": {
      "text/plain": [
       "[8175133]"
      ]
     },
     "execution_count": 31,
     "metadata": {},
     "output_type": "execute_result"
    }
   ],
   "source": [
    "allow_bare.name_pops['new york']"
   ]
  },
  {
   "cell_type": "code",
   "execution_count": 32,
   "metadata": {},
   "outputs": [
    {
     "data": {
      "text/plain": [
       "2"
      ]
     },
     "execution_count": 32,
     "metadata": {},
     "output_type": "execute_result"
    }
   ],
   "source": [
    "allow_bare.name_counts['new york']"
   ]
  },
  {
   "cell_type": "code",
   "execution_count": 7,
   "metadata": {},
   "outputs": [],
   "source": [
    "USA_NAMES = (\n",
    "    'USA',\n",
    "    'United States',\n",
    "    'United States of America',\n",
    "    'US',\n",
    "    'America',\n",
    ")\n",
    "\n",
    "class USCityKeyGen:\n",
    "    \n",
    "    # TODO: Separate class?\n",
    "    @cached_property\n",
    "    def int_name_counts(self):\n",
    "        names = [keyify(r[0]) for r in session.query(City.name)]\n",
    "        return Counter(names)\n",
    "    \n",
    "    def raw_keys_iter(self, city):\n",
    "        \"\"\"Enumerate index keys for a city.\n",
    "        \n",
    "        Args:\n",
    "            city (db.City)\n",
    "            \n",
    "        Yields: str\n",
    "        \"\"\"\n",
    "        names = (city.name, *city.alt_names)\n",
    "        \n",
    "        # TODO: Parametrize\n",
    "        is_big = city.population and city.population > 500000\n",
    "        \n",
    "        name_is_unique = self.int_name_counts[keyify(city.name)] == 1\n",
    "        \n",
    "        # If unique or high population.\n",
    "        if is_big or name_is_unique:\n",
    "\n",
    "            # Bare name\n",
    "            for name in names:\n",
    "                yield name\n",
    "\n",
    "            # Bare name + USA\n",
    "            for name, usa in product(names, USA_NAMES):\n",
    "                yield ' '.join((name, usa))\n",
    "            \n",
    "        states = (city.name_a1, city.us_state_abbr)\n",
    "        \n",
    "        # Name + state\n",
    "        for name, state in product(names, states):\n",
    "            yield ' '.join((name, state))\n",
    "\n",
    "        # Name + state + USA\n",
    "        for name, state, usa in product(names, states, USA_NAMES):\n",
    "            yield ' '.join((name, state, usa))\n",
    "            \n",
    "    def __call__(self, city):\n",
    "        for text in self.raw_keys_iter(city):\n",
    "            yield keyify(text)"
   ]
  },
  {
   "cell_type": "code",
   "execution_count": 8,
   "metadata": {},
   "outputs": [],
   "source": [
    "city_key_iter = USCityKeyGen()"
   ]
  },
  {
   "cell_type": "code",
   "execution_count": 9,
   "metadata": {},
   "outputs": [],
   "source": [
    "la = City.query.filter(City.country_iso=='US').filter(City.name=='Los Angeles').first()\n",
    "tt = City.query.filter(City.country_iso=='US').filter(City.name=='Tuscaloosa').first()"
   ]
  },
  {
   "cell_type": "code",
   "execution_count": 10,
   "metadata": {},
   "outputs": [
    {
     "data": {
      "text/plain": [
       "['los angeles',\n",
       " 'la',\n",
       " 'la la land',\n",
       " 'east los angeles',\n",
       " 'south los angeles',\n",
       " 'west los angeles',\n",
       " 'south central los angeles',\n",
       " 'south central',\n",
       " 'los angeles usa',\n",
       " 'los angeles united states',\n",
       " 'los angeles united states of america',\n",
       " 'los angeles us',\n",
       " 'los angeles america',\n",
       " 'la usa',\n",
       " 'la united states',\n",
       " 'la united states of america',\n",
       " 'la us',\n",
       " 'la america',\n",
       " 'la la land usa',\n",
       " 'la la land united states',\n",
       " 'la la land united states of america',\n",
       " 'la la land us',\n",
       " 'la la land america',\n",
       " 'east los angeles usa',\n",
       " 'east los angeles united states',\n",
       " 'east los angeles united states of america',\n",
       " 'east los angeles us',\n",
       " 'east los angeles america',\n",
       " 'south los angeles usa',\n",
       " 'south los angeles united states',\n",
       " 'south los angeles united states of america',\n",
       " 'south los angeles us',\n",
       " 'south los angeles america',\n",
       " 'west los angeles usa',\n",
       " 'west los angeles united states',\n",
       " 'west los angeles united states of america',\n",
       " 'west los angeles us',\n",
       " 'west los angeles america',\n",
       " 'south central los angeles usa',\n",
       " 'south central los angeles united states',\n",
       " 'south central los angeles united states of america',\n",
       " 'south central los angeles us',\n",
       " 'south central los angeles america',\n",
       " 'south central usa',\n",
       " 'south central united states',\n",
       " 'south central united states of america',\n",
       " 'south central us',\n",
       " 'south central america',\n",
       " 'los angeles california',\n",
       " 'los angeles ca',\n",
       " 'la california',\n",
       " 'la ca',\n",
       " 'la la land california',\n",
       " 'la la land ca',\n",
       " 'east los angeles california',\n",
       " 'east los angeles ca',\n",
       " 'south los angeles california',\n",
       " 'south los angeles ca',\n",
       " 'west los angeles california',\n",
       " 'west los angeles ca',\n",
       " 'south central los angeles california',\n",
       " 'south central los angeles ca',\n",
       " 'south central california',\n",
       " 'south central ca',\n",
       " 'los angeles california usa',\n",
       " 'los angeles california united states',\n",
       " 'los angeles california united states of america',\n",
       " 'los angeles california us',\n",
       " 'los angeles california america',\n",
       " 'los angeles ca usa',\n",
       " 'los angeles ca united states',\n",
       " 'los angeles ca united states of america',\n",
       " 'los angeles ca us',\n",
       " 'los angeles ca america',\n",
       " 'la california usa',\n",
       " 'la california united states',\n",
       " 'la california united states of america',\n",
       " 'la california us',\n",
       " 'la california america',\n",
       " 'la ca usa',\n",
       " 'la ca united states',\n",
       " 'la ca united states of america',\n",
       " 'la ca us',\n",
       " 'la ca america',\n",
       " 'la la land california usa',\n",
       " 'la la land california united states',\n",
       " 'la la land california united states of america',\n",
       " 'la la land california us',\n",
       " 'la la land california america',\n",
       " 'la la land ca usa',\n",
       " 'la la land ca united states',\n",
       " 'la la land ca united states of america',\n",
       " 'la la land ca us',\n",
       " 'la la land ca america',\n",
       " 'east los angeles california usa',\n",
       " 'east los angeles california united states',\n",
       " 'east los angeles california united states of america',\n",
       " 'east los angeles california us',\n",
       " 'east los angeles california america',\n",
       " 'east los angeles ca usa',\n",
       " 'east los angeles ca united states',\n",
       " 'east los angeles ca united states of america',\n",
       " 'east los angeles ca us',\n",
       " 'east los angeles ca america',\n",
       " 'south los angeles california usa',\n",
       " 'south los angeles california united states',\n",
       " 'south los angeles california united states of america',\n",
       " 'south los angeles california us',\n",
       " 'south los angeles california america',\n",
       " 'south los angeles ca usa',\n",
       " 'south los angeles ca united states',\n",
       " 'south los angeles ca united states of america',\n",
       " 'south los angeles ca us',\n",
       " 'south los angeles ca america',\n",
       " 'west los angeles california usa',\n",
       " 'west los angeles california united states',\n",
       " 'west los angeles california united states of america',\n",
       " 'west los angeles california us',\n",
       " 'west los angeles california america',\n",
       " 'west los angeles ca usa',\n",
       " 'west los angeles ca united states',\n",
       " 'west los angeles ca united states of america',\n",
       " 'west los angeles ca us',\n",
       " 'west los angeles ca america',\n",
       " 'south central los angeles california usa',\n",
       " 'south central los angeles california united states',\n",
       " 'south central los angeles california united states of america',\n",
       " 'south central los angeles california us',\n",
       " 'south central los angeles california america',\n",
       " 'south central los angeles ca usa',\n",
       " 'south central los angeles ca united states',\n",
       " 'south central los angeles ca united states of america',\n",
       " 'south central los angeles ca us',\n",
       " 'south central los angeles ca america',\n",
       " 'south central california usa',\n",
       " 'south central california united states',\n",
       " 'south central california united states of america',\n",
       " 'south central california us',\n",
       " 'south central california america',\n",
       " 'south central ca usa',\n",
       " 'south central ca united states',\n",
       " 'south central ca united states of america',\n",
       " 'south central ca us',\n",
       " 'south central ca america']"
      ]
     },
     "execution_count": 10,
     "metadata": {},
     "output_type": "execute_result"
    }
   ],
   "source": [
    "list(city_key_iter(la))"
   ]
  },
  {
   "cell_type": "code",
   "execution_count": 11,
   "metadata": {},
   "outputs": [
    {
     "data": {
      "text/plain": [
       "['tuscaloosa',\n",
       " 'tuscaloosa usa',\n",
       " 'tuscaloosa united states',\n",
       " 'tuscaloosa united states of america',\n",
       " 'tuscaloosa us',\n",
       " 'tuscaloosa america',\n",
       " 'tuscaloosa alabama',\n",
       " 'tuscaloosa al',\n",
       " 'tuscaloosa alabama usa',\n",
       " 'tuscaloosa alabama united states',\n",
       " 'tuscaloosa alabama united states of america',\n",
       " 'tuscaloosa alabama us',\n",
       " 'tuscaloosa alabama america',\n",
       " 'tuscaloosa al usa',\n",
       " 'tuscaloosa al united states',\n",
       " 'tuscaloosa al united states of america',\n",
       " 'tuscaloosa al us',\n",
       " 'tuscaloosa al america']"
      ]
     },
     "execution_count": 11,
     "metadata": {},
     "output_type": "execute_result"
    }
   ],
   "source": [
    "list(city_key_iter(tt))"
   ]
  },
  {
   "cell_type": "code",
   "execution_count": 12,
   "metadata": {},
   "outputs": [],
   "source": [
    "class CityIndex:\n",
    "    \n",
    "    def __init__(self):\n",
    "        self._idx = defaultdict(set)\n",
    "        \n",
    "    def __getitem__(self, text):\n",
    "        return self._idx[keyify(text)]\n",
    "    \n",
    "    def query(self, text):\n",
    "        return [City.query.get(cid) for cid in self[text]]\n",
    "    \n",
    "    def build(self):\n",
    "        \"\"\"Index all US cities.\n",
    "        \"\"\"\n",
    "        iter_keys = USCityKeyGen()\n",
    "        \n",
    "        cities = City.query.filter(City.country_iso=='US')\n",
    "        \n",
    "        for city in tqdm(cities):\n",
    "            \n",
    "            try:\n",
    "                \n",
    "                # Generate keys, ensure no errors.\n",
    "                keys = list(iter_keys(city))\n",
    "                \n",
    "                # Index complete key set.\n",
    "                for key in iter_keys(city):\n",
    "                    self[key].add(city.wof_id)\n",
    "\n",
    "            except Exception as e:\n",
    "                pass"
   ]
  },
  {
   "cell_type": "code",
   "execution_count": 13,
   "metadata": {},
   "outputs": [
    {
     "name": "stderr",
     "output_type": "stream",
     "text": [
      "54727it [00:16, 3334.18it/s]\n"
     ]
    }
   ],
   "source": [
    "ci = CityIndex()\n",
    "ci.build()"
   ]
  },
  {
   "cell_type": "code",
   "execution_count": 14,
   "metadata": {},
   "outputs": [
    {
     "data": {
      "text/plain": [
       "787800"
      ]
     },
     "execution_count": 14,
     "metadata": {},
     "output_type": "execute_result"
    }
   ],
   "source": [
    "len(ci._idx)"
   ]
  },
  {
   "cell_type": "code",
   "execution_count": 22,
   "metadata": {},
   "outputs": [
    {
     "data": {
      "text/plain": [
       "[City<East Los Angeles, California, United States>,\n",
       " City<Los Angeles, California, United States>]"
      ]
     },
     "execution_count": 22,
     "metadata": {},
     "output_type": "execute_result"
    }
   ],
   "source": [
    "ci.query('east los angeles')"
   ]
  },
  {
   "cell_type": "code",
   "execution_count": null,
   "metadata": {},
   "outputs": [],
   "source": []
  }
 ],
 "metadata": {
  "kernelspec": {
   "display_name": "Python 3",
   "language": "python",
   "name": "python3"
  },
  "language_info": {
   "codemirror_mode": {
    "name": "ipython",
    "version": 3
   },
   "file_extension": ".py",
   "mimetype": "text/x-python",
   "name": "python",
   "nbconvert_exporter": "python",
   "pygments_lexer": "ipython3",
   "version": "3.6.5"
  }
 },
 "nbformat": 4,
 "nbformat_minor": 2
}
