{
 "cells": [
  {
   "cell_type": "code",
   "execution_count": 1,
   "metadata": {},
   "outputs": [],
   "source": [
    "import re\n",
    "\n",
    "from tqdm import tqdm\n",
    "from collections import defaultdict, Counter, UserDict\n",
    "from itertools import product\n",
    "from cached_property import cached_property\n",
    "\n",
    "from litecoder.models import session, City\n",
    "from litecoder import logger"
   ]
  },
  {
   "cell_type": "code",
   "execution_count": 2,
   "metadata": {},
   "outputs": [],
   "source": [
    "def keyify(text):\n",
    "    \n",
    "    text = text.lower()\n",
    "    text = text.strip()\n",
    "\n",
    "    text = text.replace('.', '')\n",
    "    text = re.sub('[,-]', ' ', text)\n",
    "    \n",
    "    # 2+ whitespace -> 1 space\n",
    "    text = re.sub('\\s{2,}', ' ', text)\n",
    "    \n",
    "    return text"
   ]
  },
  {
   "cell_type": "code",
   "execution_count": 3,
   "metadata": {},
   "outputs": [
    {
     "data": {
      "text/plain": [
       "'la la land'"
      ]
     },
     "execution_count": 3,
     "metadata": {},
     "output_type": "execute_result"
    }
   ],
   "source": [
    "keyify('la-la land')"
   ]
  },
  {
   "cell_type": "code",
   "execution_count": 4,
   "metadata": {},
   "outputs": [
    {
     "data": {
      "text/plain": [
       "'tuscaloosa al'"
      ]
     },
     "execution_count": 4,
     "metadata": {},
     "output_type": "execute_result"
    }
   ],
   "source": [
    "keyify('Tuscaloosa, AL')"
   ]
  },
  {
   "cell_type": "code",
   "execution_count": 5,
   "metadata": {},
   "outputs": [
    {
     "data": {
      "text/plain": [
       "'washington dc'"
      ]
     },
     "execution_count": 5,
     "metadata": {},
     "output_type": "execute_result"
    }
   ],
   "source": [
    "keyify('Washington,DC')"
   ]
  },
  {
   "cell_type": "code",
   "execution_count": 6,
   "metadata": {},
   "outputs": [],
   "source": [
    "class NameCounts(Counter):\n",
    "    \n",
    "    def __init__(self):\n",
    "        logger.info('Indexing name -> counts.')\n",
    "        names = [keyify(r[0]) for r in session.query(City.name)]\n",
    "        super().__init__(names)\n",
    "    \n",
    "    def __getitem__(self, text):\n",
    "        return super().__getitem__(keyify(text))"
   ]
  },
  {
   "cell_type": "code",
   "execution_count": 7,
   "metadata": {},
   "outputs": [],
   "source": [
    "class NamePopulations(defaultdict):\n",
    "    \n",
    "    def __init__(self):\n",
    "        \"\"\"Index name -> [pops].\n",
    "        \"\"\"\n",
    "        super().__init__(list)\n",
    "        \n",
    "        logger.info('Indexing name -> populations.')\n",
    "        \n",
    "        median_pop = City.median_population()\n",
    "        \n",
    "        for city in tqdm(City.query):\n",
    "            for name in city.names:\n",
    "                self[keyify(name)].append(city.population or median_pop)\n",
    "                \n",
    "    def __getitem__(self, text):\n",
    "        return super().__getitem__(keyify(text))"
   ]
  },
  {
   "cell_type": "code",
   "execution_count": 46,
   "metadata": {},
   "outputs": [],
   "source": [
    "class AllowBareName:\n",
    "    \n",
    "    def __init__(self, min_p2_ratio=10):\n",
    "        self.name_pops = NamePopulations()\n",
    "        self.min_p2_ratio = min_p2_ratio\n",
    "    \n",
    "    def __call__(self, city, name):\n",
    "        \n",
    "        all_pops = sorted(self.name_pops[name], reverse=True)\n",
    "\n",
    "        if len(all_pops) < 2:\n",
    "            return True\n",
    "        \n",
    "        p2_ratio = (city.population or 0) / all_pops[1]\n",
    "        \n",
    "        if p2_ratio > self.min_p2_ratio:\n",
    "            return True\n",
    "        \n",
    "        return False"
   ]
  },
  {
   "cell_type": "code",
   "execution_count": 52,
   "metadata": {},
   "outputs": [],
   "source": [
    "USA_NAMES = (\n",
    "    'USA',\n",
    "    'United States',\n",
    "    'United States of America',\n",
    "    'US',\n",
    "    'America',\n",
    ")\n",
    "\n",
    "class USCityKeyIter:\n",
    "    \n",
    "    def __init__(self, *args, **kwargs):\n",
    "        self.allow_bare = AllowBareName(*args, **kwargs)\n",
    "    \n",
    "    def _iter_keys(self, city):\n",
    "        \"\"\"Enumerate index keys for a city.\n",
    "        \n",
    "        Args:\n",
    "            city (db.City)\n",
    "            \n",
    "        Yields: str\n",
    "        \"\"\"    \n",
    "        bare_names = [n for n in city.names if self.allow_bare(city, n)]\n",
    "        \n",
    "        states = (city.name_a1, city.us_state_abbr)\n",
    "        \n",
    "        for name in bare_names:\n",
    "            yield name\n",
    "            \n",
    "        for name, usa in product(bare_names, USA_NAMES):\n",
    "            yield ' '.join((name, usa))\n",
    "            \n",
    "        for name, state in product(city.names, states):\n",
    "            yield ' '.join((name, state))\n",
    "            \n",
    "        for name, state, usa in product(city.names, states, USA_NAMES):\n",
    "            yield ' '.join((name, state, usa))\n",
    "            \n",
    "    def __call__(self, city):\n",
    "        for text in self._iter_keys(city):\n",
    "            yield keyify(text)"
   ]
  },
  {
   "cell_type": "code",
   "execution_count": 53,
   "metadata": {},
   "outputs": [
    {
     "name": "stdout",
     "output_type": "stream",
     "text": [
      "2018-07-19 12:07:53,182 | INFO : Indexing name -> populations.\n"
     ]
    },
    {
     "name": "stderr",
     "output_type": "stream",
     "text": [
      "344249it [00:12, 27321.94it/s]\n"
     ]
    }
   ],
   "source": [
    "city_key_iter = USCityKeyIter()"
   ]
  },
  {
   "cell_type": "code",
   "execution_count": 54,
   "metadata": {},
   "outputs": [],
   "source": [
    "la = City.query.filter(City.country_iso=='US').filter(City.name=='Los Angeles').first()\n",
    "tt = City.query.filter(City.country_iso=='US').filter(City.name=='Tuscaloosa').first()"
   ]
  },
  {
   "cell_type": "code",
   "execution_count": 56,
   "metadata": {},
   "outputs": [
    {
     "data": {
      "text/plain": [
       "['los angeles',\n",
       " 'la la land',\n",
       " 'la',\n",
       " 'los angeles usa',\n",
       " 'los angeles united states',\n",
       " 'los angeles united states of america',\n",
       " 'los angeles us',\n",
       " 'los angeles america',\n",
       " 'la la land usa',\n",
       " 'la la land united states',\n",
       " 'la la land united states of america',\n",
       " 'la la land us',\n",
       " 'la la land america',\n",
       " 'la usa',\n",
       " 'la united states',\n",
       " 'la united states of america',\n",
       " 'la us',\n",
       " 'la america',\n",
       " 'los angeles california',\n",
       " 'los angeles ca',\n",
       " 'la la land california',\n",
       " 'la la land ca',\n",
       " 'la california',\n",
       " 'la ca',\n",
       " 'los angeles california usa',\n",
       " 'los angeles california united states',\n",
       " 'los angeles california united states of america',\n",
       " 'los angeles california us',\n",
       " 'los angeles california america',\n",
       " 'los angeles ca usa',\n",
       " 'los angeles ca united states',\n",
       " 'los angeles ca united states of america',\n",
       " 'los angeles ca us',\n",
       " 'los angeles ca america',\n",
       " 'la la land california usa',\n",
       " 'la la land california united states',\n",
       " 'la la land california united states of america',\n",
       " 'la la land california us',\n",
       " 'la la land california america',\n",
       " 'la la land ca usa',\n",
       " 'la la land ca united states',\n",
       " 'la la land ca united states of america',\n",
       " 'la la land ca us',\n",
       " 'la la land ca america',\n",
       " 'la california usa',\n",
       " 'la california united states',\n",
       " 'la california united states of america',\n",
       " 'la california us',\n",
       " 'la california america',\n",
       " 'la ca usa',\n",
       " 'la ca united states',\n",
       " 'la ca united states of america',\n",
       " 'la ca us',\n",
       " 'la ca america']"
      ]
     },
     "execution_count": 56,
     "metadata": {},
     "output_type": "execute_result"
    }
   ],
   "source": [
    "list(city_key_iter(la))"
   ]
  },
  {
   "cell_type": "code",
   "execution_count": 57,
   "metadata": {},
   "outputs": [
    {
     "data": {
      "text/plain": [
       "['tuscaloosa',\n",
       " 'tuscaloosa usa',\n",
       " 'tuscaloosa united states',\n",
       " 'tuscaloosa united states of america',\n",
       " 'tuscaloosa us',\n",
       " 'tuscaloosa america',\n",
       " 'tuscaloosa alabama',\n",
       " 'tuscaloosa al',\n",
       " 'tuscaloosa alabama usa',\n",
       " 'tuscaloosa alabama united states',\n",
       " 'tuscaloosa alabama united states of america',\n",
       " 'tuscaloosa alabama us',\n",
       " 'tuscaloosa alabama america',\n",
       " 'tuscaloosa al usa',\n",
       " 'tuscaloosa al united states',\n",
       " 'tuscaloosa al united states of america',\n",
       " 'tuscaloosa al us',\n",
       " 'tuscaloosa al america']"
      ]
     },
     "execution_count": 57,
     "metadata": {},
     "output_type": "execute_result"
    }
   ],
   "source": [
    "list(city_key_iter(tt))"
   ]
  },
  {
   "cell_type": "code",
   "execution_count": 86,
   "metadata": {},
   "outputs": [],
   "source": [
    "class USCityIndex:\n",
    "    \n",
    "    def __init__(self):\n",
    "        self._idx = defaultdict(set)\n",
    "        \n",
    "    def __getitem__(self, text):\n",
    "        return self._idx[keyify(text)]\n",
    "    \n",
    "    def query(self, text):\n",
    "        return City.query.filter(City.wof_id.in_(self[text]))\n",
    "    \n",
    "    def build(self):\n",
    "        \"\"\"Index all US cities.\n",
    "        \"\"\"\n",
    "        iter_keys = USCityKeyIter()\n",
    "        \n",
    "        cities = City.query.filter(City.country_iso=='US')\n",
    "        \n",
    "        logger.info('Indexing US cities.')\n",
    "        \n",
    "        for city in tqdm(cities):\n",
    "            \n",
    "            try:\n",
    "                \n",
    "                # Generate keys, ensure no errors.\n",
    "                keys = list(iter_keys(city))\n",
    "                \n",
    "                # Index complete key set.\n",
    "                for key in iter_keys(city):\n",
    "                    self[key].add(city.wof_id)\n",
    "\n",
    "            except Exception as e:\n",
    "                pass"
   ]
  },
  {
   "cell_type": "code",
   "execution_count": 87,
   "metadata": {},
   "outputs": [
    {
     "name": "stdout",
     "output_type": "stream",
     "text": [
      "2018-07-19 12:15:54,302 | INFO : Indexing name -> populations.\n"
     ]
    },
    {
     "name": "stderr",
     "output_type": "stream",
     "text": [
      "344249it [00:12, 27354.20it/s]\n",
      "54727it [00:14, 3740.58it/s]\n"
     ]
    }
   ],
   "source": [
    "ci = CityIndex()\n",
    "ci.build()"
   ]
  },
  {
   "cell_type": "code",
   "execution_count": 88,
   "metadata": {},
   "outputs": [
    {
     "data": {
      "text/plain": [
       "793008"
      ]
     },
     "execution_count": 88,
     "metadata": {},
     "output_type": "execute_result"
    }
   ],
   "source": [
    "len(ci._idx)"
   ]
  },
  {
   "cell_type": "code",
   "execution_count": null,
   "metadata": {},
   "outputs": [],
   "source": [
    "ci.query('')"
   ]
  }
 ],
 "metadata": {
  "kernelspec": {
   "display_name": "Python 3",
   "language": "python",
   "name": "python3"
  },
  "language_info": {
   "codemirror_mode": {
    "name": "ipython",
    "version": 3
   },
   "file_extension": ".py",
   "mimetype": "text/x-python",
   "name": "python",
   "nbconvert_exporter": "python",
   "pygments_lexer": "ipython3",
   "version": "3.6.5"
  }
 },
 "nbformat": 4,
 "nbformat_minor": 2
}
