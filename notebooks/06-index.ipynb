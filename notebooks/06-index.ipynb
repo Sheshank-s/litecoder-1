{
 "cells": [
  {
   "cell_type": "code",
   "execution_count": 40,
   "metadata": {},
   "outputs": [],
   "source": [
    "import re\n",
    "\n",
    "from itertools import product\n",
    "from collections import defaultdict\n",
    "from tqdm import tqdm\n",
    "\n",
    "from litecoder.db import City"
   ]
  },
  {
   "cell_type": "code",
   "execution_count": 36,
   "metadata": {},
   "outputs": [],
   "source": [
    "def make_key(text, lower=True):\n",
    "    \"\"\"Normalize text string -> index key.\n",
    "    \"\"\"\n",
    "    text = text.strip()\n",
    "    \n",
    "    # Remove periods\n",
    "    text = re.sub('\\.', '', text)\n",
    "    \n",
    "    # Comma -> space\n",
    "    text = re.sub(',', ' ', text)\n",
    "    \n",
    "    # 2+ whitespace -> space\n",
    "    text = re.sub('\\s{2,}', ' ', text)\n",
    "\n",
    "    if lower:\n",
    "        text = text.lower()\n",
    "\n",
    "    return text"
   ]
  },
  {
   "cell_type": "code",
   "execution_count": 37,
   "metadata": {},
   "outputs": [
    {
     "data": {
      "text/plain": [
       "'madison wi usa'"
      ]
     },
     "execution_count": 37,
     "metadata": {},
     "output_type": "execute_result"
    }
   ],
   "source": [
    "make_key('Madison, WI, USA')"
   ]
  },
  {
   "cell_type": "code",
   "execution_count": 52,
   "metadata": {},
   "outputs": [],
   "source": [
    "USA = ('United States', 'USA', 'US', 'United States of America', 'America')\n",
    "\n",
    "def keys_iter(row):\n",
    "    \n",
    "    states = (row.state_name, row.state_abbr)\n",
    "    \n",
    "    for state in states:\n",
    "        yield '%s %s' % (row.name, state)\n",
    "        \n",
    "    for state, usa in product(states, USA):\n",
    "        yield '%s %s %s' % (row.name, state, usa)\n",
    "    \n",
    "    if row.population and row.population > 500000:\n",
    "        yield row.name"
   ]
  },
  {
   "cell_type": "code",
   "execution_count": 53,
   "metadata": {},
   "outputs": [],
   "source": [
    "class Litecoder:\n",
    "    \n",
    "    @classmethod\n",
    "    def from_db(cls):\n",
    "        lc = cls()\n",
    "        for row in tqdm(City.query.all()):\n",
    "            for k in keys_iter(row):\n",
    "                lc[k].append(row.wof_id)\n",
    "                \n",
    "        return lc\n",
    "    \n",
    "    def __init__(self):\n",
    "        self._idx = defaultdict(list)\n",
    "        \n",
    "    def __getitem__(self, k):\n",
    "        return self._idx[make_key(k)]"
   ]
  },
  {
   "cell_type": "code",
   "execution_count": 54,
   "metadata": {},
   "outputs": [
    {
     "name": "stderr",
     "output_type": "stream",
     "text": [
      "100%|██████████| 54285/54285 [00:04<00:00, 11066.23it/s]\n"
     ]
    }
   ],
   "source": [
    "lc = Litecoder.from_db()"
   ]
  },
  {
   "cell_type": "code",
   "execution_count": 67,
   "metadata": {},
   "outputs": [
    {
     "data": {
      "text/plain": [
       "[85921899]"
      ]
     },
     "execution_count": 67,
     "metadata": {},
     "output_type": "execute_result"
    }
   ],
   "source": [
    "lc['fremont CA']"
   ]
  },
  {
   "cell_type": "code",
   "execution_count": null,
   "metadata": {},
   "outputs": [],
   "source": []
  }
 ],
 "metadata": {
  "kernelspec": {
   "display_name": "Python 3",
   "language": "python",
   "name": "python3"
  },
  "language_info": {
   "codemirror_mode": {
    "name": "ipython",
    "version": 3
   },
   "file_extension": ".py",
   "mimetype": "text/x-python",
   "name": "python",
   "nbconvert_exporter": "python",
   "pygments_lexer": "ipython3",
   "version": "3.6.5"
  }
 },
 "nbformat": 4,
 "nbformat_minor": 2
}
