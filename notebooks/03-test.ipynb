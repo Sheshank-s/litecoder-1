{
 "cells": [
  {
   "cell_type": "code",
   "execution_count": 6,
   "metadata": {},
   "outputs": [],
   "source": [
    "import re\n",
    "import attr\n",
    "import us\n",
    "\n",
    "from itertools import groupby\n",
    "from boltons.iterutils import windowed"
   ]
  },
  {
   "cell_type": "code",
   "execution_count": 14,
   "metadata": {},
   "outputs": [],
   "source": [
    "def isplit(it, keyfunc):\n",
    "    return [list(g) for k, g in groupby(it, keyfunc) if not k]"
   ]
  },
  {
   "cell_type": "code",
   "execution_count": 15,
   "metadata": {},
   "outputs": [],
   "source": [
    "class StateIndex(dict):\n",
    "\n",
    "    def __init__(self):\n",
    "        \"\"\"Index name -> state.\n",
    "        \"\"\"\n",
    "        for state in us.STATES:\n",
    "            self[state.abbr.lower()] = state\n",
    "            self[state.name.lower()] = state"
   ]
  },
  {
   "cell_type": "code",
   "execution_count": 16,
   "metadata": {},
   "outputs": [],
   "source": [
    "state_index = StateIndex()"
   ]
  },
  {
   "cell_type": "code",
   "execution_count": 17,
   "metadata": {},
   "outputs": [],
   "source": [
    "@attr.s(repr=False)\n",
    "class Token:\n",
    "    \n",
    "    token = attr.ib()\n",
    "    index = attr.ib()\n",
    "    \n",
    "    def __repr__(self):\n",
    "        return f'{self.token}_{self.index}'"
   ]
  },
  {
   "cell_type": "code",
   "execution_count": 18,
   "metadata": {},
   "outputs": [],
   "source": [
    "class TokenList:\n",
    "    \n",
    "    @classmethod\n",
    "    def from_text(cls, text):\n",
    "        \n",
    "        tokens = []\n",
    "        text = text.replace('.', '')\n",
    "        \n",
    "        i = 0\n",
    "        for token in re.findall('[a-z-]+|,', text, re.I):\n",
    "            tokens.append(Token(token, i))\n",
    "            if token != ',': i += 1\n",
    "        \n",
    "        return cls(tokens)\n",
    "    \n",
    "    def __init__(self, tokens):\n",
    "        self.tokens = tokens\n",
    "    \n",
    "    def __repr__(self):\n",
    "        return f'{self.__class__.__name__}({self.tokens})'\n",
    "    \n",
    "    def key(self):\n",
    "        token_strs = [t.token for t in self.tokens]\n",
    "        return ' '.join(token_strs).lower()"
   ]
  },
  {
   "cell_type": "code",
   "execution_count": 19,
   "metadata": {},
   "outputs": [],
   "source": [
    "class LocationField(TokenList):\n",
    "    \n",
    "    def candidate_toponyms(self, maxn=4):\n",
    "        \n",
    "        # Split on commas.\n",
    "        for comma_part in isplit(self.tokens, lambda t: t.token == ','):\n",
    "        \n",
    "            # Slide window across tokens.\n",
    "            for n in range(1, maxn+1):\n",
    "                for w in windowed(comma_part, n):\n",
    "                    yield TokenList(w)"
   ]
  },
  {
   "cell_type": "code",
   "execution_count": 20,
   "metadata": {},
   "outputs": [],
   "source": [
    "lf = LocationField.from_text('South Lake Tahoe, CA')"
   ]
  },
  {
   "cell_type": "code",
   "execution_count": 21,
   "metadata": {},
   "outputs": [
    {
     "name": "stdout",
     "output_type": "stream",
     "text": [
      "south\n",
      "lake\n",
      "tahoe\n",
      "south lake\n",
      "lake tahoe\n",
      "south lake tahoe\n",
      "ca\n"
     ]
    }
   ],
   "source": [
    "for ct in lf.candidate_toponyms():\n",
    "    print(ct.key())"
   ]
  },
  {
   "cell_type": "code",
   "execution_count": 22,
   "metadata": {},
   "outputs": [],
   "source": [
    "def query(text):\n",
    "    \n",
    "    lf = LocationField.from_text(text)\n",
    "    \n",
    "    states = []\n",
    "    \n",
    "    for ct in lf.candidate_toponyms():\n",
    "        \n",
    "        state = state_index.get(ct.key())\n",
    "        \n",
    "        if state:\n",
    "            states.append(state)\n",
    "            \n",
    "    print(states)"
   ]
  }
 ],
 "metadata": {
  "kernelspec": {
   "display_name": "Python 3",
   "language": "python",
   "name": "python3"
  },
  "language_info": {
   "codemirror_mode": {
    "name": "ipython",
    "version": 3
   },
   "file_extension": ".py",
   "mimetype": "text/x-python",
   "name": "python",
   "nbconvert_exporter": "python",
   "pygments_lexer": "ipython3",
   "version": "3.6.5"
  }
 },
 "nbformat": 4,
 "nbformat_minor": 2
}
