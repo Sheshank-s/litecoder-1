{
 "cells": [
  {
   "cell_type": "code",
   "execution_count": 1,
   "metadata": {},
   "outputs": [],
   "source": [
    "import re\n",
    "\n",
    "import networkx as nx"
   ]
  },
  {
   "cell_type": "code",
   "execution_count": 2,
   "metadata": {},
   "outputs": [],
   "source": [
    "import matplotlib as mpl\n",
    "import matplotlib.pyplot as plt\n",
    "\n",
    "%matplotlib inline\n",
    "mpl.style.use('seaborn-muted')"
   ]
  },
  {
   "cell_type": "code",
   "execution_count": 47,
   "metadata": {},
   "outputs": [],
   "source": [
    "g = nx.DiGraph()"
   ]
  },
  {
   "cell_type": "code",
   "execution_count": 50,
   "metadata": {},
   "outputs": [
    {
     "data": {
      "text/plain": [
       "True"
      ]
     },
     "execution_count": 50,
     "metadata": {},
     "output_type": "execute_result"
    }
   ],
   "source": [
    "state = 0\n",
    "g.add_node(state)\n",
    "bool(g.nodes)"
   ]
  },
  {
   "cell_type": "code",
   "execution_count": 3,
   "metadata": {},
   "outputs": [],
   "source": [
    "class Token:\n",
    "    \n",
    "    def __init__(self, token, ignore_case=True, scrub_re='\\.'):\n",
    "        \n",
    "        self.ignore_case = ignore_case\n",
    "        self.scrub_re = scrub_re\n",
    "        \n",
    "        self.token = token\n",
    "        self.token_clean = self._clean(token)\n",
    "        \n",
    "    def _clean(self, token):\n",
    "        \n",
    "        if self.ignore_case:\n",
    "            token = token.lower()\n",
    "            \n",
    "        if self.scrub_re:\n",
    "            token = re.sub(self.scrub_re, '', token)\n",
    "            \n",
    "        return token\n",
    "    \n",
    "    def __call__(self, input_token):\n",
    "        return self._clean(input_token) == self.token_clean\n",
    "    \n",
    "    def __repr__(self):\n",
    "        return '%s<%s>' % (self.__class__.__name__, self.token_clean)"
   ]
  },
  {
   "cell_type": "code",
   "execution_count": 51,
   "metadata": {},
   "outputs": [],
   "source": [
    "class GeoFSA(nx.DiGraph):\n",
    "    \n",
    "    def __init__(self):\n",
    "        super().__init__()\n",
    "        \n",
    "    def next_state(self):\n",
    "        state = max(self.nodes) + 1 if self.nodes else 0\n",
    "        self.add_node(state)\n",
    "        return state\n",
    "        \n",
    "    def add_transition(self, accept_fn, parent=None, optional=False):\n",
    "        \n",
    "        s1 = parent if parent else self.next_state()\n",
    "        s2 = self.next_state()\n",
    "        \n",
    "        self.add_edge(s1, s2, accept_fn=accept_fn)\n",
    "        \n",
    "        if optional:\n",
    "            s3 = self.next_state()\n",
    "            self.add_edge(s2, s3)\n",
    "            self.add_edge(s1, s3)\n",
    "            return s3\n",
    "        \n",
    "        return s2"
   ]
  },
  {
   "cell_type": "code",
   "execution_count": 62,
   "metadata": {},
   "outputs": [],
   "source": [
    "g = GeoFSA()\n",
    "south = g.add_transition(Token('South'))\n",
    "lake = g.add_transition(Token('Lake'), parent=south)\n",
    "tahoe = g.add_transition(Token('Tahoe'), parent=lake)\n",
    "comma = g.add_transition(Token(','), parent=tahoe, optional=True)\n",
    "ca = g.add_transition(Token('CA'), parent=comma)\n",
    "north = g.add_transition(Token('North'), parent=comma)\n",
    "carolina = g.add_transition(Token('Carolina'), parent=north)"
   ]
  },
  {
   "cell_type": "code",
   "execution_count": 63,
   "metadata": {},
   "outputs": [],
   "source": [
    "class Matcher:\n",
    "    \n",
    "    def __init__(self, fsa):\n",
    "        self.fsa = fsa\n",
    "        self._states = set([0])\n",
    "        self.accepted = []\n",
    "        \n",
    "    def step(self, start_state, token, visited=None):\n",
    "        \n",
    "        if not visited:\n",
    "            visited = set()\n",
    "            \n",
    "        visited.add(start_state)\n",
    "        \n",
    "        next_states = set()\n",
    "        for d_state, attrs in self.fsa[start_state].items():\n",
    "            \n",
    "            accept_fn = attrs.get('accept_fn')\n",
    "            \n",
    "            if accept_fn:\n",
    "                if accept_fn(token):\n",
    "                    next_states.add(d_state)\n",
    "                    \n",
    "            elif d_state not in visited: \n",
    "                next_states.update(self.step(d_state, token, visited))\n",
    "                \n",
    "        return next_states\n",
    "        \n",
    "    def __call__(self, token):\n",
    "        \n",
    "        next_states = set()\n",
    "        for state in self._states:\n",
    "            next_states.update(self.step(state, token))\n",
    "            \n",
    "        if next_states:\n",
    "            self._states = next_states\n",
    "            self.accepted.append(token)\n",
    "            return True\n",
    "        \n",
    "        return False"
   ]
  },
  {
   "cell_type": "code",
   "execution_count": 69,
   "metadata": {},
   "outputs": [
    {
     "name": "stdout",
     "output_type": "stream",
     "text": [
      "True\n",
      "True\n",
      "True\n",
      "True\n",
      "True\n",
      "False\n"
     ]
    }
   ],
   "source": [
    "m = Matcher(g)\n",
    "print(m('South'))\n",
    "print(m('Lake'))\n",
    "print(m('Tahoe'))\n",
    "print(m(','))\n",
    "# print(m(','))\n",
    "# print(m(','))\n",
    "print(m('north'))\n",
    "print(m('caroina'))"
   ]
  },
  {
   "cell_type": "code",
   "execution_count": 65,
   "metadata": {},
   "outputs": [
    {
     "data": {
      "text/plain": [
       "['South', 'Lake', 'Tahoe', ',', 'CA']"
      ]
     },
     "execution_count": 65,
     "metadata": {},
     "output_type": "execute_result"
    }
   ],
   "source": [
    "m.accepted"
   ]
  },
  {
   "cell_type": "code",
   "execution_count": 66,
   "metadata": {},
   "outputs": [
    {
     "data": {
      "image/png": "[encoded data removed]",
      "text/plain": [
       "<Figure size 432x288 with 1 Axes>"
      ]
     },
     "metadata": {},
     "output_type": "display_data"
    }
   ],
   "source": [
    "nx.draw(g)"
   ]
  },
  {
   "cell_type": "code",
   "execution_count": null,
   "metadata": {},
   "outputs": [],
   "source": []
  }
 ],
 "metadata": {
  "kernelspec": {
   "display_name": "Python 3",
   "language": "python",
   "name": "python3"
  },
  "language_info": {
   "codemirror_mode": {
    "name": "ipython",
    "version": 3
   },
   "file_extension": ".py",
   "mimetype": "text/x-python",
   "name": "python",
   "nbconvert_exporter": "python",
   "pygments_lexer": "ipython3",
   "version": "3.6.5"
  }
 },
 "nbformat": 4,
 "nbformat_minor": 2
}
