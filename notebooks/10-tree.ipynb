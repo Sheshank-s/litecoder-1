{
 "cells": [
  {
   "cell_type": "code",
   "execution_count": 98,
   "metadata": {},
   "outputs": [],
   "source": [
    "import re\n",
    "\n",
    "from tqdm import tqdm\n",
    "from anytree import Node, RenderTree, search\n",
    "from collections import defaultdict\n",
    "\n",
    "from litecoder.db import City, session"
   ]
  },
  {
   "cell_type": "code",
   "execution_count": 3,
   "metadata": {},
   "outputs": [
    {
     "data": {
      "text/plain": [
       "344249"
      ]
     },
     "execution_count": 3,
     "metadata": {},
     "output_type": "execute_result"
    }
   ],
   "source": [
    "City.query.count()"
   ]
  },
  {
   "cell_type": "code",
   "execution_count": 4,
   "metadata": {},
   "outputs": [],
   "source": [
    "def keyify(text, lower=True):\n",
    "    \"\"\"Normalize text string -> index key.\n",
    "    \"\"\"\n",
    "    text = text.strip()\n",
    "    \n",
    "    # Remove periods\n",
    "    text = re.sub('\\.', '', text)\n",
    "    \n",
    "    # Comma -> space\n",
    "    text = re.sub(',', ' ', text)\n",
    "    \n",
    "    # 2+ whitespace -> space\n",
    "    text = re.sub('\\s{2,}', ' ', text)\n",
    "\n",
    "    if lower:\n",
    "        text = text.lower()\n",
    "\n",
    "    return text.split()"
   ]
  },
  {
   "cell_type": "code",
   "execution_count": 107,
   "metadata": {},
   "outputs": [],
   "source": [
    "def keys_iter(row):\n",
    "    \n",
    "    states = (row.name_a1, row.us_state_abbr)\n",
    "    \n",
    "    for state in states:\n",
    "        yield '%s %s' % (row.name, state)\n",
    "    \n",
    "    if row.population and row.population > 500000:\n",
    "        yield row.name"
   ]
  },
  {
   "cell_type": "code",
   "execution_count": 134,
   "metadata": {},
   "outputs": [
    {
     "name": "stderr",
     "output_type": "stream",
     "text": [
      "54727it [00:08, 6667.31it/s]\n"
     ]
    }
   ],
   "source": [
    "idx = defaultdict(list)\n",
    "\n",
    "cities = City.query.filter(City.country_iso=='US')\n",
    "\n",
    "for c in tqdm(cities):\n",
    "    for key_raw in keys_iter(c):\n",
    "        \n",
    "        tokens = keyify(key_raw)\n",
    "        \n",
    "        parent = Node(tokens[0])\n",
    "        idx[tokens[0]].append(parent)\n",
    "        \n",
    "        for token in tokens[1:]:\n",
    "            parent = Node(token, parent=parent)"
   ]
  },
  {
   "cell_type": "code",
   "execution_count": 172,
   "metadata": {},
   "outputs": [],
   "source": [
    "def find_locs(text):\n",
    "    \n",
    "    active = []\n",
    "    closed = []\n",
    "    for token in keyify(text):\n",
    "        \n",
    "        extensions = []\n",
    "        for an in active:\n",
    "            if not an.is_leaf:\n",
    "                extensions += search.findall(an, lambda n: n.name==token, maxlevel=an.depth+2)\n",
    "                \n",
    "        if not extensions:\n",
    "            closed += [n for n in active if n.is_leaf]\n",
    "            \n",
    "        active = extensions\n",
    "            \n",
    "        if not active:\n",
    "            active = idx[token]\n",
    "            \n",
    "    closed += [n for n in active if n.is_leaf]\n",
    "\n",
    "    return closed"
   ]
  },
  {
   "cell_type": "code",
   "execution_count": 190,
   "metadata": {},
   "outputs": [
    {
     "name": "stdout",
     "output_type": "stream",
     "text": [
      "CPU times: user 1.32 ms, sys: 909 µs, total: 2.23 ms\n",
      "Wall time: 2.24 ms\n"
     ]
    },
    {
     "data": {
      "text/plain": [
       "[Node('/midway/fl'), Node('/midway/fl'), Node('/midway/fl')]"
      ]
     },
     "execution_count": 190,
     "metadata": {},
     "output_type": "execute_result"
    }
   ],
   "source": [
    "%time find_locs('midway fl')"
   ]
  },
  {
   "cell_type": "code",
   "execution_count": null,
   "metadata": {},
   "outputs": [],
   "source": []
  }
 ],
 "metadata": {
  "kernelspec": {
   "display_name": "Python 3",
   "language": "python",
   "name": "python3"
  },
  "language_info": {
   "codemirror_mode": {
    "name": "ipython",
    "version": 3
   },
   "file_extension": ".py",
   "mimetype": "text/x-python",
   "name": "python",
   "nbconvert_exporter": "python",
   "pygments_lexer": "ipython3",
   "version": "3.6.5"
  }
 },
 "nbformat": 4,
 "nbformat_minor": 2
}
