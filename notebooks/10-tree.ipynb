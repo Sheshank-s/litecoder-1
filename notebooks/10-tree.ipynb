{
 "cells": [
  {
   "cell_type": "code",
   "execution_count": 98,
   "metadata": {},
   "outputs": [],
   "source": [
    "import re\n",
    "\n",
    "from tqdm import tqdm\n",
    "from anytree import Node, RenderTree, search\n",
    "from collections import defaultdict\n",
    "\n",
    "from litecoder.db import City, session"
   ]
  },
  {
   "cell_type": "code",
   "execution_count": 3,
   "metadata": {},
   "outputs": [
    {
     "data": {
      "text/plain": [
       "344249"
      ]
     },
     "execution_count": 3,
     "metadata": {},
     "output_type": "execute_result"
    }
   ],
   "source": [
    "City.query.count()"
   ]
  },
  {
   "cell_type": "code",
   "execution_count": 4,
   "metadata": {},
   "outputs": [],
   "source": [
    "def keyify(text, lower=True):\n",
    "    \"\"\"Normalize text string -> index key.\n",
    "    \"\"\"\n",
    "    text = text.strip()\n",
    "    \n",
    "    # Remove periods\n",
    "    text = re.sub('\\.', '', text)\n",
    "    \n",
    "    # Comma -> space\n",
    "    text = re.sub(',', ' ', text)\n",
    "    \n",
    "    # 2+ whitespace -> space\n",
    "    text = re.sub('\\s{2,}', ' ', text)\n",
    "\n",
    "    if lower:\n",
    "        text = text.lower()\n",
    "\n",
    "    return text.split()"
   ]
  },
  {
   "cell_type": "code",
   "execution_count": 107,
   "metadata": {},
   "outputs": [],
   "source": [
    "def keys_iter(row):\n",
    "    \n",
    "    states = (row.name_a1, row.us_state_abbr)\n",
    "    \n",
    "    for state in states:\n",
    "        yield '%s %s' % (row.name, state)\n",
    "    \n",
    "    if row.population and row.population > 500000:\n",
    "        yield row.name"
   ]
  },
  {
   "cell_type": "code",
   "execution_count": 134,
   "metadata": {},
   "outputs": [
    {
     "name": "stderr",
     "output_type": "stream",
     "text": [
      "54727it [00:08, 6667.31it/s]\n"
     ]
    }
   ],
   "source": [
    "idx = defaultdict(list)\n",
    "\n",
    "cities = City.query.filter(City.country_iso=='US')\n",
    "\n",
    "for c in tqdm(cities):\n",
    "    for key_raw in keys_iter(c):\n",
    "        \n",
    "        tokens = keyify(key_raw)\n",
    "        \n",
    "        parent = Node(tokens[0])\n",
    "        idx[tokens[0]].append(parent)\n",
    "        \n",
    "        for token in tokens[1:]:\n",
    "            parent = Node(token, parent=parent)"
   ]
  },
  {
   "cell_type": "code",
   "execution_count": 135,
   "metadata": {},
   "outputs": [],
   "source": [
    "def find_locs(text):\n",
    "    \n",
    "    active = []\n",
    "    closed = []\n",
    "    for token in keyify(text):\n",
    "\n",
    "        new_active, new_closed = [], []\n",
    "        for an in active:\n",
    "            for match in search.findall(an, lambda n: n.name==token, maxlevel=an.depth+2):\n",
    "                if match.is_leaf:\n",
    "                    new_closed.append(match)\n",
    "                else:\n",
    "                    new_active.append(match)\n",
    "\n",
    "        active = new_active\n",
    "\n",
    "        if not active:\n",
    "            closed += new_closed\n",
    "            active = idx[token]\n",
    "            \n",
    "    return closed"
   ]
  },
  {
   "cell_type": "code",
   "execution_count": 141,
   "metadata": {},
   "outputs": [
    {
     "name": "stdout",
     "output_type": "stream",
     "text": [
      "CPU times: user 1.06 ms, sys: 5 µs, total: 1.06 ms\n",
      "Wall time: 1.07 ms\n"
     ]
    },
    {
     "data": {
      "text/plain": [
       "[Node('/atmore/alabama'), Node('/mobile/al')]"
      ]
     },
     "execution_count": 141,
     "metadata": {},
     "output_type": "execute_result"
    }
   ],
   "source": [
    "%time find_locs('I was born in Atmore, Alabama in June, but went to high school in Mobile AL and in chicago test')"
   ]
  },
  {
   "cell_type": "code",
   "execution_count": 142,
   "metadata": {},
   "outputs": [
    {
     "name": "stdout",
     "output_type": "stream",
     "text": [
      "CPU times: user 24 µs, sys: 1 µs, total: 25 µs\n",
      "Wall time: 26.9 µs\n"
     ]
    },
    {
     "data": {
      "text/plain": [
       "[]"
      ]
     },
     "execution_count": 142,
     "metadata": {},
     "output_type": "execute_result"
    }
   ],
   "source": [
    "%time find_locs('I was born in Chicago')"
   ]
  },
  {
   "cell_type": "code",
   "execution_count": null,
   "metadata": {},
   "outputs": [],
   "source": []
  }
 ],
 "metadata": {
  "kernelspec": {
   "display_name": "Python 3",
   "language": "python",
   "name": "python3"
  },
  "language_info": {
   "codemirror_mode": {
    "name": "ipython",
    "version": 3
   },
   "file_extension": ".py",
   "mimetype": "text/x-python",
   "name": "python",
   "nbconvert_exporter": "python",
   "pygments_lexer": "ipython3",
   "version": "3.6.5"
  }
 },
 "nbformat": 4,
 "nbformat_minor": 2
}
