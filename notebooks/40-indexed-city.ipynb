{
 "cells": [
  {
   "cell_type": "code",
   "execution_count": 43,
   "metadata": {},
   "outputs": [],
   "source": [
    "import pandas as pd\n",
    "\n",
    "from tqdm import tqdm\n",
    "from cached_property import cached_property\n",
    "from sqlalchemy.inspection import inspect\n",
    "\n",
    "from litecoder.usa import USCityIndex, USStateIndex\n",
    "from litecoder.models import Locality"
   ]
  },
  {
   "cell_type": "code",
   "execution_count": 2,
   "metadata": {},
   "outputs": [
    {
     "name": "stdout",
     "output_type": "stream",
     "text": [
      "2018-07-23 09:33:46,234 | INFO : Indexing name -> populations.\n"
     ]
    },
    {
     "name": "stderr",
     "output_type": "stream",
     "text": [
      "344249it [00:13, 25478.56it/s]"
     ]
    },
    {
     "name": "stdout",
     "output_type": "stream",
     "text": [
      "2018-07-23 09:34:08,880 | INFO : Indexing US cities.\n"
     ]
    },
    {
     "name": "stderr",
     "output_type": "stream",
     "text": [
      "\n",
      "54727it [00:07, 7047.46it/s]\n"
     ]
    }
   ],
   "source": [
    "city_idx = USCityIndex()\n",
    "city_idx.build()"
   ]
  },
  {
   "cell_type": "code",
   "execution_count": 3,
   "metadata": {},
   "outputs": [
    {
     "name": "stdout",
     "output_type": "stream",
     "text": [
      "2018-07-23 09:34:21,562 | INFO : Indexing US states.\n"
     ]
    },
    {
     "name": "stderr",
     "output_type": "stream",
     "text": [
      "51it [00:00, 5768.55it/s]\n"
     ]
    }
   ],
   "source": [
    "state_idx = USStateIndex()\n",
    "state_idx.build()"
   ]
  },
  {
   "cell_type": "code",
   "execution_count": 4,
   "metadata": {},
   "outputs": [
    {
     "data": {
      "text/plain": [
       "USCityIndex<637590 keys, 54727 entities>"
      ]
     },
     "execution_count": 4,
     "metadata": {},
     "output_type": "execute_result"
    }
   ],
   "source": [
    "city_idx"
   ]
  },
  {
   "cell_type": "code",
   "execution_count": 5,
   "metadata": {},
   "outputs": [
    {
     "data": {
      "text/plain": [
       "USStateIndex<561 keys, 51 entities>"
      ]
     },
     "execution_count": 5,
     "metadata": {},
     "output_type": "execute_result"
    }
   ],
   "source": [
    "state_idx"
   ]
  },
  {
   "cell_type": "code",
   "execution_count": 6,
   "metadata": {},
   "outputs": [
    {
     "name": "stdout",
     "output_type": "stream",
     "text": [
      "CPU times: user 29 µs, sys: 1e+03 ns, total: 30 µs\n",
      "Wall time: 34.1 µs\n"
     ]
    },
    {
     "data": {
      "text/plain": [
       "[{'area_m2': 19335596.260778,\n",
       "  'country_iso': 'US',\n",
       "  'dbpedia_id': None,\n",
       "  'elevation': 271,\n",
       "  'factual_id': '08bf0c70-8f76-11e1-848f-cfd5bf3ef515',\n",
       "  'fips_code': 5504625,\n",
       "  'freebase_id': None,\n",
       "  'geonames_id': 5244638,\n",
       "  'geoplanet_id': 2359079,\n",
       "  'latitude': 43.469626,\n",
       "  'library_of_congress_id': None,\n",
       "  'longitude': -89.737824,\n",
       "  'name': 'Baraboo',\n",
       "  'name_a0': 'United States',\n",
       "  'name_a1': 'Wisconsin',\n",
       "  'new_york_times_id': None,\n",
       "  'population': 12048,\n",
       "  'quattroshapes_id': 813534,\n",
       "  'wikidata_id': 'Q1023544',\n",
       "  'wikipedia_page': 'Baraboo, Wisconsin',\n",
       "  'wikipedia_wordcount': 2028,\n",
       "  'wof_id': 101733429,\n",
       "  'wof_region_id': 85688517}]"
      ]
     },
     "execution_count": 6,
     "metadata": {},
     "output_type": "execute_result"
    }
   ],
   "source": [
    "%time city_idx['Baraboo, WI']"
   ]
  },
  {
   "cell_type": "code",
   "execution_count": 7,
   "metadata": {},
   "outputs": [
    {
     "name": "stdout",
     "output_type": "stream",
     "text": [
      "CPU times: user 18 µs, sys: 1e+03 ns, total: 19 µs\n",
      "Wall time: 21 µs\n"
     ]
    },
    {
     "data": {
      "text/plain": [
       "[{'area_m2': 182609378555.8498,\n",
       "  'country_iso': 'US',\n",
       "  'fips_code': 'US38',\n",
       "  'geonames_id': 5690763,\n",
       "  'geoplanet_id': 2347593,\n",
       "  'iso_id': 'US-ND',\n",
       "  'latitude': 47.446315,\n",
       "  'longitude': -100.469334,\n",
       "  'name': 'North Dakota',\n",
       "  'name_a0': 'United States',\n",
       "  'name_abbr': 'ND',\n",
       "  'population': 672591,\n",
       "  'wikidata_id': 'Q1207',\n",
       "  'wof_country_id': 85633793,\n",
       "  'wof_id': 85688525}]"
      ]
     },
     "execution_count": 7,
     "metadata": {},
     "output_type": "execute_result"
    }
   ],
   "source": [
    "%time state_idx['north dakota']"
   ]
  },
  {
   "cell_type": "code",
   "execution_count": 35,
   "metadata": {},
   "outputs": [],
   "source": [
    "class IndexedCity:\n",
    "    \n",
    "    def __init__(self, row):\n",
    "        self.pk = row.wof_id\n",
    "        self.metadata = dict(row)\n",
    "        \n",
    "    def __getattr__(self, key):\n",
    "        return self.metadata[key]\n",
    "    \n",
    "    def as_dict(self):\n",
    "        return self.metadata\n",
    "        \n",
    "    def __repr__(self):\n",
    "        return '%s<%d, %s, %s, %s>' % (\n",
    "            self.__class__.__name__,\n",
    "            self.wof_id,\n",
    "            self.name,\n",
    "            self.name_a1,\n",
    "            self.name_a0,\n",
    "        )\n",
    "        \n",
    "    @cached_property\n",
    "    def db_row(self):\n",
    "        return Locality.query.get(self.pk)"
   ]
  },
  {
   "cell_type": "code",
   "execution_count": 36,
   "metadata": {},
   "outputs": [],
   "source": [
    "loc = Locality.query.first()"
   ]
  },
  {
   "cell_type": "code",
   "execution_count": 37,
   "metadata": {},
   "outputs": [],
   "source": [
    "ic = IndexedCity(loc)"
   ]
  },
  {
   "cell_type": "code",
   "execution_count": 38,
   "metadata": {},
   "outputs": [
    {
     "data": {
      "text/plain": [
       "IndexedCity<85897411, Valley Head, Alabama, United States>"
      ]
     },
     "execution_count": 38,
     "metadata": {},
     "output_type": "execute_result"
    }
   ],
   "source": [
    "ic"
   ]
  },
  {
   "cell_type": "code",
   "execution_count": 40,
   "metadata": {},
   "outputs": [
    {
     "data": {
      "text/plain": [
       "Region<85688675, Alabama, United States>"
      ]
     },
     "execution_count": 40,
     "metadata": {},
     "output_type": "execute_result"
    }
   ],
   "source": [
    "ic.db_row.region"
   ]
  },
  {
   "cell_type": "code",
   "execution_count": 41,
   "metadata": {},
   "outputs": [
    {
     "data": {
      "text/plain": [
       "{'area_m2': 8995650.887739,\n",
       " 'country_iso': 'US',\n",
       " 'dbpedia_id': None,\n",
       " 'elevation': 309,\n",
       " 'factual_id': '08cd9042-8f76-11e1-848f-cfd5bf3ef515',\n",
       " 'fips_code': 178240,\n",
       " 'freebase_id': None,\n",
       " 'geonames_id': 4095233,\n",
       " 'geoplanet_id': 2510853,\n",
       " 'latitude': 34.557517,\n",
       " 'library_of_congress_id': None,\n",
       " 'longitude': -85.621354,\n",
       " 'name': 'Valley Head',\n",
       " 'name_a0': 'United States',\n",
       " 'name_a1': 'Alabama',\n",
       " 'new_york_times_id': None,\n",
       " 'population': 558,\n",
       " 'quattroshapes_id': 936530,\n",
       " 'wikidata_id': 'Q66599',\n",
       " 'wikipedia_page': 'Valley Head, Alabama',\n",
       " 'wikipedia_wordcount': 615,\n",
       " 'wof_id': 85897411,\n",
       " 'wof_region_id': 85688675}"
      ]
     },
     "execution_count": 41,
     "metadata": {},
     "output_type": "execute_result"
    }
   ],
   "source": [
    "ic.as_dict()"
   ]
  },
  {
   "cell_type": "code",
   "execution_count": 55,
   "metadata": {},
   "outputs": [],
   "source": [
    "class IndexedRow:\n",
    "    \n",
    "    def __init__(self, row):\n",
    "        \n",
    "        state = inspect(row)\n",
    "        \n",
    "        self.pk = state.identity\n",
    "        self.model_cls = state.class_\n",
    "        \n",
    "        self.metadata = dict(row)\n",
    "        \n",
    "    def __getattr__(self, key):\n",
    "        return self.metadata[key]\n",
    "    \n",
    "    def as_dict(self):\n",
    "        return self.metadata\n",
    "        \n",
    "    def __repr__(self):\n",
    "        return 'Indexed%s<%d, %s, %s, %s>' % (\n",
    "            self.model_cls.__name__,\n",
    "            self.wof_id,\n",
    "            self.name,\n",
    "            self.name_a1,\n",
    "            self.name_a0,\n",
    "        )\n",
    "        \n",
    "    @cached_property\n",
    "    def db_row(self):\n",
    "        return self.model_cls.query.get(self.pk)"
   ]
  },
  {
   "cell_type": "code",
   "execution_count": 46,
   "metadata": {},
   "outputs": [],
   "source": [
    "s = inspect(loc)"
   ]
  },
  {
   "cell_type": "code",
   "execution_count": 50,
   "metadata": {},
   "outputs": [
    {
     "data": {
      "text/plain": [
       "(85897411,)"
      ]
     },
     "execution_count": 50,
     "metadata": {},
     "output_type": "execute_result"
    }
   ],
   "source": [
    "s.identity"
   ]
  },
  {
   "cell_type": "code",
   "execution_count": 54,
   "metadata": {},
   "outputs": [
    {
     "data": {
      "text/plain": [
       "'Locality'"
      ]
     },
     "execution_count": 54,
     "metadata": {},
     "output_type": "execute_result"
    }
   ],
   "source": [
    "s.class_.__name__"
   ]
  },
  {
   "cell_type": "code",
   "execution_count": 52,
   "metadata": {},
   "outputs": [
    {
     "data": {
      "text/plain": [
       "<sqlalchemy.orm.state.InstanceState at 0x12e2ba470>"
      ]
     },
     "execution_count": 52,
     "metadata": {},
     "output_type": "execute_result"
    }
   ],
   "source": [
    "s"
   ]
  },
  {
   "cell_type": "code",
   "execution_count": 53,
   "metadata": {},
   "outputs": [
    {
     "data": {
      "text/plain": [
       "Locality<85897411, Valley Head, Alabama, United States>"
      ]
     },
     "execution_count": 53,
     "metadata": {},
     "output_type": "execute_result"
    }
   ],
   "source": [
    "Locality.query.get((85897411,))"
   ]
  },
  {
   "cell_type": "code",
   "execution_count": 56,
   "metadata": {},
   "outputs": [],
   "source": [
    "ic = IndexedRow(loc)"
   ]
  },
  {
   "cell_type": "code",
   "execution_count": 57,
   "metadata": {},
   "outputs": [
    {
     "data": {
      "text/plain": [
       "IndexedLocality<85897411, Valley Head, Alabama, United States>"
      ]
     },
     "execution_count": 57,
     "metadata": {},
     "output_type": "execute_result"
    }
   ],
   "source": [
    "ic"
   ]
  },
  {
   "cell_type": "code",
   "execution_count": 58,
   "metadata": {},
   "outputs": [
    {
     "data": {
      "text/plain": [
       "558"
      ]
     },
     "execution_count": 58,
     "metadata": {},
     "output_type": "execute_result"
    }
   ],
   "source": [
    "ic.population"
   ]
  },
  {
   "cell_type": "code",
   "execution_count": 59,
   "metadata": {},
   "outputs": [
    {
     "data": {
      "text/plain": [
       "Locality<85897411, Valley Head, Alabama, United States>"
      ]
     },
     "execution_count": 59,
     "metadata": {},
     "output_type": "execute_result"
    }
   ],
   "source": [
    "ic.db_row"
   ]
  },
  {
   "cell_type": "code",
   "execution_count": null,
   "metadata": {},
   "outputs": [],
   "source": []
  }
 ],
 "metadata": {
  "kernelspec": {
   "display_name": "Python 3",
   "language": "python",
   "name": "python3"
  },
  "language_info": {
   "codemirror_mode": {
    "name": "ipython",
    "version": 3
   },
   "file_extension": ".py",
   "mimetype": "text/x-python",
   "name": "python",
   "nbconvert_exporter": "python",
   "pygments_lexer": "ipython3",
   "version": "3.6.5"
  }
 },
 "nbformat": 4,
 "nbformat_minor": 2
}
