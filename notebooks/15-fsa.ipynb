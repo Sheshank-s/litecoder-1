{
 "cells": [
  {
   "cell_type": "code",
   "execution_count": 30,
   "metadata": {},
   "outputs": [],
   "source": [
    "import re\n",
    "\n",
    "import networkx as nx"
   ]
  },
  {
   "cell_type": "code",
   "execution_count": 31,
   "metadata": {},
   "outputs": [],
   "source": [
    "import matplotlib as mpl\n",
    "import matplotlib.pyplot as plt\n",
    "\n",
    "%matplotlib inline\n",
    "mpl.style.use('seaborn-muted')"
   ]
  },
  {
   "cell_type": "code",
   "execution_count": 32,
   "metadata": {},
   "outputs": [],
   "source": [
    "class Token:\n",
    "    \n",
    "    def __init__(self, token, ignore_case=True, scrub_re='\\.'):\n",
    "        \n",
    "        self.ignore_case = ignore_case\n",
    "        self.scrub_re = scrub_re\n",
    "        \n",
    "        self.token = token\n",
    "        self.token_clean = self._clean(token)\n",
    "        \n",
    "    def _clean(self, token):\n",
    "        \n",
    "        if self.ignore_case:\n",
    "            token = token.lower()\n",
    "            \n",
    "        if self.scrub_re:\n",
    "            token = re.sub(self.scrub_re, '', token)\n",
    "            \n",
    "        return token\n",
    "    \n",
    "    def __call__(self, input_token):\n",
    "        return self._clean(input_token) == self.token_clean\n",
    "    \n",
    "    def __repr__(self):\n",
    "        return '%s<%s>' % (self.__class__.__name__, self.token_clean)"
   ]
  },
  {
   "cell_type": "code",
   "execution_count": 78,
   "metadata": {},
   "outputs": [],
   "source": [
    "g = nx.DiGraph()\n",
    "g.add_edge(0, 1, accept_fn=Token('South'))\n",
    "g.add_edge(1, 2, accept_fn=Token('Lake'))\n",
    "g.add_edge(2, 3, accept_fn=Token('Tahoe'))\n",
    "g.add_edge(3, 4, accept_fn=Token(','))\n",
    "g.add_edge(4, 5)\n",
    "g.add_edge(3, 5)\n",
    "g.add_edge(5, 6, accept_fn=Token('CA'))\n",
    "g.add_edge(5, 7, accept_fn=Token('California'))"
   ]
  },
  {
   "cell_type": "code",
   "execution_count": 79,
   "metadata": {},
   "outputs": [],
   "source": [
    "class Matcher:\n",
    "    \n",
    "    def __init__(self, fsa):\n",
    "        self.fsa = fsa\n",
    "        self._states = set([0])\n",
    "        self.accepted = []\n",
    "        \n",
    "    def step(self, start_state, token, visited=None):\n",
    "        \n",
    "        if not visited:\n",
    "            visited = set()\n",
    "            \n",
    "        visited.add(start_state)\n",
    "        \n",
    "        next_states = set()\n",
    "        for d_state, attrs in self.fsa[start_state].items():\n",
    "            \n",
    "            accept_fn = attrs.get('accept_fn')\n",
    "            \n",
    "            if accept_fn:\n",
    "                if accept_fn(token):\n",
    "                    next_states.add(d_state)\n",
    "                    \n",
    "            elif d_state not in visited: \n",
    "                next_states.update(self.step(d_state, token, visited))\n",
    "                \n",
    "        return next_states\n",
    "        \n",
    "    def __call__(self, token):\n",
    "        \n",
    "        next_states = set()\n",
    "        for state in self._states:\n",
    "            next_states.update(self.step(state, token))\n",
    "            \n",
    "        if next_states:\n",
    "            self._states = next_states\n",
    "            self.accepted.append(token)\n",
    "            return True\n",
    "        \n",
    "        return False"
   ]
  },
  {
   "cell_type": "code",
   "execution_count": 81,
   "metadata": {},
   "outputs": [
    {
     "name": "stdout",
     "output_type": "stream",
     "text": [
      "True\n",
      "True\n",
      "True\n",
      "True\n",
      "True\n"
     ]
    }
   ],
   "source": [
    "m = Matcher(g)\n",
    "print(m('South'))\n",
    "print(m('Lake'))\n",
    "print(m('Tahoe'))\n",
    "print(m(','))\n",
    "# print(m(','))\n",
    "# print(m(','))\n",
    "print(m('CA'))"
   ]
  },
  {
   "cell_type": "code",
   "execution_count": 82,
   "metadata": {},
   "outputs": [
    {
     "data": {
      "text/plain": [
       "['South', 'Lake', 'Tahoe', ',', 'CA']"
      ]
     },
     "execution_count": 82,
     "metadata": {},
     "output_type": "execute_result"
    }
   ],
   "source": [
    "m.accepted"
   ]
  },
  {
   "cell_type": "code",
   "execution_count": null,
   "metadata": {},
   "outputs": [],
   "source": []
  }
 ],
 "metadata": {
  "kernelspec": {
   "display_name": "Python 3",
   "language": "python",
   "name": "python3"
  },
  "language_info": {
   "codemirror_mode": {
    "name": "ipython",
    "version": 3
   },
   "file_extension": ".py",
   "mimetype": "text/x-python",
   "name": "python",
   "nbconvert_exporter": "python",
   "pygments_lexer": "ipython3",
   "version": "3.6.5"
  }
 },
 "nbformat": 4,
 "nbformat_minor": 2
}
