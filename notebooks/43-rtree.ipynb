{
 "cells": [
  {
   "cell_type": "code",
   "execution_count": 3,
   "metadata": {},
   "outputs": [],
   "source": [
    "from shapely.geometry import Point\n",
    "from shapely.strtree import STRtree\n",
    "\n",
    "from litecoder.models import Locality"
   ]
  },
  {
   "cell_type": "code",
   "execution_count": 13,
   "metadata": {},
   "outputs": [],
   "source": [
    "points = [Point(i, i) for i in range(10000)]"
   ]
  },
  {
   "cell_type": "code",
   "execution_count": 14,
   "metadata": {},
   "outputs": [],
   "source": [
    "tree = STRtree(points)"
   ]
  },
  {
   "cell_type": "code",
   "execution_count": 16,
   "metadata": {},
   "outputs": [
    {
     "name": "stdout",
     "output_type": "stream",
     "text": [
      "CPU times: user 641 µs, sys: 457 µs, total: 1.1 ms\n",
      "Wall time: 559 µs\n"
     ]
    },
    {
     "data": {
      "text/plain": [
       "[<shapely.geometry.point.Point at 0x10ae11400>,\n",
       " <shapely.geometry.point.Point at 0x10ae119e8>,\n",
       " <shapely.geometry.point.Point at 0x10ae11c18>,\n",
       " <shapely.geometry.point.Point at 0x10ae11c50>,\n",
       " <shapely.geometry.point.Point at 0x10ae11c88>]"
      ]
     },
     "execution_count": 16,
     "metadata": {},
     "output_type": "execute_result"
    }
   ],
   "source": [
    "%time tree.query(Point(3,3).buffer(2))"
   ]
  },
  {
   "cell_type": "code",
   "execution_count": 17,
   "metadata": {},
   "outputs": [
    {
     "data": {
      "text/plain": [
       "\u001b[0;31mInit signature:\u001b[0m \u001b[0mPoint\u001b[0m\u001b[0;34m(\u001b[0m\u001b[0;34m*\u001b[0m\u001b[0margs\u001b[0m\u001b[0;34m)\u001b[0m\u001b[0;34m\u001b[0m\u001b[0m\n",
       "\u001b[0;31mDocstring:\u001b[0m     \n",
       "A zero dimensional feature\n",
       "\n",
       "A point has zero length and zero area.\n",
       "\n",
       "Attributes\n",
       "----------\n",
       "x, y, z : float\n",
       "    Coordinate values\n",
       "\n",
       "Example\n",
       "-------\n",
       "  >>> p = Point(1.0, -1.0)\n",
       "  >>> print(p)\n",
       "  POINT (1.0000000000000000 -1.0000000000000000)\n",
       "  >>> p.y\n",
       "  -1.0\n",
       "  >>> p.x\n",
       "  1.0\n",
       "\u001b[0;31mInit docstring:\u001b[0m\n",
       "Parameters\n",
       "----------\n",
       "There are 2 cases:\n",
       "\n",
       "1) 1 parameter: this must satisfy the numpy array protocol.\n",
       "2) 2 or more parameters: x, y, z : float\n",
       "    Easting, northing, and elevation.\n",
       "\u001b[0;31mFile:\u001b[0m           ~/Projects/litecoder/env/lib/python3.6/site-packages/shapely/geometry/point.py\n",
       "\u001b[0;31mType:\u001b[0m           type\n"
      ]
     },
     "metadata": {},
     "output_type": "display_data"
    }
   ],
   "source": [
    "Point?"
   ]
  },
  {
   "cell_type": "code",
   "execution_count": null,
   "metadata": {},
   "outputs": [],
   "source": []
  }
 ],
 "metadata": {
  "kernelspec": {
   "display_name": "Python 3",
   "language": "python",
   "name": "python3"
  },
  "language_info": {
   "codemirror_mode": {
    "name": "ipython",
    "version": 3
   },
   "file_extension": ".py",
   "mimetype": "text/x-python",
   "name": "python",
   "nbconvert_exporter": "python",
   "pygments_lexer": "ipython3",
   "version": "3.6.5"
  }
 },
 "nbformat": 4,
 "nbformat_minor": 2
}
