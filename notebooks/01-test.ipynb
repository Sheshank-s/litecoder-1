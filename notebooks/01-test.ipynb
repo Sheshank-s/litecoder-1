{
 "cells": [
  {
   "cell_type": "code",
   "execution_count": 1,
   "metadata": {},
   "outputs": [],
   "source": [
    "import re\n",
    "import attr\n",
    "import us\n",
    "\n",
    "from itertools import groupby\n",
    "from boltons.iterutils import windowed"
   ]
  },
  {
   "cell_type": "code",
   "execution_count": 2,
   "metadata": {},
   "outputs": [],
   "source": [
    "class StateIndex(dict):\n",
    "\n",
    "    def __init__(self):\n",
    "        \"\"\"Index name -> state.\n",
    "        \"\"\"\n",
    "        for state in us.STATES:\n",
    "            self[state.abbr.lower()] = state\n",
    "            self[state.name.lower()] = state"
   ]
  },
  {
   "cell_type": "code",
   "execution_count": 3,
   "metadata": {},
   "outputs": [],
   "source": [
    "state_index = StateIndex()"
   ]
  },
  {
   "cell_type": "code",
   "execution_count": 5,
   "metadata": {},
   "outputs": [],
   "source": [
    "def isplit(it, keyfunc):\n",
    "    return [list(g) for k, g in groupby(it, keyfunc) if not k]"
   ]
  },
  {
   "cell_type": "code",
   "execution_count": 6,
   "metadata": {},
   "outputs": [],
   "source": [
    "@attr.s\n",
    "class Token:\n",
    "    token = attr.ib()\n",
    "    p = attr.ib()"
   ]
  },
  {
   "cell_type": "code",
   "execution_count": 7,
   "metadata": {},
   "outputs": [],
   "source": [
    "class LocationFieldTokens(list):\n",
    "    \n",
    "    @classmethod\n",
    "    def from_text(cls, text):\n",
    "        tokens = cls()\n",
    "        \n",
    "        text = text.replace('.', '')\n",
    "        \n",
    "        i = 0\n",
    "        for token in re.findall('[a-z-]+|,', text, re.I):\n",
    "            tokens.append(Token(token, i))\n",
    "            if token != ',': i += 1\n",
    "\n",
    "        return tokens\n",
    "    \n",
    "    def comma_phrases(self):\n",
    "        parts = isplit(self, lambda t: t.token == ',')\n",
    "        return list(map(CommaPhraseTokens, parts))\n",
    "    \n",
    "    def candidate_toponyms(self, *args, **kwargs):\n",
    "        for cp in self.comma_phrases():\n",
    "            yield from cp.candidate_toponyms(*args, **kwargs)"
   ]
  },
  {
   "cell_type": "code",
   "execution_count": 8,
   "metadata": {},
   "outputs": [],
   "source": [
    "class CommaPhraseTokens(list):\n",
    "    \n",
    "    def candidate_toponyms(self, maxn=4):\n",
    "        for n in range(1, maxn+1):\n",
    "            for w in windowed(self, n):\n",
    "                yield CandidateToponymTokens(w)"
   ]
  },
  {
   "cell_type": "code",
   "execution_count": 9,
   "metadata": {},
   "outputs": [],
   "source": [
    "class CandidateToponymTokens(list):\n",
    "    \n",
    "    def key(self):\n",
    "        return ' '.join([t.token for t in self]).lower()"
   ]
  },
  {
   "cell_type": "code",
   "execution_count": 10,
   "metadata": {},
   "outputs": [],
   "source": [
    "q = LocationFieldTokens.from_text('Birmingham AL')"
   ]
  },
  {
   "cell_type": "code",
   "execution_count": 11,
   "metadata": {},
   "outputs": [
    {
     "name": "stdout",
     "output_type": "stream",
     "text": [
      "birmingham\n",
      "al\n",
      "birmingham al\n"
     ]
    }
   ],
   "source": [
    "for c in q.candidate_toponyms():\n",
    "    print(c.key())"
   ]
  },
  {
   "cell_type": "code",
   "execution_count": 12,
   "metadata": {},
   "outputs": [],
   "source": [
    "cts = list(q.candidate_toponyms())"
   ]
  },
  {
   "cell_type": "code",
   "execution_count": 13,
   "metadata": {},
   "outputs": [
    {
     "data": {
      "text/plain": [
       "[[Token(token='Birmingham', order=0)],\n",
       " [Token(token='AL', order=1)],\n",
       " [Token(token='Birmingham', order=0), Token(token='AL', order=1)]]"
      ]
     },
     "execution_count": 13,
     "metadata": {},
     "output_type": "execute_result"
    }
   ],
   "source": [
    "cts"
   ]
  },
  {
   "cell_type": "code",
   "execution_count": null,
   "metadata": {},
   "outputs": [],
   "source": []
  }
 ],
 "metadata": {
  "kernelspec": {
   "display_name": "Python 3",
   "language": "python",
   "name": "python3"
  },
  "language_info": {
   "codemirror_mode": {
    "name": "ipython",
    "version": 3
   },
   "file_extension": ".py",
   "mimetype": "text/x-python",
   "name": "python",
   "nbconvert_exporter": "python",
   "pygments_lexer": "ipython3",
   "version": "3.6.2"
  }
 },
 "nbformat": 4,
 "nbformat_minor": 2
}
