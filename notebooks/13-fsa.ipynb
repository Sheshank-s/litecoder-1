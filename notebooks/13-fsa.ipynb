{
 "cells": [
  {
   "cell_type": "code",
   "execution_count": 26,
   "metadata": {},
   "outputs": [],
   "source": [
    "import re\n",
    "\n",
    "from collections import defaultdict"
   ]
  },
  {
   "cell_type": "code",
   "execution_count": 98,
   "metadata": {},
   "outputs": [],
   "source": [
    "class Token:\n",
    "    \n",
    "    def __init__(self, token, ignore_case=True, scrub_re='\\.'):\n",
    "        \n",
    "        self.ignore_case = ignore_case\n",
    "        self.scrub_re = scrub_re\n",
    "        \n",
    "        self.token = token\n",
    "        self.token_clean = self._clean(token)\n",
    "        \n",
    "    def _clean(self, token):\n",
    "        \n",
    "        if self.ignore_case:\n",
    "            token = token.lower()\n",
    "            \n",
    "        if self.scrub_re:\n",
    "            token = re.sub(self.scrub_re, '', token)\n",
    "            \n",
    "        return token\n",
    "    \n",
    "    def __call__(self, input_token):\n",
    "        return self._clean(input_token) == self.token_clean\n",
    "    \n",
    "    def __repr__(self):\n",
    "        return '%s<%s>' % (self.__class__.__name__, self.token_clean)"
   ]
  },
  {
   "cell_type": "code",
   "execution_count": 121,
   "metadata": {},
   "outputs": [],
   "source": [
    "class Comma:\n",
    "    \n",
    "    def __call__(self, input_token):\n",
    "        return input_token == ','\n",
    "    \n",
    "    def __repr__(self):\n",
    "        return '<,>'"
   ]
  },
  {
   "cell_type": "code",
   "execution_count": 122,
   "metadata": {},
   "outputs": [],
   "source": [
    "class Empty:\n",
    "    \n",
    "    def __call__(self, input_token):\n",
    "        return True\n",
    "    \n",
    "    def __repr__(self):\n",
    "        return '<ε>'"
   ]
  },
  {
   "cell_type": "code",
   "execution_count": 123,
   "metadata": {},
   "outputs": [],
   "source": [
    "south = Token('south')"
   ]
  },
  {
   "cell_type": "code",
   "execution_count": 124,
   "metadata": {},
   "outputs": [],
   "source": [
    "class State:\n",
    "    \n",
    "    def __init__(self, index, start=False, final=False):\n",
    "        self.index = index\n",
    "        self.start = start\n",
    "        self.final = final\n",
    "        \n",
    "    def __hash__(self):\n",
    "        return self.index\n",
    "    \n",
    "    def __repr__(self):\n",
    "        return '%s<%d>' % (self.__class__.__name__, self.index)"
   ]
  },
  {
   "cell_type": "code",
   "execution_count": 125,
   "metadata": {},
   "outputs": [],
   "source": [
    "class FSA:\n",
    "    \n",
    "    def __init__(self):\n",
    "        self.edges = defaultdict(dict)\n",
    "        self.start_state = None\n",
    "        self.final_states = set()\n",
    "        \n",
    "    def add_edge(self, s1, s2, accept_fn, start=False, final=False):\n",
    "        \n",
    "        self.edges[s1][s2] = accept_fn\n",
    "        \n",
    "        if start:\n",
    "            self.start_state = s1\n",
    "            \n",
    "        if final:\n",
    "            self.final_states.add(s2)"
   ]
  },
  {
   "cell_type": "code",
   "execution_count": 126,
   "metadata": {},
   "outputs": [],
   "source": [
    "city = FSA()\n",
    "city.add_edge(0, 1, Token('South'), start=True)\n",
    "city.add_edge(1, 2, Token('Lake'))\n",
    "city.add_edge(2, 3, Token('Tahoe'))\n",
    "city.add_edge(3, 4, Comma())\n",
    "city.add_edge(3, 5, Empty())\n",
    "city.add_edge(4, 5, Empty())\n",
    "city.add_edge(5, 6, Token('CA'), final=True)\n",
    "city.add_edge(5, 7, Token('California'), final=True)"
   ]
  },
  {
   "cell_type": "code",
   "execution_count": 127,
   "metadata": {},
   "outputs": [
    {
     "data": {
      "text/plain": [
       "defaultdict(dict,\n",
       "            {0: {1: Token<south>},\n",
       "             1: {2: Token<lake>},\n",
       "             2: {3: Token<tahoe>},\n",
       "             3: {4: <,>, 5: <ε>},\n",
       "             4: {5: <ε>},\n",
       "             5: {6: Token<ca>, 7: Token<california>}})"
      ]
     },
     "execution_count": 127,
     "metadata": {},
     "output_type": "execute_result"
    }
   ],
   "source": [
    "city.edges"
   ]
  },
  {
   "cell_type": "code",
   "execution_count": 128,
   "metadata": {},
   "outputs": [
    {
     "data": {
      "text/plain": [
       "0"
      ]
     },
     "execution_count": 128,
     "metadata": {},
     "output_type": "execute_result"
    }
   ],
   "source": [
    "city.start_state"
   ]
  },
  {
   "cell_type": "code",
   "execution_count": 149,
   "metadata": {},
   "outputs": [],
   "source": [
    "class Acceptor:\n",
    "    \n",
    "    def __init__(self, fsa):\n",
    "        self.fsa = fsa\n",
    "        self._state = fsa.start_state\n",
    "        \n",
    "    def __call__(self, it):\n",
    "        \n",
    "        accepted = []\n",
    "        for state, accept_fun in self.fsa.edges[self._state].items():\n",
    "            if accept_fun(it):\n",
    "                accepted.append(state)\n",
    "        \n",
    "        if len(accepted) == 1:\n",
    "            self._state = accepted[0]\n",
    "            return True"
   ]
  },
  {
   "cell_type": "code",
   "execution_count": 153,
   "metadata": {},
   "outputs": [],
   "source": [
    "acc = Acceptor(city)"
   ]
  },
  {
   "cell_type": "code",
   "execution_count": 154,
   "metadata": {},
   "outputs": [
    {
     "data": {
      "text/plain": [
       "True"
      ]
     },
     "execution_count": 154,
     "metadata": {},
     "output_type": "execute_result"
    }
   ],
   "source": [
    "acc('south')"
   ]
  },
  {
   "cell_type": "code",
   "execution_count": 158,
   "metadata": {},
   "outputs": [],
   "source": [
    "acc('lake')"
   ]
  },
  {
   "cell_type": "code",
   "execution_count": 156,
   "metadata": {},
   "outputs": [
    {
     "data": {
      "text/plain": [
       "True"
      ]
     },
     "execution_count": 156,
     "metadata": {},
     "output_type": "execute_result"
    }
   ],
   "source": [
    "acc('tahoe')"
   ]
  },
  {
   "cell_type": "code",
   "execution_count": null,
   "metadata": {},
   "outputs": [],
   "source": []
  }
 ],
 "metadata": {
  "kernelspec": {
   "display_name": "Python 3",
   "language": "python",
   "name": "python3"
  },
  "language_info": {
   "codemirror_mode": {
    "name": "ipython",
    "version": 3
   },
   "file_extension": ".py",
   "mimetype": "text/x-python",
   "name": "python",
   "nbconvert_exporter": "python",
   "pygments_lexer": "ipython3",
   "version": "3.6.5"
  }
 },
 "nbformat": 4,
 "nbformat_minor": 2
}
