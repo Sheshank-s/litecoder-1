{
 "cells": [
  {
   "cell_type": "code",
   "execution_count": 1,
   "metadata": {},
   "outputs": [],
   "source": [
    "import pandas as pd\n",
    "\n",
    "from tqdm import tqdm\n",
    "\n",
    "from litecoder.usa import USCityIndex, USStateIndex"
   ]
  },
  {
   "cell_type": "code",
   "execution_count": 2,
   "metadata": {},
   "outputs": [
    {
     "name": "stdout",
     "output_type": "stream",
     "text": [
      "2018-07-23 01:23:49,272 | INFO : Indexing name -> populations.\n"
     ]
    },
    {
     "name": "stderr",
     "output_type": "stream",
     "text": [
      "344249it [00:13, 26065.39it/s]"
     ]
    },
    {
     "name": "stdout",
     "output_type": "stream",
     "text": [
      "2018-07-23 01:24:12,106 | INFO : Indexing US cities.\n"
     ]
    },
    {
     "name": "stderr",
     "output_type": "stream",
     "text": [
      "\n",
      "54727it [00:07, 7156.17it/s]\n"
     ]
    }
   ],
   "source": [
    "city_idx = USCityIndex()\n",
    "city_idx.build()"
   ]
  },
  {
   "cell_type": "code",
   "execution_count": 3,
   "metadata": {},
   "outputs": [
    {
     "name": "stdout",
     "output_type": "stream",
     "text": [
      "2018-07-23 01:24:24,944 | INFO : Indexing US states.\n"
     ]
    },
    {
     "name": "stderr",
     "output_type": "stream",
     "text": [
      "51it [00:00, 5889.74it/s]\n"
     ]
    }
   ],
   "source": [
    "state_idx = USStateIndex()\n",
    "state_idx.build()"
   ]
  },
  {
   "cell_type": "code",
   "execution_count": 4,
   "metadata": {},
   "outputs": [
    {
     "data": {
      "text/plain": [
       "USCityIndex<637590 keys, 54727 entities>"
      ]
     },
     "execution_count": 4,
     "metadata": {},
     "output_type": "execute_result"
    }
   ],
   "source": [
    "city_idx"
   ]
  },
  {
   "cell_type": "code",
   "execution_count": 5,
   "metadata": {},
   "outputs": [
    {
     "data": {
      "text/plain": [
       "USStateIndex<561 keys, 51 entities>"
      ]
     },
     "execution_count": 5,
     "metadata": {},
     "output_type": "execute_result"
    }
   ],
   "source": [
    "state_idx"
   ]
  },
  {
   "cell_type": "code",
   "execution_count": 6,
   "metadata": {},
   "outputs": [
    {
     "name": "stdout",
     "output_type": "stream",
     "text": [
      "CPU times: user 24 µs, sys: 1e+03 ns, total: 25 µs\n",
      "Wall time: 27.9 µs\n"
     ]
    },
    {
     "data": {
      "text/plain": [
       "[{'area_m2': 19335596.260778,\n",
       "  'country_iso': 'US',\n",
       "  'dbpedia_id': None,\n",
       "  'elevation': 271,\n",
       "  'factual_id': '08bf0c70-8f76-11e1-848f-cfd5bf3ef515',\n",
       "  'fips_code': 5504625,\n",
       "  'freebase_id': None,\n",
       "  'geonames_id': 5244638,\n",
       "  'geoplanet_id': 2359079,\n",
       "  'latitude': 43.469626,\n",
       "  'library_of_congress_id': None,\n",
       "  'longitude': -89.737824,\n",
       "  'name': 'Baraboo',\n",
       "  'name_a0': 'United States',\n",
       "  'name_a1': 'Wisconsin',\n",
       "  'new_york_times_id': None,\n",
       "  'population': 12048,\n",
       "  'quattroshapes_id': 813534,\n",
       "  'wikidata_id': 'Q1023544',\n",
       "  'wikipedia_page': 'Baraboo, Wisconsin',\n",
       "  'wikipedia_wordcount': 2028,\n",
       "  'wof_id': 101733429,\n",
       "  'wof_region_id': 85688517}]"
      ]
     },
     "execution_count": 6,
     "metadata": {},
     "output_type": "execute_result"
    }
   ],
   "source": [
    "%time city_idx['Baraboo, WI']"
   ]
  },
  {
   "cell_type": "code",
   "execution_count": 7,
   "metadata": {},
   "outputs": [
    {
     "name": "stdout",
     "output_type": "stream",
     "text": [
      "CPU times: user 21 µs, sys: 1 µs, total: 22 µs\n",
      "Wall time: 23.8 µs\n"
     ]
    },
    {
     "data": {
      "text/plain": [
       "[{'area_m2': 182609378555.8498,\n",
       "  'country_iso': 'US',\n",
       "  'fips_code': 'US38',\n",
       "  'geonames_id': 5690763,\n",
       "  'geoplanet_id': 2347593,\n",
       "  'iso_id': 'US-ND',\n",
       "  'latitude': 47.446315,\n",
       "  'longitude': -100.469334,\n",
       "  'name': 'North Dakota',\n",
       "  'name_a0': 'United States',\n",
       "  'name_abbr': 'ND',\n",
       "  'population': 672591,\n",
       "  'wikidata_id': 'Q1207',\n",
       "  'wof_country_id': 85633793,\n",
       "  'wof_id': 85688525}]"
      ]
     },
     "execution_count": 7,
     "metadata": {},
     "output_type": "execute_result"
    }
   ],
   "source": [
    "%time state_idx['north dakota']"
   ]
  },
  {
   "cell_type": "code",
   "execution_count": 8,
   "metadata": {},
   "outputs": [],
   "source": [
    "city_idx.save('cities.p')"
   ]
  },
  {
   "cell_type": "code",
   "execution_count": 9,
   "metadata": {},
   "outputs": [],
   "source": [
    "state_idx.save('states.p')"
   ]
  }
 ],
 "metadata": {
  "kernelspec": {
   "display_name": "Python 3",
   "language": "python",
   "name": "python3"
  },
  "language_info": {
   "codemirror_mode": {
    "name": "ipython",
    "version": 3
   },
   "file_extension": ".py",
   "mimetype": "text/x-python",
   "name": "python",
   "nbconvert_exporter": "python",
   "pygments_lexer": "ipython3",
   "version": "3.6.5"
  }
 },
 "nbformat": 4,
 "nbformat_minor": 2
}
