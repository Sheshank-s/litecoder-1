{
 "cells": [
  {
   "cell_type": "code",
   "execution_count": 7,
   "metadata": {},
   "outputs": [],
   "source": [
    "import pygtrie\n",
    "import re\n",
    "\n",
    "from tqdm import tqdm\n",
    "\n",
    "from litecoder.db import City"
   ]
  },
  {
   "cell_type": "code",
   "execution_count": 2,
   "metadata": {},
   "outputs": [
    {
     "data": {
      "text/plain": [
       "54285"
      ]
     },
     "execution_count": 2,
     "metadata": {},
     "output_type": "execute_result"
    }
   ],
   "source": [
    "City.query.count()"
   ]
  },
  {
   "cell_type": "code",
   "execution_count": 3,
   "metadata": {},
   "outputs": [],
   "source": [
    "def keys_iter(row):\n",
    "    \n",
    "    states = (row.state_name, row.state_abbr)\n",
    "    \n",
    "    for state in states:\n",
    "        yield '%s %s' % (row.name, state)\n",
    "    \n",
    "    if row.population and row.population > 500000:\n",
    "        yield row.name"
   ]
  },
  {
   "cell_type": "code",
   "execution_count": 4,
   "metadata": {},
   "outputs": [],
   "source": [
    "def make_key(text, lower=True):\n",
    "    \"\"\"Normalize text string -> index key.\n",
    "    \"\"\"\n",
    "    text = text.strip()\n",
    "    \n",
    "    # Remove periods\n",
    "    text = re.sub('\\.', '', text)\n",
    "    \n",
    "    # Comma -> space\n",
    "    text = re.sub(',', ' ', text)\n",
    "    \n",
    "    # 2+ whitespace -> space\n",
    "    text = re.sub('\\s{2,}', ' ', text)\n",
    "\n",
    "    if lower:\n",
    "        text = text.lower()\n",
    "\n",
    "    return text"
   ]
  },
  {
   "cell_type": "code",
   "execution_count": 41,
   "metadata": {},
   "outputs": [
    {
     "name": "stderr",
     "output_type": "stream",
     "text": [
      "54285it [00:04, 11996.96it/s]\n"
     ]
    }
   ],
   "source": [
    "idx = pygtrie.StringTrie(separator=' ')\n",
    "\n",
    "for c in tqdm(City.query):\n",
    "    for key_raw in keys_iter(c):\n",
    "        \n",
    "        key = make_key(key_raw)\n",
    "        \n",
    "        if key in idx:\n",
    "            idx[key] = (*idx[key], c.wof_id)\n",
    "            \n",
    "        else:\n",
    "            idx[key] = (c.wof_id,)"
   ]
  },
  {
   "cell_type": "code",
   "execution_count": 46,
   "metadata": {},
   "outputs": [
    {
     "name": "stdout",
     "output_type": "stream",
     "text": [
      "CPU times: user 33 µs, sys: 0 ns, total: 33 µs\n",
      "Wall time: 35.8 µs\n"
     ]
    },
    {
     "data": {
      "text/plain": [
       "('hayfork ca', (85927687,))"
      ]
     },
     "execution_count": 46,
     "metadata": {},
     "output_type": "execute_result"
    }
   ],
   "source": [
    "%time idx.longest_prefix(make_key('hayfork ca'))"
   ]
  },
  {
   "cell_type": "code",
   "execution_count": null,
   "metadata": {},
   "outputs": [],
   "source": []
  }
 ],
 "metadata": {
  "kernelspec": {
   "display_name": "Python 3",
   "language": "python",
   "name": "python3"
  },
  "language_info": {
   "codemirror_mode": {
    "name": "ipython",
    "version": 3
   },
   "file_extension": ".py",
   "mimetype": "text/x-python",
   "name": "python",
   "nbconvert_exporter": "python",
   "pygments_lexer": "ipython3",
   "version": "3.6.5"
  }
 },
 "nbformat": 4,
 "nbformat_minor": 2
}
